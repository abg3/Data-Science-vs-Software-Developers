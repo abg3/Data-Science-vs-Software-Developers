{
 "cells": [
  {
   "cell_type": "markdown",
   "metadata": {},
   "source": [
    "# DATA SCIENTIST VS SOFTWARE DEVELOPER SURVEY ANALYSIS"
   ]
  },
  {
   "cell_type": "markdown",
   "metadata": {},
   "source": [
    "# 1. Business Understanding\n",
    "\n",
    "A decade ago and even today, data scientist is the most sought after job. However, within the last few years, machine learning has progressed immensely. Model training has become automated with the rise of cloud computing technologies and data scientists barely work on models rather more on data preprocessing which directly involves coding. It is more about playing with the data rather than research and experimentation of different models. This shift in trend is visible and is the reason why data science jobs require more candidates who can demonstrate coding experience. I am curious to find out if this is the case, is it wiser to become a software developer rather than the much-hyped data scientists? Can you break into data science without software development?\n",
    "\n",
    "\n",
    "## Business Questions\n",
    "\n",
    "The motivation behind this analysis is to explore how data scientists compare with software developers. I am curious to determine answers to some of the below interesting questions:\n",
    "\n",
    "- What percentage of professional developers are satisfied in data science career?\n",
    "- What is the demographic profile of software developers vs data scientists in terms of gender,and sources of education?\n",
    "- What are the top 10 programming languages data professionals favour and how do they differ from software developers?\n",
    "- Is professional coding experience required to become data scientists? What is their average professional coding experience?\n",
    "- Do data scientists prefer to work from home than software developers?\n",
    "- Among the two, who has a better work life balance?"
   ]
  },
  {
   "cell_type": "markdown",
   "metadata": {},
   "source": [
    "# Data Understanding\n",
    "\n",
    "\n",
    "The enclosed data set is the full, cleaned results of the 2019 Stack Overflow Developer Survey. Free response submissions and personally identifying information have been removed from the results to protect the privacy of respondents. There are total three files.\n",
    "\n",
    "1. survey_results_public.csv - CSV file with main survey results, one respondent per row and one column per answer\n",
    "2. survey_results_schema.csv - CSV file with survey schema, i.e., the questions that correspond to each column name\n",
    "3. so_survey_2019.pdf - PDF file of survey instrument\n",
    "\n",
    "The survey was fielded from January 23 to February 14, 2019. The median time spent on the survey for qualified responses was 23.3 minutes.\n",
    "\n",
    "Respondents were recruited primarily through channels owned by Stack Overflow. The top 5 sources of respondents were onsite messaging, blog posts, email lists, Meta posts, banner ads, and social media posts. Since respondents were recruited in this way, highly engaged users on Stack Overflow were more likely to notice the links for the survey and click to begin it.\n",
    "\n",
    "For this notebook, you can find the official published dataset at this link:\n",
    "\n",
    "https://insights.stackoverflow.com/survey/2019\n",
    "\n",
    "For previous survey results here, you can access the below link:\n",
    "\n",
    "https://insights.stackoverflow.com/survey\n",
    "\n"
   ]
  },
  {
   "cell_type": "code",
   "execution_count": 1,
   "metadata": {},
   "outputs": [
    {
     "name": "stderr",
     "output_type": "stream",
     "text": [
      "C:\\Users\\AB\\Anaconda3\\lib\\site-packages\\statsmodels\\tools\\_testing.py:19: FutureWarning: pandas.util.testing is deprecated. Use the functions in the public API at pandas.testing instead.\n",
      "  import pandas.util.testing as tm\n"
     ]
    }
   ],
   "source": [
    "# Import libraries\n",
    "import pandas as pd\n",
    "import numpy as np\n",
    "from collections import Counter\n",
    "import matplotlib.pyplot as plt\n",
    "import seaborn as sns\n",
    "import scipy.stats\n",
    "import warnings\n",
    "\n",
    "warnings.simplefilter('ignore')\n",
    "%matplotlib inline"
   ]
  },
  {
   "cell_type": "code",
   "execution_count": 2,
   "metadata": {},
   "outputs": [
    {
     "data": {
      "text/html": [
       "<div>\n",
       "<style scoped>\n",
       "    .dataframe tbody tr th:only-of-type {\n",
       "        vertical-align: middle;\n",
       "    }\n",
       "\n",
       "    .dataframe tbody tr th {\n",
       "        vertical-align: top;\n",
       "    }\n",
       "\n",
       "    .dataframe thead th {\n",
       "        text-align: right;\n",
       "    }\n",
       "</style>\n",
       "<table border=\"1\" class=\"dataframe\">\n",
       "  <thead>\n",
       "    <tr style=\"text-align: right;\">\n",
       "      <th></th>\n",
       "      <th>Respondent</th>\n",
       "      <th>MainBranch</th>\n",
       "      <th>Hobbyist</th>\n",
       "      <th>OpenSourcer</th>\n",
       "      <th>OpenSource</th>\n",
       "      <th>Employment</th>\n",
       "      <th>Country</th>\n",
       "      <th>Student</th>\n",
       "      <th>EdLevel</th>\n",
       "      <th>UndergradMajor</th>\n",
       "      <th>...</th>\n",
       "      <th>WelcomeChange</th>\n",
       "      <th>SONewContent</th>\n",
       "      <th>Age</th>\n",
       "      <th>Gender</th>\n",
       "      <th>Trans</th>\n",
       "      <th>Sexuality</th>\n",
       "      <th>Ethnicity</th>\n",
       "      <th>Dependents</th>\n",
       "      <th>SurveyLength</th>\n",
       "      <th>SurveyEase</th>\n",
       "    </tr>\n",
       "  </thead>\n",
       "  <tbody>\n",
       "    <tr>\n",
       "      <th>0</th>\n",
       "      <td>1</td>\n",
       "      <td>I am a student who is learning to code</td>\n",
       "      <td>Yes</td>\n",
       "      <td>Never</td>\n",
       "      <td>The quality of OSS and closed source software ...</td>\n",
       "      <td>Not employed, and not looking for work</td>\n",
       "      <td>United Kingdom</td>\n",
       "      <td>No</td>\n",
       "      <td>Primary/elementary school</td>\n",
       "      <td>NaN</td>\n",
       "      <td>...</td>\n",
       "      <td>Just as welcome now as I felt last year</td>\n",
       "      <td>Tech articles written by other developers;Indu...</td>\n",
       "      <td>14.0</td>\n",
       "      <td>Man</td>\n",
       "      <td>No</td>\n",
       "      <td>Straight / Heterosexual</td>\n",
       "      <td>NaN</td>\n",
       "      <td>No</td>\n",
       "      <td>Appropriate in length</td>\n",
       "      <td>Neither easy nor difficult</td>\n",
       "    </tr>\n",
       "    <tr>\n",
       "      <th>1</th>\n",
       "      <td>2</td>\n",
       "      <td>I am a student who is learning to code</td>\n",
       "      <td>No</td>\n",
       "      <td>Less than once per year</td>\n",
       "      <td>The quality of OSS and closed source software ...</td>\n",
       "      <td>Not employed, but looking for work</td>\n",
       "      <td>Bosnia and Herzegovina</td>\n",
       "      <td>Yes, full-time</td>\n",
       "      <td>Secondary school (e.g. American high school, G...</td>\n",
       "      <td>NaN</td>\n",
       "      <td>...</td>\n",
       "      <td>Just as welcome now as I felt last year</td>\n",
       "      <td>Tech articles written by other developers;Indu...</td>\n",
       "      <td>19.0</td>\n",
       "      <td>Man</td>\n",
       "      <td>No</td>\n",
       "      <td>Straight / Heterosexual</td>\n",
       "      <td>NaN</td>\n",
       "      <td>No</td>\n",
       "      <td>Appropriate in length</td>\n",
       "      <td>Neither easy nor difficult</td>\n",
       "    </tr>\n",
       "    <tr>\n",
       "      <th>2</th>\n",
       "      <td>3</td>\n",
       "      <td>I am not primarily a developer, but I write co...</td>\n",
       "      <td>Yes</td>\n",
       "      <td>Never</td>\n",
       "      <td>The quality of OSS and closed source software ...</td>\n",
       "      <td>Employed full-time</td>\n",
       "      <td>Thailand</td>\n",
       "      <td>No</td>\n",
       "      <td>Bachelor’s degree (BA, BS, B.Eng., etc.)</td>\n",
       "      <td>Web development or web design</td>\n",
       "      <td>...</td>\n",
       "      <td>Just as welcome now as I felt last year</td>\n",
       "      <td>Tech meetups or events in your area;Courses on...</td>\n",
       "      <td>28.0</td>\n",
       "      <td>Man</td>\n",
       "      <td>No</td>\n",
       "      <td>Straight / Heterosexual</td>\n",
       "      <td>NaN</td>\n",
       "      <td>Yes</td>\n",
       "      <td>Appropriate in length</td>\n",
       "      <td>Neither easy nor difficult</td>\n",
       "    </tr>\n",
       "    <tr>\n",
       "      <th>3</th>\n",
       "      <td>4</td>\n",
       "      <td>I am a developer by profession</td>\n",
       "      <td>No</td>\n",
       "      <td>Never</td>\n",
       "      <td>The quality of OSS and closed source software ...</td>\n",
       "      <td>Employed full-time</td>\n",
       "      <td>United States</td>\n",
       "      <td>No</td>\n",
       "      <td>Bachelor’s degree (BA, BS, B.Eng., etc.)</td>\n",
       "      <td>Computer science, computer engineering, or sof...</td>\n",
       "      <td>...</td>\n",
       "      <td>Just as welcome now as I felt last year</td>\n",
       "      <td>Tech articles written by other developers;Indu...</td>\n",
       "      <td>22.0</td>\n",
       "      <td>Man</td>\n",
       "      <td>No</td>\n",
       "      <td>Straight / Heterosexual</td>\n",
       "      <td>White or of European descent</td>\n",
       "      <td>No</td>\n",
       "      <td>Appropriate in length</td>\n",
       "      <td>Easy</td>\n",
       "    </tr>\n",
       "    <tr>\n",
       "      <th>4</th>\n",
       "      <td>5</td>\n",
       "      <td>I am a developer by profession</td>\n",
       "      <td>Yes</td>\n",
       "      <td>Once a month or more often</td>\n",
       "      <td>OSS is, on average, of HIGHER quality than pro...</td>\n",
       "      <td>Employed full-time</td>\n",
       "      <td>Ukraine</td>\n",
       "      <td>No</td>\n",
       "      <td>Bachelor’s degree (BA, BS, B.Eng., etc.)</td>\n",
       "      <td>Computer science, computer engineering, or sof...</td>\n",
       "      <td>...</td>\n",
       "      <td>Just as welcome now as I felt last year</td>\n",
       "      <td>Tech meetups or events in your area;Courses on...</td>\n",
       "      <td>30.0</td>\n",
       "      <td>Man</td>\n",
       "      <td>No</td>\n",
       "      <td>Straight / Heterosexual</td>\n",
       "      <td>White or of European descent;Multiracial</td>\n",
       "      <td>No</td>\n",
       "      <td>Appropriate in length</td>\n",
       "      <td>Easy</td>\n",
       "    </tr>\n",
       "  </tbody>\n",
       "</table>\n",
       "<p>5 rows × 85 columns</p>\n",
       "</div>"
      ],
      "text/plain": [
       "   Respondent                                         MainBranch Hobbyist  \\\n",
       "0           1             I am a student who is learning to code      Yes   \n",
       "1           2             I am a student who is learning to code       No   \n",
       "2           3  I am not primarily a developer, but I write co...      Yes   \n",
       "3           4                     I am a developer by profession       No   \n",
       "4           5                     I am a developer by profession      Yes   \n",
       "\n",
       "                  OpenSourcer  \\\n",
       "0                       Never   \n",
       "1     Less than once per year   \n",
       "2                       Never   \n",
       "3                       Never   \n",
       "4  Once a month or more often   \n",
       "\n",
       "                                          OpenSource  \\\n",
       "0  The quality of OSS and closed source software ...   \n",
       "1  The quality of OSS and closed source software ...   \n",
       "2  The quality of OSS and closed source software ...   \n",
       "3  The quality of OSS and closed source software ...   \n",
       "4  OSS is, on average, of HIGHER quality than pro...   \n",
       "\n",
       "                               Employment                 Country  \\\n",
       "0  Not employed, and not looking for work          United Kingdom   \n",
       "1      Not employed, but looking for work  Bosnia and Herzegovina   \n",
       "2                      Employed full-time                Thailand   \n",
       "3                      Employed full-time           United States   \n",
       "4                      Employed full-time                 Ukraine   \n",
       "\n",
       "          Student                                            EdLevel  \\\n",
       "0              No                          Primary/elementary school   \n",
       "1  Yes, full-time  Secondary school (e.g. American high school, G...   \n",
       "2              No           Bachelor’s degree (BA, BS, B.Eng., etc.)   \n",
       "3              No           Bachelor’s degree (BA, BS, B.Eng., etc.)   \n",
       "4              No           Bachelor’s degree (BA, BS, B.Eng., etc.)   \n",
       "\n",
       "                                      UndergradMajor  ...  \\\n",
       "0                                                NaN  ...   \n",
       "1                                                NaN  ...   \n",
       "2                      Web development or web design  ...   \n",
       "3  Computer science, computer engineering, or sof...  ...   \n",
       "4  Computer science, computer engineering, or sof...  ...   \n",
       "\n",
       "                             WelcomeChange  \\\n",
       "0  Just as welcome now as I felt last year   \n",
       "1  Just as welcome now as I felt last year   \n",
       "2  Just as welcome now as I felt last year   \n",
       "3  Just as welcome now as I felt last year   \n",
       "4  Just as welcome now as I felt last year   \n",
       "\n",
       "                                        SONewContent   Age Gender Trans  \\\n",
       "0  Tech articles written by other developers;Indu...  14.0    Man    No   \n",
       "1  Tech articles written by other developers;Indu...  19.0    Man    No   \n",
       "2  Tech meetups or events in your area;Courses on...  28.0    Man    No   \n",
       "3  Tech articles written by other developers;Indu...  22.0    Man    No   \n",
       "4  Tech meetups or events in your area;Courses on...  30.0    Man    No   \n",
       "\n",
       "                 Sexuality                                 Ethnicity  \\\n",
       "0  Straight / Heterosexual                                       NaN   \n",
       "1  Straight / Heterosexual                                       NaN   \n",
       "2  Straight / Heterosexual                                       NaN   \n",
       "3  Straight / Heterosexual              White or of European descent   \n",
       "4  Straight / Heterosexual  White or of European descent;Multiracial   \n",
       "\n",
       "  Dependents           SurveyLength                  SurveyEase  \n",
       "0         No  Appropriate in length  Neither easy nor difficult  \n",
       "1         No  Appropriate in length  Neither easy nor difficult  \n",
       "2        Yes  Appropriate in length  Neither easy nor difficult  \n",
       "3         No  Appropriate in length                        Easy  \n",
       "4         No  Appropriate in length                        Easy  \n",
       "\n",
       "[5 rows x 85 columns]"
      ]
     },
     "execution_count": 2,
     "metadata": {},
     "output_type": "execute_result"
    }
   ],
   "source": [
    "# Read in dataset\n",
    "survey = pd.read_csv(\"survey_results_public.csv\")\n",
    "survey.head()"
   ]
  },
  {
   "cell_type": "code",
   "execution_count": 3,
   "metadata": {},
   "outputs": [
    {
     "data": {
      "text/plain": [
       "(88883, 85)"
      ]
     },
     "execution_count": 3,
     "metadata": {},
     "output_type": "execute_result"
    }
   ],
   "source": [
    "survey.shape"
   ]
  },
  {
   "cell_type": "code",
   "execution_count": 4,
   "metadata": {},
   "outputs": [
    {
     "data": {
      "text/plain": [
       "['Respondent',\n",
       " 'MainBranch',\n",
       " 'Hobbyist',\n",
       " 'OpenSourcer',\n",
       " 'OpenSource',\n",
       " 'Employment',\n",
       " 'Country',\n",
       " 'Student',\n",
       " 'EdLevel',\n",
       " 'UndergradMajor',\n",
       " 'EduOther',\n",
       " 'OrgSize',\n",
       " 'DevType',\n",
       " 'YearsCode',\n",
       " 'Age1stCode',\n",
       " 'YearsCodePro',\n",
       " 'CareerSat',\n",
       " 'JobSat',\n",
       " 'MgrIdiot',\n",
       " 'MgrMoney',\n",
       " 'MgrWant',\n",
       " 'JobSeek',\n",
       " 'LastHireDate',\n",
       " 'LastInt',\n",
       " 'FizzBuzz',\n",
       " 'JobFactors',\n",
       " 'ResumeUpdate',\n",
       " 'CurrencySymbol',\n",
       " 'CurrencyDesc',\n",
       " 'CompTotal',\n",
       " 'CompFreq',\n",
       " 'ConvertedComp',\n",
       " 'WorkWeekHrs',\n",
       " 'WorkPlan',\n",
       " 'WorkChallenge',\n",
       " 'WorkRemote',\n",
       " 'WorkLoc',\n",
       " 'ImpSyn',\n",
       " 'CodeRev',\n",
       " 'CodeRevHrs',\n",
       " 'UnitTests',\n",
       " 'PurchaseHow',\n",
       " 'PurchaseWhat',\n",
       " 'LanguageWorkedWith',\n",
       " 'LanguageDesireNextYear',\n",
       " 'DatabaseWorkedWith',\n",
       " 'DatabaseDesireNextYear',\n",
       " 'PlatformWorkedWith',\n",
       " 'PlatformDesireNextYear',\n",
       " 'WebFrameWorkedWith',\n",
       " 'WebFrameDesireNextYear',\n",
       " 'MiscTechWorkedWith',\n",
       " 'MiscTechDesireNextYear',\n",
       " 'DevEnviron',\n",
       " 'OpSys',\n",
       " 'Containers',\n",
       " 'BlockchainOrg',\n",
       " 'BlockchainIs',\n",
       " 'BetterLife',\n",
       " 'ITperson',\n",
       " 'OffOn',\n",
       " 'SocialMedia',\n",
       " 'Extraversion',\n",
       " 'ScreenName',\n",
       " 'SOVisit1st',\n",
       " 'SOVisitFreq',\n",
       " 'SOVisitTo',\n",
       " 'SOFindAnswer',\n",
       " 'SOTimeSaved',\n",
       " 'SOHowMuchTime',\n",
       " 'SOAccount',\n",
       " 'SOPartFreq',\n",
       " 'SOJobs',\n",
       " 'EntTeams',\n",
       " 'SOComm',\n",
       " 'WelcomeChange',\n",
       " 'SONewContent',\n",
       " 'Age',\n",
       " 'Gender',\n",
       " 'Trans',\n",
       " 'Sexuality',\n",
       " 'Ethnicity',\n",
       " 'Dependents',\n",
       " 'SurveyLength',\n",
       " 'SurveyEase']"
      ]
     },
     "execution_count": 4,
     "metadata": {},
     "output_type": "execute_result"
    }
   ],
   "source": [
    "# Print column names\n",
    "list(survey.columns.values)"
   ]
  },
  {
   "cell_type": "markdown",
   "metadata": {},
   "source": [
    "# Data Preparation"
   ]
  },
  {
   "cell_type": "markdown",
   "metadata": {},
   "source": [
    "#### Exploratory Data Analysis"
   ]
  },
  {
   "cell_type": "code",
   "execution_count": 5,
   "metadata": {},
   "outputs": [],
   "source": [
    "# Delete rows where DevType is missing\n",
    "survey = survey[pd.notnull(survey['DevType'])]"
   ]
  },
  {
   "cell_type": "code",
   "execution_count": 6,
   "metadata": {},
   "outputs": [
    {
     "name": "stdout",
     "output_type": "stream",
     "text": [
      "The reduced dataset contains 81335 rows and 85 columns.\n"
     ]
    }
   ],
   "source": [
    "# Print size of reduced dataset\n",
    "print('The reduced dataset contains', np.shape(survey)[0], 'rows and', np.shape(survey)[1], 'columns.')"
   ]
  },
  {
   "cell_type": "code",
   "execution_count": 7,
   "metadata": {},
   "outputs": [
    {
     "data": {
      "text/html": [
       "<div>\n",
       "<style scoped>\n",
       "    .dataframe tbody tr th:only-of-type {\n",
       "        vertical-align: middle;\n",
       "    }\n",
       "\n",
       "    .dataframe tbody tr th {\n",
       "        vertical-align: top;\n",
       "    }\n",
       "\n",
       "    .dataframe thead th {\n",
       "        text-align: right;\n",
       "    }\n",
       "</style>\n",
       "<table border=\"1\" class=\"dataframe\">\n",
       "  <thead>\n",
       "    <tr style=\"text-align: right;\">\n",
       "      <th></th>\n",
       "      <th>CompTotal</th>\n",
       "      <th>ConvertedComp</th>\n",
       "      <th>WorkWeekHrs</th>\n",
       "      <th>CodeRevHrs</th>\n",
       "      <th>Age</th>\n",
       "    </tr>\n",
       "  </thead>\n",
       "  <tbody>\n",
       "    <tr>\n",
       "      <th>count</th>\n",
       "      <td>5.519700e+04</td>\n",
       "      <td>5.508100e+04</td>\n",
       "      <td>63575.000000</td>\n",
       "      <td>49229.000000</td>\n",
       "      <td>73565.000000</td>\n",
       "    </tr>\n",
       "    <tr>\n",
       "      <th>mean</th>\n",
       "      <td>5.592667e+11</td>\n",
       "      <td>1.268504e+05</td>\n",
       "      <td>42.105865</td>\n",
       "      <td>5.069760</td>\n",
       "      <td>30.699829</td>\n",
       "    </tr>\n",
       "    <tr>\n",
       "      <th>std</th>\n",
       "      <td>7.381436e+13</td>\n",
       "      <td>2.836657e+05</td>\n",
       "      <td>37.405312</td>\n",
       "      <td>5.453745</td>\n",
       "      <td>8.649460</td>\n",
       "    </tr>\n",
       "    <tr>\n",
       "      <th>min</th>\n",
       "      <td>0.000000e+00</td>\n",
       "      <td>0.000000e+00</td>\n",
       "      <td>1.000000</td>\n",
       "      <td>0.000000</td>\n",
       "      <td>1.000000</td>\n",
       "    </tr>\n",
       "    <tr>\n",
       "      <th>25%</th>\n",
       "      <td>2.000000e+04</td>\n",
       "      <td>2.575200e+04</td>\n",
       "      <td>40.000000</td>\n",
       "      <td>2.000000</td>\n",
       "      <td>25.000000</td>\n",
       "    </tr>\n",
       "    <tr>\n",
       "      <th>50%</th>\n",
       "      <td>6.200000e+04</td>\n",
       "      <td>5.728700e+04</td>\n",
       "      <td>40.000000</td>\n",
       "      <td>4.000000</td>\n",
       "      <td>29.000000</td>\n",
       "    </tr>\n",
       "    <tr>\n",
       "      <th>75%</th>\n",
       "      <td>1.200000e+05</td>\n",
       "      <td>1.000000e+05</td>\n",
       "      <td>44.000000</td>\n",
       "      <td>6.000000</td>\n",
       "      <td>35.000000</td>\n",
       "    </tr>\n",
       "    <tr>\n",
       "      <th>max</th>\n",
       "      <td>1.000000e+16</td>\n",
       "      <td>2.000000e+06</td>\n",
       "      <td>4850.000000</td>\n",
       "      <td>99.000000</td>\n",
       "      <td>99.000000</td>\n",
       "    </tr>\n",
       "  </tbody>\n",
       "</table>\n",
       "</div>"
      ],
      "text/plain": [
       "          CompTotal  ConvertedComp   WorkWeekHrs    CodeRevHrs           Age\n",
       "count  5.519700e+04   5.508100e+04  63575.000000  49229.000000  73565.000000\n",
       "mean   5.592667e+11   1.268504e+05     42.105865      5.069760     30.699829\n",
       "std    7.381436e+13   2.836657e+05     37.405312      5.453745      8.649460\n",
       "min    0.000000e+00   0.000000e+00      1.000000      0.000000      1.000000\n",
       "25%    2.000000e+04   2.575200e+04     40.000000      2.000000     25.000000\n",
       "50%    6.200000e+04   5.728700e+04     40.000000      4.000000     29.000000\n",
       "75%    1.200000e+05   1.000000e+05     44.000000      6.000000     35.000000\n",
       "max    1.000000e+16   2.000000e+06   4850.000000     99.000000     99.000000"
      ]
     },
     "execution_count": 7,
     "metadata": {},
     "output_type": "execute_result"
    }
   ],
   "source": [
    "# Look at descriptive statistics for data (ignore Respondent since this is just an ID field)\n",
    "survey.drop(['Respondent'], axis = 1).describe()"
   ]
  },
  {
   "cell_type": "code",
   "execution_count": 8,
   "metadata": {},
   "outputs": [
    {
     "data": {
      "text/plain": [
       "Developer, full-stack                                                                                           8433\n",
       "Developer, back-end                                                                                             4913\n",
       "Developer, back-end;Developer, front-end;Developer, full-stack                                                  2399\n",
       "Developer, front-end                                                                                            2212\n",
       "Developer, mobile                                                                                               2172\n",
       "Developer, back-end;Developer, full-stack                                                                       2047\n",
       "Student                                                                                                         1515\n",
       "Developer, front-end;Developer, full-stack                                                                      1023\n",
       "Developer, desktop or enterprise applications                                                                   1005\n",
       "Developer, back-end;Developer, desktop or enterprise applications;Developer, front-end;Developer, full-stack     885\n",
       "Name: DevType, dtype: int64"
      ]
     },
     "execution_count": 8,
     "metadata": {},
     "output_type": "execute_result"
    }
   ],
   "source": [
    "# Display (top 10) value counts for DevType\n",
    "survey['DevType'].value_counts().nlargest(10)"
   ]
  },
  {
   "cell_type": "code",
   "execution_count": 9,
   "metadata": {},
   "outputs": [
    {
     "data": {
      "text/plain": [
       "Man                                                            71987\n",
       "Woman                                                           5810\n",
       "Non-binary, genderqueer, or gender non-conforming                512\n",
       "Man;Non-binary, genderqueer, or gender non-conforming            164\n",
       "Woman;Non-binary, genderqueer, or gender non-conforming          147\n",
       "Woman;Man                                                        113\n",
       "Woman;Man;Non-binary, genderqueer, or gender non-conforming       55\n",
       "Name: Gender, dtype: int64"
      ]
     },
     "execution_count": 9,
     "metadata": {},
     "output_type": "execute_result"
    }
   ],
   "source": [
    "# Display value counts for Gender\n",
    "survey['Gender'].value_counts()"
   ]
  },
  {
   "cell_type": "code",
   "execution_count": 10,
   "metadata": {},
   "outputs": [
    {
     "data": {
      "text/plain": [
       "25.0    4522\n",
       "27.0    4314\n",
       "26.0    4290\n",
       "28.0    4283\n",
       "24.0    4268\n",
       "        ... \n",
       "97.0       1\n",
       "29.5       1\n",
       "77.0       1\n",
       "37.5       1\n",
       "30.8       1\n",
       "Name: Age, Length: 114, dtype: int64"
      ]
     },
     "execution_count": 10,
     "metadata": {},
     "output_type": "execute_result"
    }
   ],
   "source": [
    "# Display value counts for Age\n",
    "survey['Age'].value_counts()"
   ]
  },
  {
   "cell_type": "code",
   "execution_count": 11,
   "metadata": {},
   "outputs": [
    {
     "data": {
      "text/plain": [
       "Bachelor’s degree (BA, BS, B.Eng., etc.)                                              37577\n",
       "Master’s degree (MA, MS, M.Eng., MBA, etc.)                                           18830\n",
       "Some college/university study without earning a degree                                 9655\n",
       "Secondary school (e.g. American high school, German Realschule or Gymnasium, etc.)     6356\n",
       "Associate degree                                                                       2745\n",
       "Other doctoral degree (Ph.D, Ed.D., etc.)                                              2294\n",
       "Professional degree (JD, MD, etc.)                                                     1121\n",
       "Primary/elementary school                                                               760\n",
       "I never completed any formal education                                                  422\n",
       "Name: EdLevel, dtype: int64"
      ]
     },
     "execution_count": 11,
     "metadata": {},
     "output_type": "execute_result"
    }
   ],
   "source": [
    "# Display value counts for FormalEducation\n",
    "survey['EdLevel'].value_counts()"
   ]
  },
  {
   "cell_type": "code",
   "execution_count": 12,
   "metadata": {},
   "outputs": [
    {
     "data": {
      "text/plain": [
       "Computer science, computer engineering, or software engineering          45137\n",
       "Another engineering discipline (ex. civil, electrical, mechanical)        5845\n",
       "Information systems, information technology, or system administration     4994\n",
       "Web development or web design                                             3270\n",
       "A natural science (ex. biology, chemistry, physics)                       3049\n",
       "Mathematics or statistics                                                 2775\n",
       "A business discipline (ex. accounting, finance, marketing)                1737\n",
       "A humanities discipline (ex. literature, history, philosophy)             1464\n",
       "A social science (ex. anthropology, psychology, political science)        1277\n",
       "Fine arts or performing arts (ex. graphic design, music, studio art)      1178\n",
       "I never declared a major                                                   820\n",
       "A health science (ex. nursing, pharmacy, radiology)                        288\n",
       "Name: UndergradMajor, dtype: int64"
      ]
     },
     "execution_count": 12,
     "metadata": {},
     "output_type": "execute_result"
    }
   ],
   "source": [
    "# Display value counts for UndergradMajor\n",
    "survey['UndergradMajor'].value_counts()"
   ]
  },
  {
   "cell_type": "code",
   "execution_count": 13,
   "metadata": {},
   "outputs": [
    {
     "data": {
      "text/plain": [
       "Taught yourself a new language, framework, or tool without taking a formal course                                                                                                                                                                         5761\n",
       "Taken an online course in programming or software development (e.g. a MOOC);Taught yourself a new language, framework, or tool without taking a formal course                                                                                             5277\n",
       "Taught yourself a new language, framework, or tool without taking a formal course;Contributed to open source software                                                                                                                                     3407\n",
       "Taken an online course in programming or software development (e.g. a MOOC);Received on-the-job training in software development;Taught yourself a new language, framework, or tool without taking a formal course                                        3007\n",
       "Received on-the-job training in software development;Taught yourself a new language, framework, or tool without taking a formal course                                                                                                                    2533\n",
       "Taken an online course in programming or software development (e.g. a MOOC)                                                                                                                                                                               2469\n",
       "Taken an online course in programming or software development (e.g. a MOOC);Taught yourself a new language, framework, or tool without taking a formal course;Contributed to open source software                                                         2447\n",
       "Received on-the-job training in software development;Taught yourself a new language, framework, or tool without taking a formal course;Contributed to open source software                                                                                1485\n",
       "Taken an online course in programming or software development (e.g. a MOOC);Received on-the-job training in software development;Taught yourself a new language, framework, or tool without taking a formal course;Contributed to open source software    1422\n",
       "Taken an online course in programming or software development (e.g. a MOOC);Taught yourself a new language, framework, or tool without taking a formal course;Participated in online coding competitions (e.g. HackerRank, CodeChef, TopCoder)            1239\n",
       "Name: EduOther, dtype: int64"
      ]
     },
     "execution_count": 13,
     "metadata": {},
     "output_type": "execute_result"
    }
   ],
   "source": [
    "# Display (top 10) value counts for EducationTypes\n",
    "survey['EduOther'].value_counts().nlargest(10)"
   ]
  },
  {
   "cell_type": "code",
   "execution_count": 14,
   "metadata": {},
   "outputs": [
    {
     "data": {
      "text/plain": [
       "492"
      ]
     },
     "execution_count": 14,
     "metadata": {},
     "output_type": "execute_result"
    }
   ],
   "source": [
    "# Display (top 10) value counts for EducationTypes\n",
    "survey['EduOther'].nunique()"
   ]
  },
  {
   "cell_type": "code",
   "execution_count": 15,
   "metadata": {},
   "outputs": [
    {
     "data": {
      "text/plain": [
       "Never                                                 28860\n",
       "Less than once per year                               23336\n",
       "Less than once a month but more than once per year    19160\n",
       "Once a month or more often                             9979\n",
       "Name: OpenSourcer, dtype: int64"
      ]
     },
     "execution_count": 15,
     "metadata": {},
     "output_type": "execute_result"
    }
   ],
   "source": [
    "# Display value counts for OpenSourcer\n",
    "survey['OpenSourcer'].value_counts().nlargest(5)"
   ]
  },
  {
   "cell_type": "code",
   "execution_count": 16,
   "metadata": {},
   "outputs": [
    {
     "data": {
      "text/plain": [
       "HTML/CSS;JavaScript;PHP;SQL              1430\n",
       "C#;HTML/CSS;JavaScript;SQL               1392\n",
       "HTML/CSS;JavaScript                      1161\n",
       "C#;HTML/CSS;JavaScript;SQL;TypeScript     980\n",
       "HTML/CSS;JavaScript;PHP                   870\n",
       "Java                                      828\n",
       "HTML/CSS;JavaScript;TypeScript            687\n",
       "HTML/CSS;Java;JavaScript;SQL              653\n",
       "Python                                    606\n",
       "C#                                        514\n",
       "Name: LanguageWorkedWith, dtype: int64"
      ]
     },
     "execution_count": 16,
     "metadata": {},
     "output_type": "execute_result"
    }
   ],
   "source": [
    "# Display (top 10) value counts for LanguageWorkedWith\n",
    "survey['LanguageWorkedWith'].value_counts().nlargest(10)"
   ]
  },
  {
   "cell_type": "code",
   "execution_count": 17,
   "metadata": {},
   "outputs": [
    {
     "data": {
      "text/plain": [
       "2                     7779\n",
       "3                     7624\n",
       "5                     6298\n",
       "4                     6169\n",
       "6                     4443\n",
       "1                     4299\n",
       "10                    4266\n",
       "Less than 1 year      3773\n",
       "7                     3596\n",
       "8                     3393\n",
       "12                    2178\n",
       "15                    2064\n",
       "20                    1976\n",
       "9                     1946\n",
       "11                    1649\n",
       "13                    1347\n",
       "18                    1145\n",
       "14                    1114\n",
       "16                     766\n",
       "19                     758\n",
       "25                     709\n",
       "22                     669\n",
       "17                     617\n",
       "21                     535\n",
       "30                     498\n",
       "23                     441\n",
       "24                     324\n",
       "28                     213\n",
       "35                     213\n",
       "27                     193\n",
       "26                     192\n",
       "32                     168\n",
       "29                     127\n",
       "33                     126\n",
       "31                     111\n",
       "40                     104\n",
       "34                     101\n",
       "38                      77\n",
       "36                      76\n",
       "37                      59\n",
       "39                      51\n",
       "More than 50 years      29\n",
       "42                      23\n",
       "43                      23\n",
       "41                      23\n",
       "45                      17\n",
       "44                      12\n",
       "48                       7\n",
       "50                       5\n",
       "46                       5\n",
       "49                       4\n",
       "47                       3\n",
       "Name: YearsCodePro, dtype: int64"
      ]
     },
     "execution_count": 17,
     "metadata": {},
     "output_type": "execute_result"
    }
   ],
   "source": [
    "# Display value counts for YearsCoding\n",
    "survey['YearsCodePro'].value_counts()"
   ]
  },
  {
   "cell_type": "code",
   "execution_count": 18,
   "metadata": {},
   "outputs": [
    {
     "data": {
      "text/plain": [
       "No                62256\n",
       "Yes, full-time    12863\n",
       "Yes, part-time     5143\n",
       "Name: Student, dtype: int64"
      ]
     },
     "execution_count": 18,
     "metadata": {},
     "output_type": "execute_result"
    }
   ],
   "source": [
    "survey['Student'].value_counts()"
   ]
  },
  {
   "cell_type": "code",
   "execution_count": 19,
   "metadata": {},
   "outputs": [
    {
     "name": "stdout",
     "output_type": "stream",
     "text": [
      "<class 'pandas.core.frame.DataFrame'>\n",
      "Int64Index: 81335 entries, 1 to 88877\n",
      "Data columns (total 85 columns):\n",
      " #   Column                  Non-Null Count  Dtype  \n",
      "---  ------                  --------------  -----  \n",
      " 0   Respondent              81335 non-null  int64  \n",
      " 1   MainBranch              81071 non-null  object \n",
      " 2   Hobbyist                81335 non-null  object \n",
      " 3   OpenSourcer             81335 non-null  object \n",
      " 4   OpenSource              79748 non-null  object \n",
      " 5   Employment              81335 non-null  object \n",
      " 6   Country                 81335 non-null  object \n",
      " 7   Student                 80262 non-null  object \n",
      " 8   EdLevel                 79760 non-null  object \n",
      " 9   UndergradMajor          71834 non-null  object \n",
      " 10  EduOther                77904 non-null  object \n",
      " 11  OrgSize                 70677 non-null  object \n",
      " 12  DevType                 81335 non-null  object \n",
      " 13  YearsCode               80974 non-null  object \n",
      " 14  Age1stCode              80722 non-null  object \n",
      " 15  YearsCodePro            72338 non-null  object \n",
      " 16  CareerSat               71363 non-null  object \n",
      " 17  JobSat                  69706 non-null  object \n",
      " 18  MgrIdiot                60104 non-null  object \n",
      " 19  MgrMoney                60098 non-null  object \n",
      " 20  MgrWant                 60176 non-null  object \n",
      " 21  JobSeek                 78167 non-null  object \n",
      " 22  LastHireDate            77770 non-null  object \n",
      " 23  LastInt                 66071 non-null  object \n",
      " 24  FizzBuzz                70149 non-null  object \n",
      " 25  JobFactors              77364 non-null  object \n",
      " 26  ResumeUpdate            76079 non-null  object \n",
      " 27  CurrencySymbol          69934 non-null  object \n",
      " 28  CurrencyDesc            69934 non-null  object \n",
      " 29  CompTotal               55197 non-null  float64\n",
      " 30  CompFreq                62330 non-null  object \n",
      " 31  ConvertedComp           55081 non-null  float64\n",
      " 32  WorkWeekHrs             63575 non-null  float64\n",
      " 33  WorkPlan                67827 non-null  object \n",
      " 34  WorkChallenge           67048 non-null  object \n",
      " 35  WorkRemote              69127 non-null  object \n",
      " 36  WorkLoc                 68886 non-null  object \n",
      " 37  ImpSyn                  70586 non-null  object \n",
      " 38  CodeRev                 69216 non-null  object \n",
      " 39  CodeRevHrs              49229 non-null  float64\n",
      " 40  UnitTests               61640 non-null  object \n",
      " 41  PurchaseHow             60162 non-null  object \n",
      " 42  PurchaseWhat            61031 non-null  object \n",
      " 43  LanguageWorkedWith      80532 non-null  object \n",
      " 44  LanguageDesireNextYear  77391 non-null  object \n",
      " 45  DatabaseWorkedWith      71290 non-null  object \n",
      " 46  DatabaseDesireNextYear  64804 non-null  object \n",
      " 47  PlatformWorkedWith      74643 non-null  object \n",
      " 48  PlatformDesireNextYear  71570 non-null  object \n",
      " 49  WebFrameWorkedWith      61434 non-null  object \n",
      " 50  WebFrameDesireNextYear  59232 non-null  object \n",
      " 51  MiscTechWorkedWith      55617 non-null  object \n",
      " 52  MiscTechDesireNextYear  60136 non-null  object \n",
      " 53  DevEnviron              80359 non-null  object \n",
      " 54  OpSys                   80699 non-null  object \n",
      " 55  Containers              78780 non-null  object \n",
      " 56  BlockchainOrg           47427 non-null  object \n",
      " 57  BlockchainIs            55574 non-null  object \n",
      " 58  BetterLife              79354 non-null  object \n",
      " 59  ITperson                80095 non-null  object \n",
      " 60  OffOn                   79693 non-null  object \n",
      " 61  SocialMedia             77752 non-null  object \n",
      " 62  Extraversion            80274 non-null  object \n",
      " 63  ScreenName              74250 non-null  object \n",
      " 64  SOVisit1st              77170 non-null  object \n",
      " 65  SOVisitFreq             81028 non-null  object \n",
      " 66  SOVisitTo               80909 non-null  object \n",
      " 67  SOFindAnswer            80721 non-null  object \n",
      " 68  SOTimeSaved             79471 non-null  object \n",
      " 69  SOHowMuchTime           63063 non-null  object \n",
      " 70  SOAccount               80736 non-null  object \n",
      " 71  SOPartFreq              69187 non-null  object \n",
      " 72  SOJobs                  80903 non-null  object \n",
      " 73  EntTeams                80741 non-null  object \n",
      " 74  SOComm                  80956 non-null  object \n",
      " 75  WelcomeChange           79029 non-null  object \n",
      " 76  SONewContent            63966 non-null  object \n",
      " 77  Age                     73565 non-null  float64\n",
      " 78  Gender                  78788 non-null  object \n",
      " 79  Trans                   77201 non-null  object \n",
      " 80  Sexuality               70620 non-null  object \n",
      " 81  Ethnicity               70945 non-null  object \n",
      " 82  Dependents              76833 non-null  object \n",
      " 83  SurveyLength            80044 non-null  object \n",
      " 84  SurveyEase              80153 non-null  object \n",
      "dtypes: float64(5), int64(1), object(79)\n",
      "memory usage: 53.4+ MB\n"
     ]
    }
   ],
   "source": [
    "survey.info()"
   ]
  },
  {
   "cell_type": "code",
   "execution_count": 20,
   "metadata": {},
   "outputs": [
    {
     "data": {
      "text/plain": [
       "Very satisfied                        28644\n",
       "Slightly satisfied                    24595\n",
       "Slightly dissatisfied                  7511\n",
       "Neither satisfied nor dissatisfied     6993\n",
       "Very dissatisfied                      3620\n",
       "Name: CareerSat, dtype: int64"
      ]
     },
     "execution_count": 20,
     "metadata": {},
     "output_type": "execute_result"
    }
   ],
   "source": [
    "# Display value counts for JobSatisfaction\n",
    "survey['CareerSat'].value_counts()"
   ]
  },
  {
   "cell_type": "code",
   "execution_count": 21,
   "metadata": {},
   "outputs": [
    {
     "data": {
      "text/plain": [
       "Being tasked with non-development work;Distracting work environment;Meetings                                                2281\n",
       "Being tasked with non-development work;Meetings;Not enough people for the workload                                          1722\n",
       "Being tasked with non-development work;Distracting work environment;Not enough people for the workload                      1495\n",
       "Distracting work environment;Meetings;Not enough people for the workload                                                    1450\n",
       "Not enough people for the workload                                                                                          1388\n",
       "                                                                                                                            ... \n",
       "Being tasked with non-development work;Toxic work environment                                                                114\n",
       "Inadequate access to necessary tools;Toxic work environment                                                                  100\n",
       "Inadequate access to necessary tools;Non-work commitments (parenting, school work, hobbies, etc.);Toxic work environment      92\n",
       "Time spent commuting;Toxic work environment                                                                                   90\n",
       "Non-work commitments (parenting, school work, hobbies, etc.);Toxic work environment                                           58\n",
       "Name: WorkChallenge, Length: 129, dtype: int64"
      ]
     },
     "execution_count": 21,
     "metadata": {},
     "output_type": "execute_result"
    }
   ],
   "source": [
    "survey['WorkChallenge'].value_counts()"
   ]
  },
  {
   "cell_type": "code",
   "execution_count": 22,
   "metadata": {},
   "outputs": [
    {
     "data": {
      "text/plain": [
       "Yes    50323\n",
       "No     29031\n",
       "Name: BetterLife, dtype: int64"
      ]
     },
     "execution_count": 22,
     "metadata": {},
     "output_type": "execute_result"
    }
   ],
   "source": [
    "survey['BetterLife'].value_counts()"
   ]
  },
  {
   "cell_type": "markdown",
   "metadata": {},
   "source": [
    "Since our focus is on data professionals versus software developers and there is a heavy imbalance of classes in column DevType, I have decided to segment it into two categories-\n",
    "\n",
    "- 1. People with data profile\n",
    "- 2. People with developer profile\n"
   ]
  },
  {
   "cell_type": "code",
   "execution_count": 24,
   "metadata": {},
   "outputs": [],
   "source": [
    "# Create data profile and software developer profile\n",
    "survey_ds = survey[survey['DevType'].str.contains('Data') == True]\n",
    "survey_sd = survey[survey['DevType'].str.contains('Developer') == True]"
   ]
  },
  {
   "cell_type": "code",
   "execution_count": 25,
   "metadata": {},
   "outputs": [
    {
     "data": {
      "text/plain": [
       "17305"
      ]
     },
     "execution_count": 25,
     "metadata": {},
     "output_type": "execute_result"
    }
   ],
   "source": [
    "survey_ds['DevType'].count()"
   ]
  },
  {
   "cell_type": "code",
   "execution_count": 26,
   "metadata": {},
   "outputs": [
    {
     "data": {
      "text/plain": [
       "72491"
      ]
     },
     "execution_count": 26,
     "metadata": {},
     "output_type": "execute_result"
    }
   ],
   "source": [
    "survey_sd['DevType'].count()"
   ]
  },
  {
   "cell_type": "code",
   "execution_count": 27,
   "metadata": {},
   "outputs": [
    {
     "data": {
      "text/plain": [
       "Slightly satisfied                    23866\n",
       "Very satisfied                        22029\n",
       "Slightly dissatisfied                 10582\n",
       "Neither satisfied nor dissatisfied     8489\n",
       "Very dissatisfied                      4740\n",
       "Name: JobSat, dtype: int64"
      ]
     },
     "execution_count": 27,
     "metadata": {},
     "output_type": "execute_result"
    }
   ],
   "source": [
    "survey['JobSat'].value_counts()"
   ]
  },
  {
   "cell_type": "code",
   "execution_count": 28,
   "metadata": {},
   "outputs": [
    {
     "data": {
      "text/plain": [
       "765390"
      ]
     },
     "execution_count": 28,
     "metadata": {},
     "output_type": "execute_result"
    }
   ],
   "source": [
    "survey.isna().sum().sum()"
   ]
  },
  {
   "cell_type": "code",
   "execution_count": 29,
   "metadata": {},
   "outputs": [
    {
     "data": {
      "text/plain": [
       "(81335, 85)"
      ]
     },
     "execution_count": 29,
     "metadata": {},
     "output_type": "execute_result"
    }
   ],
   "source": [
    "survey.shape"
   ]
  },
  {
   "cell_type": "code",
   "execution_count": 30,
   "metadata": {},
   "outputs": [
    {
     "name": "stdout",
     "output_type": "stream",
     "text": [
      "<class 'pandas.core.frame.DataFrame'>\n",
      "Int64Index: 81335 entries, 1 to 88877\n",
      "Data columns (total 85 columns):\n",
      " #   Column                  Non-Null Count  Dtype  \n",
      "---  ------                  --------------  -----  \n",
      " 0   Respondent              81335 non-null  int64  \n",
      " 1   MainBranch              81071 non-null  object \n",
      " 2   Hobbyist                81335 non-null  object \n",
      " 3   OpenSourcer             81335 non-null  object \n",
      " 4   OpenSource              79748 non-null  object \n",
      " 5   Employment              81335 non-null  object \n",
      " 6   Country                 81335 non-null  object \n",
      " 7   Student                 80262 non-null  object \n",
      " 8   EdLevel                 79760 non-null  object \n",
      " 9   UndergradMajor          71834 non-null  object \n",
      " 10  EduOther                77904 non-null  object \n",
      " 11  OrgSize                 70677 non-null  object \n",
      " 12  DevType                 81335 non-null  object \n",
      " 13  YearsCode               80974 non-null  object \n",
      " 14  Age1stCode              80722 non-null  object \n",
      " 15  YearsCodePro            72338 non-null  object \n",
      " 16  CareerSat               71363 non-null  object \n",
      " 17  JobSat                  69706 non-null  object \n",
      " 18  MgrIdiot                60104 non-null  object \n",
      " 19  MgrMoney                60098 non-null  object \n",
      " 20  MgrWant                 60176 non-null  object \n",
      " 21  JobSeek                 78167 non-null  object \n",
      " 22  LastHireDate            77770 non-null  object \n",
      " 23  LastInt                 66071 non-null  object \n",
      " 24  FizzBuzz                70149 non-null  object \n",
      " 25  JobFactors              77364 non-null  object \n",
      " 26  ResumeUpdate            76079 non-null  object \n",
      " 27  CurrencySymbol          69934 non-null  object \n",
      " 28  CurrencyDesc            69934 non-null  object \n",
      " 29  CompTotal               55197 non-null  float64\n",
      " 30  CompFreq                62330 non-null  object \n",
      " 31  ConvertedComp           55081 non-null  float64\n",
      " 32  WorkWeekHrs             63575 non-null  float64\n",
      " 33  WorkPlan                67827 non-null  object \n",
      " 34  WorkChallenge           67048 non-null  object \n",
      " 35  WorkRemote              69127 non-null  object \n",
      " 36  WorkLoc                 68886 non-null  object \n",
      " 37  ImpSyn                  70586 non-null  object \n",
      " 38  CodeRev                 69216 non-null  object \n",
      " 39  CodeRevHrs              49229 non-null  float64\n",
      " 40  UnitTests               61640 non-null  object \n",
      " 41  PurchaseHow             60162 non-null  object \n",
      " 42  PurchaseWhat            61031 non-null  object \n",
      " 43  LanguageWorkedWith      80532 non-null  object \n",
      " 44  LanguageDesireNextYear  77391 non-null  object \n",
      " 45  DatabaseWorkedWith      71290 non-null  object \n",
      " 46  DatabaseDesireNextYear  64804 non-null  object \n",
      " 47  PlatformWorkedWith      74643 non-null  object \n",
      " 48  PlatformDesireNextYear  71570 non-null  object \n",
      " 49  WebFrameWorkedWith      61434 non-null  object \n",
      " 50  WebFrameDesireNextYear  59232 non-null  object \n",
      " 51  MiscTechWorkedWith      55617 non-null  object \n",
      " 52  MiscTechDesireNextYear  60136 non-null  object \n",
      " 53  DevEnviron              80359 non-null  object \n",
      " 54  OpSys                   80699 non-null  object \n",
      " 55  Containers              78780 non-null  object \n",
      " 56  BlockchainOrg           47427 non-null  object \n",
      " 57  BlockchainIs            55574 non-null  object \n",
      " 58  BetterLife              79354 non-null  object \n",
      " 59  ITperson                80095 non-null  object \n",
      " 60  OffOn                   79693 non-null  object \n",
      " 61  SocialMedia             77752 non-null  object \n",
      " 62  Extraversion            80274 non-null  object \n",
      " 63  ScreenName              74250 non-null  object \n",
      " 64  SOVisit1st              77170 non-null  object \n",
      " 65  SOVisitFreq             81028 non-null  object \n",
      " 66  SOVisitTo               80909 non-null  object \n",
      " 67  SOFindAnswer            80721 non-null  object \n",
      " 68  SOTimeSaved             79471 non-null  object \n",
      " 69  SOHowMuchTime           63063 non-null  object \n",
      " 70  SOAccount               80736 non-null  object \n",
      " 71  SOPartFreq              69187 non-null  object \n",
      " 72  SOJobs                  80903 non-null  object \n",
      " 73  EntTeams                80741 non-null  object \n",
      " 74  SOComm                  80956 non-null  object \n",
      " 75  WelcomeChange           79029 non-null  object \n",
      " 76  SONewContent            63966 non-null  object \n",
      " 77  Age                     73565 non-null  float64\n",
      " 78  Gender                  78788 non-null  object \n",
      " 79  Trans                   77201 non-null  object \n",
      " 80  Sexuality               70620 non-null  object \n",
      " 81  Ethnicity               70945 non-null  object \n",
      " 82  Dependents              76833 non-null  object \n",
      " 83  SurveyLength            80044 non-null  object \n",
      " 84  SurveyEase              80153 non-null  object \n",
      "dtypes: float64(5), int64(1), object(79)\n",
      "memory usage: 53.4+ MB\n"
     ]
    }
   ],
   "source": [
    "survey.info()"
   ]
  },
  {
   "cell_type": "code",
   "execution_count": 31,
   "metadata": {},
   "outputs": [
    {
     "data": {
      "text/html": [
       "<div>\n",
       "<style scoped>\n",
       "    .dataframe tbody tr th:only-of-type {\n",
       "        vertical-align: middle;\n",
       "    }\n",
       "\n",
       "    .dataframe tbody tr th {\n",
       "        vertical-align: top;\n",
       "    }\n",
       "\n",
       "    .dataframe thead th {\n",
       "        text-align: right;\n",
       "    }\n",
       "</style>\n",
       "<table border=\"1\" class=\"dataframe\">\n",
       "  <thead>\n",
       "    <tr style=\"text-align: right;\">\n",
       "      <th></th>\n",
       "      <th>Respondent</th>\n",
       "      <th>MainBranch</th>\n",
       "      <th>Hobbyist</th>\n",
       "      <th>OpenSourcer</th>\n",
       "      <th>OpenSource</th>\n",
       "      <th>Employment</th>\n",
       "      <th>Country</th>\n",
       "      <th>Student</th>\n",
       "      <th>EdLevel</th>\n",
       "      <th>UndergradMajor</th>\n",
       "      <th>...</th>\n",
       "      <th>WelcomeChange</th>\n",
       "      <th>SONewContent</th>\n",
       "      <th>Age</th>\n",
       "      <th>Gender</th>\n",
       "      <th>Trans</th>\n",
       "      <th>Sexuality</th>\n",
       "      <th>Ethnicity</th>\n",
       "      <th>Dependents</th>\n",
       "      <th>SurveyLength</th>\n",
       "      <th>SurveyEase</th>\n",
       "    </tr>\n",
       "  </thead>\n",
       "  <tbody>\n",
       "    <tr>\n",
       "      <th>5</th>\n",
       "      <td>6</td>\n",
       "      <td>I am not primarily a developer, but I write co...</td>\n",
       "      <td>Yes</td>\n",
       "      <td>Never</td>\n",
       "      <td>The quality of OSS and closed source software ...</td>\n",
       "      <td>Employed full-time</td>\n",
       "      <td>Canada</td>\n",
       "      <td>No</td>\n",
       "      <td>Bachelor’s degree (BA, BS, B.Eng., etc.)</td>\n",
       "      <td>Mathematics or statistics</td>\n",
       "      <td>...</td>\n",
       "      <td>Just as welcome now as I felt last year</td>\n",
       "      <td>Tech articles written by other developers;Indu...</td>\n",
       "      <td>28.0</td>\n",
       "      <td>Man</td>\n",
       "      <td>No</td>\n",
       "      <td>Straight / Heterosexual</td>\n",
       "      <td>East Asian</td>\n",
       "      <td>No</td>\n",
       "      <td>Too long</td>\n",
       "      <td>Neither easy nor difficult</td>\n",
       "    </tr>\n",
       "    <tr>\n",
       "      <th>11</th>\n",
       "      <td>12</td>\n",
       "      <td>I am a student who is learning to code</td>\n",
       "      <td>No</td>\n",
       "      <td>Never</td>\n",
       "      <td>OSS is, on average, of HIGHER quality than pro...</td>\n",
       "      <td>Employed part-time</td>\n",
       "      <td>Canada</td>\n",
       "      <td>Yes, full-time</td>\n",
       "      <td>Some college/university study without earning ...</td>\n",
       "      <td>Mathematics or statistics</td>\n",
       "      <td>...</td>\n",
       "      <td>Just as welcome now as I felt last year</td>\n",
       "      <td>Courses on technologies you're interested in</td>\n",
       "      <td>21.0</td>\n",
       "      <td>Woman</td>\n",
       "      <td>No</td>\n",
       "      <td>Straight / Heterosexual</td>\n",
       "      <td>Black or of African descent</td>\n",
       "      <td>No</td>\n",
       "      <td>Appropriate in length</td>\n",
       "      <td>Easy</td>\n",
       "    </tr>\n",
       "    <tr>\n",
       "      <th>14</th>\n",
       "      <td>15</td>\n",
       "      <td>I am a student who is learning to code</td>\n",
       "      <td>Yes</td>\n",
       "      <td>Never</td>\n",
       "      <td>OSS is, on average, of HIGHER quality than pro...</td>\n",
       "      <td>Not employed, but looking for work</td>\n",
       "      <td>India</td>\n",
       "      <td>Yes, full-time</td>\n",
       "      <td>Secondary school (e.g. American high school, G...</td>\n",
       "      <td>NaN</td>\n",
       "      <td>...</td>\n",
       "      <td>Just as welcome now as I felt last year</td>\n",
       "      <td>Tech articles written by other developers;Indu...</td>\n",
       "      <td>20.0</td>\n",
       "      <td>Man</td>\n",
       "      <td>No</td>\n",
       "      <td>NaN</td>\n",
       "      <td>NaN</td>\n",
       "      <td>Yes</td>\n",
       "      <td>Too long</td>\n",
       "      <td>Neither easy nor difficult</td>\n",
       "    </tr>\n",
       "    <tr>\n",
       "      <th>17</th>\n",
       "      <td>18</td>\n",
       "      <td>I am not primarily a developer, but I write co...</td>\n",
       "      <td>Yes</td>\n",
       "      <td>Less than once a month but more than once per ...</td>\n",
       "      <td>The quality of OSS and closed source software ...</td>\n",
       "      <td>Employed full-time</td>\n",
       "      <td>Russian Federation</td>\n",
       "      <td>No</td>\n",
       "      <td>Master’s degree (MA, MS, M.Eng., MBA, etc.)</td>\n",
       "      <td>Computer science, computer engineering, or sof...</td>\n",
       "      <td>...</td>\n",
       "      <td>Just as welcome now as I felt last year</td>\n",
       "      <td>NaN</td>\n",
       "      <td>NaN</td>\n",
       "      <td>Man</td>\n",
       "      <td>No</td>\n",
       "      <td>Straight / Heterosexual</td>\n",
       "      <td>White or of European descent</td>\n",
       "      <td>Yes</td>\n",
       "      <td>Appropriate in length</td>\n",
       "      <td>Neither easy nor difficult</td>\n",
       "    </tr>\n",
       "    <tr>\n",
       "      <th>29</th>\n",
       "      <td>30</td>\n",
       "      <td>I am a developer by profession</td>\n",
       "      <td>No</td>\n",
       "      <td>Less than once a month but more than once per ...</td>\n",
       "      <td>OSS is, on average, of HIGHER quality than pro...</td>\n",
       "      <td>Employed full-time</td>\n",
       "      <td>Switzerland</td>\n",
       "      <td>No</td>\n",
       "      <td>Bachelor’s degree (BA, BS, B.Eng., etc.)</td>\n",
       "      <td>Computer science, computer engineering, or sof...</td>\n",
       "      <td>...</td>\n",
       "      <td>NaN</td>\n",
       "      <td>Tech meetups or events in your area</td>\n",
       "      <td>28.0</td>\n",
       "      <td>Man</td>\n",
       "      <td>No</td>\n",
       "      <td>Straight / Heterosexual</td>\n",
       "      <td>White or of European descent</td>\n",
       "      <td>No</td>\n",
       "      <td>Too long</td>\n",
       "      <td>Easy</td>\n",
       "    </tr>\n",
       "    <tr>\n",
       "      <th>...</th>\n",
       "      <td>...</td>\n",
       "      <td>...</td>\n",
       "      <td>...</td>\n",
       "      <td>...</td>\n",
       "      <td>...</td>\n",
       "      <td>...</td>\n",
       "      <td>...</td>\n",
       "      <td>...</td>\n",
       "      <td>...</td>\n",
       "      <td>...</td>\n",
       "      <td>...</td>\n",
       "      <td>...</td>\n",
       "      <td>...</td>\n",
       "      <td>...</td>\n",
       "      <td>...</td>\n",
       "      <td>...</td>\n",
       "      <td>...</td>\n",
       "      <td>...</td>\n",
       "      <td>...</td>\n",
       "      <td>...</td>\n",
       "      <td>...</td>\n",
       "    </tr>\n",
       "    <tr>\n",
       "      <th>88859</th>\n",
       "      <td>85642</td>\n",
       "      <td>NaN</td>\n",
       "      <td>No</td>\n",
       "      <td>Less than once per year</td>\n",
       "      <td>OSS is, on average, of LOWER quality than prop...</td>\n",
       "      <td>Independent contractor, freelancer, or self-em...</td>\n",
       "      <td>United States</td>\n",
       "      <td>No</td>\n",
       "      <td>Associate degree</td>\n",
       "      <td>Information systems, information technology, o...</td>\n",
       "      <td>...</td>\n",
       "      <td>Just as welcome now as I felt last year</td>\n",
       "      <td>Tech articles written by other developers;Indu...</td>\n",
       "      <td>34.0</td>\n",
       "      <td>Non-binary, genderqueer, or gender non-conforming</td>\n",
       "      <td>NaN</td>\n",
       "      <td>Bisexual;Gay or Lesbian</td>\n",
       "      <td>White or of European descent</td>\n",
       "      <td>No</td>\n",
       "      <td>Appropriate in length</td>\n",
       "      <td>Easy</td>\n",
       "    </tr>\n",
       "    <tr>\n",
       "      <th>88864</th>\n",
       "      <td>86012</td>\n",
       "      <td>NaN</td>\n",
       "      <td>Yes</td>\n",
       "      <td>Once a month or more often</td>\n",
       "      <td>OSS is, on average, of HIGHER quality than pro...</td>\n",
       "      <td>Employed full-time</td>\n",
       "      <td>India</td>\n",
       "      <td>No</td>\n",
       "      <td>Master’s degree (MA, MS, M.Eng., MBA, etc.)</td>\n",
       "      <td>Another engineering discipline (ex. civil, ele...</td>\n",
       "      <td>...</td>\n",
       "      <td>Not applicable - I did not use Stack Overflow ...</td>\n",
       "      <td>Industry news about technologies you're intere...</td>\n",
       "      <td>24.0</td>\n",
       "      <td>Man</td>\n",
       "      <td>No</td>\n",
       "      <td>NaN</td>\n",
       "      <td>South Asian</td>\n",
       "      <td>NaN</td>\n",
       "      <td>Appropriate in length</td>\n",
       "      <td>Easy</td>\n",
       "    </tr>\n",
       "    <tr>\n",
       "      <th>88867</th>\n",
       "      <td>86806</td>\n",
       "      <td>NaN</td>\n",
       "      <td>Yes</td>\n",
       "      <td>Once a month or more often</td>\n",
       "      <td>OSS is, on average, of HIGHER quality than pro...</td>\n",
       "      <td>Employed part-time</td>\n",
       "      <td>Nigeria</td>\n",
       "      <td>Yes, part-time</td>\n",
       "      <td>Secondary school (e.g. American high school, G...</td>\n",
       "      <td>NaN</td>\n",
       "      <td>...</td>\n",
       "      <td>A lot less welcome now than last year</td>\n",
       "      <td>Tech articles written by other developers</td>\n",
       "      <td>19.0</td>\n",
       "      <td>Man</td>\n",
       "      <td>No</td>\n",
       "      <td>NaN</td>\n",
       "      <td>Black or of African descent;Middle Eastern</td>\n",
       "      <td>No</td>\n",
       "      <td>Appropriate in length</td>\n",
       "      <td>Neither easy nor difficult</td>\n",
       "    </tr>\n",
       "    <tr>\n",
       "      <th>88871</th>\n",
       "      <td>87386</td>\n",
       "      <td>NaN</td>\n",
       "      <td>Yes</td>\n",
       "      <td>Less than once a month but more than once per ...</td>\n",
       "      <td>OSS is, on average, of LOWER quality than prop...</td>\n",
       "      <td>Independent contractor, freelancer, or self-em...</td>\n",
       "      <td>Italy</td>\n",
       "      <td>Yes, full-time</td>\n",
       "      <td>Bachelor’s degree (BA, BS, B.Eng., etc.)</td>\n",
       "      <td>Computer science, computer engineering, or sof...</td>\n",
       "      <td>...</td>\n",
       "      <td>Just as welcome now as I felt last year</td>\n",
       "      <td>Tech articles written by other developers;Tech...</td>\n",
       "      <td>21.0</td>\n",
       "      <td>Man</td>\n",
       "      <td>No</td>\n",
       "      <td>Straight / Heterosexual</td>\n",
       "      <td>White or of European descent</td>\n",
       "      <td>No</td>\n",
       "      <td>Appropriate in length</td>\n",
       "      <td>Easy</td>\n",
       "    </tr>\n",
       "    <tr>\n",
       "      <th>88875</th>\n",
       "      <td>88182</td>\n",
       "      <td>NaN</td>\n",
       "      <td>Yes</td>\n",
       "      <td>Once a month or more often</td>\n",
       "      <td>OSS is, on average, of HIGHER quality than pro...</td>\n",
       "      <td>Employed part-time</td>\n",
       "      <td>Pakistan</td>\n",
       "      <td>NaN</td>\n",
       "      <td>Secondary school (e.g. American high school, G...</td>\n",
       "      <td>NaN</td>\n",
       "      <td>...</td>\n",
       "      <td>Not applicable - I did not use Stack Overflow ...</td>\n",
       "      <td>Courses on technologies you're interested in</td>\n",
       "      <td>NaN</td>\n",
       "      <td>Man</td>\n",
       "      <td>No</td>\n",
       "      <td>Straight / Heterosexual</td>\n",
       "      <td>NaN</td>\n",
       "      <td>Yes</td>\n",
       "      <td>Too short</td>\n",
       "      <td>Neither easy nor difficult</td>\n",
       "    </tr>\n",
       "  </tbody>\n",
       "</table>\n",
       "<p>8844 rows × 85 columns</p>\n",
       "</div>"
      ],
      "text/plain": [
       "       Respondent                                         MainBranch Hobbyist  \\\n",
       "5               6  I am not primarily a developer, but I write co...      Yes   \n",
       "11             12             I am a student who is learning to code       No   \n",
       "14             15             I am a student who is learning to code      Yes   \n",
       "17             18  I am not primarily a developer, but I write co...      Yes   \n",
       "29             30                     I am a developer by profession       No   \n",
       "...           ...                                                ...      ...   \n",
       "88859       85642                                                NaN       No   \n",
       "88864       86012                                                NaN      Yes   \n",
       "88867       86806                                                NaN      Yes   \n",
       "88871       87386                                                NaN      Yes   \n",
       "88875       88182                                                NaN      Yes   \n",
       "\n",
       "                                             OpenSourcer  \\\n",
       "5                                                  Never   \n",
       "11                                                 Never   \n",
       "14                                                 Never   \n",
       "17     Less than once a month but more than once per ...   \n",
       "29     Less than once a month but more than once per ...   \n",
       "...                                                  ...   \n",
       "88859                            Less than once per year   \n",
       "88864                         Once a month or more often   \n",
       "88867                         Once a month or more often   \n",
       "88871  Less than once a month but more than once per ...   \n",
       "88875                         Once a month or more often   \n",
       "\n",
       "                                              OpenSource  \\\n",
       "5      The quality of OSS and closed source software ...   \n",
       "11     OSS is, on average, of HIGHER quality than pro...   \n",
       "14     OSS is, on average, of HIGHER quality than pro...   \n",
       "17     The quality of OSS and closed source software ...   \n",
       "29     OSS is, on average, of HIGHER quality than pro...   \n",
       "...                                                  ...   \n",
       "88859  OSS is, on average, of LOWER quality than prop...   \n",
       "88864  OSS is, on average, of HIGHER quality than pro...   \n",
       "88867  OSS is, on average, of HIGHER quality than pro...   \n",
       "88871  OSS is, on average, of LOWER quality than prop...   \n",
       "88875  OSS is, on average, of HIGHER quality than pro...   \n",
       "\n",
       "                                              Employment             Country  \\\n",
       "5                                     Employed full-time              Canada   \n",
       "11                                    Employed part-time              Canada   \n",
       "14                    Not employed, but looking for work               India   \n",
       "17                                    Employed full-time  Russian Federation   \n",
       "29                                    Employed full-time         Switzerland   \n",
       "...                                                  ...                 ...   \n",
       "88859  Independent contractor, freelancer, or self-em...       United States   \n",
       "88864                                 Employed full-time               India   \n",
       "88867                                 Employed part-time             Nigeria   \n",
       "88871  Independent contractor, freelancer, or self-em...               Italy   \n",
       "88875                                 Employed part-time            Pakistan   \n",
       "\n",
       "              Student                                            EdLevel  \\\n",
       "5                  No           Bachelor’s degree (BA, BS, B.Eng., etc.)   \n",
       "11     Yes, full-time  Some college/university study without earning ...   \n",
       "14     Yes, full-time  Secondary school (e.g. American high school, G...   \n",
       "17                 No        Master’s degree (MA, MS, M.Eng., MBA, etc.)   \n",
       "29                 No           Bachelor’s degree (BA, BS, B.Eng., etc.)   \n",
       "...               ...                                                ...   \n",
       "88859              No                                   Associate degree   \n",
       "88864              No        Master’s degree (MA, MS, M.Eng., MBA, etc.)   \n",
       "88867  Yes, part-time  Secondary school (e.g. American high school, G...   \n",
       "88871  Yes, full-time           Bachelor’s degree (BA, BS, B.Eng., etc.)   \n",
       "88875             NaN  Secondary school (e.g. American high school, G...   \n",
       "\n",
       "                                          UndergradMajor  ...  \\\n",
       "5                              Mathematics or statistics  ...   \n",
       "11                             Mathematics or statistics  ...   \n",
       "14                                                   NaN  ...   \n",
       "17     Computer science, computer engineering, or sof...  ...   \n",
       "29     Computer science, computer engineering, or sof...  ...   \n",
       "...                                                  ...  ...   \n",
       "88859  Information systems, information technology, o...  ...   \n",
       "88864  Another engineering discipline (ex. civil, ele...  ...   \n",
       "88867                                                NaN  ...   \n",
       "88871  Computer science, computer engineering, or sof...  ...   \n",
       "88875                                                NaN  ...   \n",
       "\n",
       "                                           WelcomeChange  \\\n",
       "5                Just as welcome now as I felt last year   \n",
       "11               Just as welcome now as I felt last year   \n",
       "14               Just as welcome now as I felt last year   \n",
       "17               Just as welcome now as I felt last year   \n",
       "29                                                   NaN   \n",
       "...                                                  ...   \n",
       "88859            Just as welcome now as I felt last year   \n",
       "88864  Not applicable - I did not use Stack Overflow ...   \n",
       "88867              A lot less welcome now than last year   \n",
       "88871            Just as welcome now as I felt last year   \n",
       "88875  Not applicable - I did not use Stack Overflow ...   \n",
       "\n",
       "                                            SONewContent   Age  \\\n",
       "5      Tech articles written by other developers;Indu...  28.0   \n",
       "11          Courses on technologies you're interested in  21.0   \n",
       "14     Tech articles written by other developers;Indu...  20.0   \n",
       "17                                                   NaN   NaN   \n",
       "29                   Tech meetups or events in your area  28.0   \n",
       "...                                                  ...   ...   \n",
       "88859  Tech articles written by other developers;Indu...  34.0   \n",
       "88864  Industry news about technologies you're intere...  24.0   \n",
       "88867          Tech articles written by other developers  19.0   \n",
       "88871  Tech articles written by other developers;Tech...  21.0   \n",
       "88875       Courses on technologies you're interested in   NaN   \n",
       "\n",
       "                                                  Gender Trans  \\\n",
       "5                                                    Man    No   \n",
       "11                                                 Woman    No   \n",
       "14                                                   Man    No   \n",
       "17                                                   Man    No   \n",
       "29                                                   Man    No   \n",
       "...                                                  ...   ...   \n",
       "88859  Non-binary, genderqueer, or gender non-conforming   NaN   \n",
       "88864                                                Man    No   \n",
       "88867                                                Man    No   \n",
       "88871                                                Man    No   \n",
       "88875                                                Man    No   \n",
       "\n",
       "                     Sexuality                                   Ethnicity  \\\n",
       "5      Straight / Heterosexual                                  East Asian   \n",
       "11     Straight / Heterosexual                 Black or of African descent   \n",
       "14                         NaN                                         NaN   \n",
       "17     Straight / Heterosexual                White or of European descent   \n",
       "29     Straight / Heterosexual                White or of European descent   \n",
       "...                        ...                                         ...   \n",
       "88859  Bisexual;Gay or Lesbian                White or of European descent   \n",
       "88864                      NaN                                 South Asian   \n",
       "88867                      NaN  Black or of African descent;Middle Eastern   \n",
       "88871  Straight / Heterosexual                White or of European descent   \n",
       "88875  Straight / Heterosexual                                         NaN   \n",
       "\n",
       "      Dependents           SurveyLength                  SurveyEase  \n",
       "5             No               Too long  Neither easy nor difficult  \n",
       "11            No  Appropriate in length                        Easy  \n",
       "14           Yes               Too long  Neither easy nor difficult  \n",
       "17           Yes  Appropriate in length  Neither easy nor difficult  \n",
       "29            No               Too long                        Easy  \n",
       "...          ...                    ...                         ...  \n",
       "88859         No  Appropriate in length                        Easy  \n",
       "88864        NaN  Appropriate in length                        Easy  \n",
       "88867         No  Appropriate in length  Neither easy nor difficult  \n",
       "88871         No  Appropriate in length                        Easy  \n",
       "88875        Yes              Too short  Neither easy nor difficult  \n",
       "\n",
       "[8844 rows x 85 columns]"
      ]
     },
     "execution_count": 31,
     "metadata": {},
     "output_type": "execute_result"
    }
   ],
   "source": [
    "# A different dataframe for the other profiles\n",
    "survey_others = survey[survey['DevType'].str.contains('Data') == False]\n",
    "survey_others = survey[survey['DevType'].str.contains('Developer') == False]\n",
    "survey_others"
   ]
  },
  {
   "cell_type": "markdown",
   "metadata": {},
   "source": [
    "##### The above dataframe occupies only about less than 10% of the data. We will not consider this section since they are from different profiles who are students, managers, and unemployed people with an interest in coding. Our focus is not on this group, but mostly on data scientists and professional developers."
   ]
  },
  {
   "cell_type": "code",
   "execution_count": 32,
   "metadata": {},
   "outputs": [
    {
     "data": {
      "text/html": [
       "<div>\n",
       "<style scoped>\n",
       "    .dataframe tbody tr th:only-of-type {\n",
       "        vertical-align: middle;\n",
       "    }\n",
       "\n",
       "    .dataframe tbody tr th {\n",
       "        vertical-align: top;\n",
       "    }\n",
       "\n",
       "    .dataframe thead th {\n",
       "        text-align: right;\n",
       "    }\n",
       "</style>\n",
       "<table border=\"1\" class=\"dataframe\">\n",
       "  <thead>\n",
       "    <tr style=\"text-align: right;\">\n",
       "      <th></th>\n",
       "      <th>Respondent</th>\n",
       "      <th>MainBranch</th>\n",
       "      <th>Hobbyist</th>\n",
       "      <th>OpenSourcer</th>\n",
       "      <th>OpenSource</th>\n",
       "      <th>Employment</th>\n",
       "      <th>Country</th>\n",
       "      <th>Student</th>\n",
       "      <th>EdLevel</th>\n",
       "      <th>UndergradMajor</th>\n",
       "      <th>...</th>\n",
       "      <th>WelcomeChange</th>\n",
       "      <th>SONewContent</th>\n",
       "      <th>Age</th>\n",
       "      <th>Gender</th>\n",
       "      <th>Trans</th>\n",
       "      <th>Sexuality</th>\n",
       "      <th>Ethnicity</th>\n",
       "      <th>Dependents</th>\n",
       "      <th>SurveyLength</th>\n",
       "      <th>SurveyEase</th>\n",
       "    </tr>\n",
       "  </thead>\n",
       "  <tbody>\n",
       "    <tr>\n",
       "      <th>1</th>\n",
       "      <td>2</td>\n",
       "      <td>I am a student who is learning to code</td>\n",
       "      <td>No</td>\n",
       "      <td>Less than once per year</td>\n",
       "      <td>The quality of OSS and closed source software ...</td>\n",
       "      <td>Not employed, but looking for work</td>\n",
       "      <td>Bosnia and Herzegovina</td>\n",
       "      <td>Yes, full-time</td>\n",
       "      <td>Secondary school (e.g. American high school, G...</td>\n",
       "      <td>NaN</td>\n",
       "      <td>...</td>\n",
       "      <td>Just as welcome now as I felt last year</td>\n",
       "      <td>Tech articles written by other developers;Indu...</td>\n",
       "      <td>19.0</td>\n",
       "      <td>Man</td>\n",
       "      <td>No</td>\n",
       "      <td>Straight / Heterosexual</td>\n",
       "      <td>NaN</td>\n",
       "      <td>No</td>\n",
       "      <td>Appropriate in length</td>\n",
       "      <td>Neither easy nor difficult</td>\n",
       "    </tr>\n",
       "    <tr>\n",
       "      <th>2</th>\n",
       "      <td>3</td>\n",
       "      <td>I am not primarily a developer, but I write co...</td>\n",
       "      <td>Yes</td>\n",
       "      <td>Never</td>\n",
       "      <td>The quality of OSS and closed source software ...</td>\n",
       "      <td>Employed full-time</td>\n",
       "      <td>Thailand</td>\n",
       "      <td>No</td>\n",
       "      <td>Bachelor’s degree (BA, BS, B.Eng., etc.)</td>\n",
       "      <td>Web development or web design</td>\n",
       "      <td>...</td>\n",
       "      <td>Just as welcome now as I felt last year</td>\n",
       "      <td>Tech meetups or events in your area;Courses on...</td>\n",
       "      <td>28.0</td>\n",
       "      <td>Man</td>\n",
       "      <td>No</td>\n",
       "      <td>Straight / Heterosexual</td>\n",
       "      <td>NaN</td>\n",
       "      <td>Yes</td>\n",
       "      <td>Appropriate in length</td>\n",
       "      <td>Neither easy nor difficult</td>\n",
       "    </tr>\n",
       "    <tr>\n",
       "      <th>3</th>\n",
       "      <td>4</td>\n",
       "      <td>I am a developer by profession</td>\n",
       "      <td>No</td>\n",
       "      <td>Never</td>\n",
       "      <td>The quality of OSS and closed source software ...</td>\n",
       "      <td>Employed full-time</td>\n",
       "      <td>United States</td>\n",
       "      <td>No</td>\n",
       "      <td>Bachelor’s degree (BA, BS, B.Eng., etc.)</td>\n",
       "      <td>Computer science, computer engineering, or sof...</td>\n",
       "      <td>...</td>\n",
       "      <td>Just as welcome now as I felt last year</td>\n",
       "      <td>Tech articles written by other developers;Indu...</td>\n",
       "      <td>22.0</td>\n",
       "      <td>Man</td>\n",
       "      <td>No</td>\n",
       "      <td>Straight / Heterosexual</td>\n",
       "      <td>White or of European descent</td>\n",
       "      <td>No</td>\n",
       "      <td>Appropriate in length</td>\n",
       "      <td>Easy</td>\n",
       "    </tr>\n",
       "    <tr>\n",
       "      <th>4</th>\n",
       "      <td>5</td>\n",
       "      <td>I am a developer by profession</td>\n",
       "      <td>Yes</td>\n",
       "      <td>Once a month or more often</td>\n",
       "      <td>OSS is, on average, of HIGHER quality than pro...</td>\n",
       "      <td>Employed full-time</td>\n",
       "      <td>Ukraine</td>\n",
       "      <td>No</td>\n",
       "      <td>Bachelor’s degree (BA, BS, B.Eng., etc.)</td>\n",
       "      <td>Computer science, computer engineering, or sof...</td>\n",
       "      <td>...</td>\n",
       "      <td>Just as welcome now as I felt last year</td>\n",
       "      <td>Tech meetups or events in your area;Courses on...</td>\n",
       "      <td>30.0</td>\n",
       "      <td>Man</td>\n",
       "      <td>No</td>\n",
       "      <td>Straight / Heterosexual</td>\n",
       "      <td>White or of European descent;Multiracial</td>\n",
       "      <td>No</td>\n",
       "      <td>Appropriate in length</td>\n",
       "      <td>Easy</td>\n",
       "    </tr>\n",
       "    <tr>\n",
       "      <th>6</th>\n",
       "      <td>7</td>\n",
       "      <td>I am a developer by profession</td>\n",
       "      <td>No</td>\n",
       "      <td>Never</td>\n",
       "      <td>The quality of OSS and closed source software ...</td>\n",
       "      <td>Independent contractor, freelancer, or self-em...</td>\n",
       "      <td>Ukraine</td>\n",
       "      <td>No</td>\n",
       "      <td>Bachelor’s degree (BA, BS, B.Eng., etc.)</td>\n",
       "      <td>Another engineering discipline (ex. civil, ele...</td>\n",
       "      <td>...</td>\n",
       "      <td>A lot more welcome now than last year</td>\n",
       "      <td>NaN</td>\n",
       "      <td>42.0</td>\n",
       "      <td>Man</td>\n",
       "      <td>No</td>\n",
       "      <td>Straight / Heterosexual</td>\n",
       "      <td>White or of European descent</td>\n",
       "      <td>Yes</td>\n",
       "      <td>Appropriate in length</td>\n",
       "      <td>Neither easy nor difficult</td>\n",
       "    </tr>\n",
       "    <tr>\n",
       "      <th>...</th>\n",
       "      <td>...</td>\n",
       "      <td>...</td>\n",
       "      <td>...</td>\n",
       "      <td>...</td>\n",
       "      <td>...</td>\n",
       "      <td>...</td>\n",
       "      <td>...</td>\n",
       "      <td>...</td>\n",
       "      <td>...</td>\n",
       "      <td>...</td>\n",
       "      <td>...</td>\n",
       "      <td>...</td>\n",
       "      <td>...</td>\n",
       "      <td>...</td>\n",
       "      <td>...</td>\n",
       "      <td>...</td>\n",
       "      <td>...</td>\n",
       "      <td>...</td>\n",
       "      <td>...</td>\n",
       "      <td>...</td>\n",
       "      <td>...</td>\n",
       "    </tr>\n",
       "    <tr>\n",
       "      <th>88853</th>\n",
       "      <td>84299</td>\n",
       "      <td>NaN</td>\n",
       "      <td>Yes</td>\n",
       "      <td>Never</td>\n",
       "      <td>The quality of OSS and closed source software ...</td>\n",
       "      <td>Employed full-time</td>\n",
       "      <td>India</td>\n",
       "      <td>Yes, full-time</td>\n",
       "      <td>Bachelor’s degree (BA, BS, B.Eng., etc.)</td>\n",
       "      <td>Web development or web design</td>\n",
       "      <td>...</td>\n",
       "      <td>Somewhat more welcome now than last year</td>\n",
       "      <td>NaN</td>\n",
       "      <td>NaN</td>\n",
       "      <td>NaN</td>\n",
       "      <td>NaN</td>\n",
       "      <td>NaN</td>\n",
       "      <td>NaN</td>\n",
       "      <td>NaN</td>\n",
       "      <td>NaN</td>\n",
       "      <td>NaN</td>\n",
       "    </tr>\n",
       "    <tr>\n",
       "      <th>88854</th>\n",
       "      <td>84539</td>\n",
       "      <td>NaN</td>\n",
       "      <td>Yes</td>\n",
       "      <td>Less than once a month but more than once per ...</td>\n",
       "      <td>The quality of OSS and closed source software ...</td>\n",
       "      <td>Employed full-time</td>\n",
       "      <td>United Kingdom</td>\n",
       "      <td>Yes, full-time</td>\n",
       "      <td>Bachelor’s degree (BA, BS, B.Eng., etc.)</td>\n",
       "      <td>Computer science, computer engineering, or sof...</td>\n",
       "      <td>...</td>\n",
       "      <td>Just as welcome now as I felt last year</td>\n",
       "      <td>Courses on technologies you're interested in</td>\n",
       "      <td>23.0</td>\n",
       "      <td>Woman</td>\n",
       "      <td>Yes</td>\n",
       "      <td>Bisexual</td>\n",
       "      <td>White or of European descent</td>\n",
       "      <td>No</td>\n",
       "      <td>Appropriate in length</td>\n",
       "      <td>Easy</td>\n",
       "    </tr>\n",
       "    <tr>\n",
       "      <th>88872</th>\n",
       "      <td>87739</td>\n",
       "      <td>NaN</td>\n",
       "      <td>Yes</td>\n",
       "      <td>Less than once per year</td>\n",
       "      <td>OSS is, on average, of HIGHER quality than pro...</td>\n",
       "      <td>Employed part-time</td>\n",
       "      <td>Czech Republic</td>\n",
       "      <td>Yes, full-time</td>\n",
       "      <td>Master’s degree (MA, MS, M.Eng., MBA, etc.)</td>\n",
       "      <td>Computer science, computer engineering, or sof...</td>\n",
       "      <td>...</td>\n",
       "      <td>Just as welcome now as I felt last year</td>\n",
       "      <td>NaN</td>\n",
       "      <td>25.0</td>\n",
       "      <td>NaN</td>\n",
       "      <td>No</td>\n",
       "      <td>Straight / Heterosexual</td>\n",
       "      <td>White or of European descent</td>\n",
       "      <td>No</td>\n",
       "      <td>Appropriate in length</td>\n",
       "      <td>Easy</td>\n",
       "    </tr>\n",
       "    <tr>\n",
       "      <th>88876</th>\n",
       "      <td>88212</td>\n",
       "      <td>NaN</td>\n",
       "      <td>No</td>\n",
       "      <td>Less than once per year</td>\n",
       "      <td>OSS is, on average, of HIGHER quality than pro...</td>\n",
       "      <td>Employed full-time</td>\n",
       "      <td>Spain</td>\n",
       "      <td>No</td>\n",
       "      <td>Secondary school (e.g. American high school, G...</td>\n",
       "      <td>NaN</td>\n",
       "      <td>...</td>\n",
       "      <td>NaN</td>\n",
       "      <td>Tech articles written by other developers;Indu...</td>\n",
       "      <td>40.0</td>\n",
       "      <td>Man</td>\n",
       "      <td>No</td>\n",
       "      <td>Straight / Heterosexual</td>\n",
       "      <td>White or of European descent</td>\n",
       "      <td>No</td>\n",
       "      <td>Appropriate in length</td>\n",
       "      <td>Easy</td>\n",
       "    </tr>\n",
       "    <tr>\n",
       "      <th>88877</th>\n",
       "      <td>88282</td>\n",
       "      <td>NaN</td>\n",
       "      <td>Yes</td>\n",
       "      <td>Once a month or more often</td>\n",
       "      <td>The quality of OSS and closed source software ...</td>\n",
       "      <td>Not employed, but looking for work</td>\n",
       "      <td>United States</td>\n",
       "      <td>No</td>\n",
       "      <td>Some college/university study without earning ...</td>\n",
       "      <td>Computer science, computer engineering, or sof...</td>\n",
       "      <td>...</td>\n",
       "      <td>Just as welcome now as I felt last year</td>\n",
       "      <td>NaN</td>\n",
       "      <td>NaN</td>\n",
       "      <td>Man</td>\n",
       "      <td>No</td>\n",
       "      <td>Straight / Heterosexual</td>\n",
       "      <td>NaN</td>\n",
       "      <td>No</td>\n",
       "      <td>Too short</td>\n",
       "      <td>Neither easy nor difficult</td>\n",
       "    </tr>\n",
       "  </tbody>\n",
       "</table>\n",
       "<p>72491 rows × 85 columns</p>\n",
       "</div>"
      ],
      "text/plain": [
       "       Respondent                                         MainBranch Hobbyist  \\\n",
       "1               2             I am a student who is learning to code       No   \n",
       "2               3  I am not primarily a developer, but I write co...      Yes   \n",
       "3               4                     I am a developer by profession       No   \n",
       "4               5                     I am a developer by profession      Yes   \n",
       "6               7                     I am a developer by profession       No   \n",
       "...           ...                                                ...      ...   \n",
       "88853       84299                                                NaN      Yes   \n",
       "88854       84539                                                NaN      Yes   \n",
       "88872       87739                                                NaN      Yes   \n",
       "88876       88212                                                NaN       No   \n",
       "88877       88282                                                NaN      Yes   \n",
       "\n",
       "                                             OpenSourcer  \\\n",
       "1                                Less than once per year   \n",
       "2                                                  Never   \n",
       "3                                                  Never   \n",
       "4                             Once a month or more often   \n",
       "6                                                  Never   \n",
       "...                                                  ...   \n",
       "88853                                              Never   \n",
       "88854  Less than once a month but more than once per ...   \n",
       "88872                            Less than once per year   \n",
       "88876                            Less than once per year   \n",
       "88877                         Once a month or more often   \n",
       "\n",
       "                                              OpenSource  \\\n",
       "1      The quality of OSS and closed source software ...   \n",
       "2      The quality of OSS and closed source software ...   \n",
       "3      The quality of OSS and closed source software ...   \n",
       "4      OSS is, on average, of HIGHER quality than pro...   \n",
       "6      The quality of OSS and closed source software ...   \n",
       "...                                                  ...   \n",
       "88853  The quality of OSS and closed source software ...   \n",
       "88854  The quality of OSS and closed source software ...   \n",
       "88872  OSS is, on average, of HIGHER quality than pro...   \n",
       "88876  OSS is, on average, of HIGHER quality than pro...   \n",
       "88877  The quality of OSS and closed source software ...   \n",
       "\n",
       "                                              Employment  \\\n",
       "1                     Not employed, but looking for work   \n",
       "2                                     Employed full-time   \n",
       "3                                     Employed full-time   \n",
       "4                                     Employed full-time   \n",
       "6      Independent contractor, freelancer, or self-em...   \n",
       "...                                                  ...   \n",
       "88853                                 Employed full-time   \n",
       "88854                                 Employed full-time   \n",
       "88872                                 Employed part-time   \n",
       "88876                                 Employed full-time   \n",
       "88877                 Not employed, but looking for work   \n",
       "\n",
       "                      Country         Student  \\\n",
       "1      Bosnia and Herzegovina  Yes, full-time   \n",
       "2                    Thailand              No   \n",
       "3               United States              No   \n",
       "4                     Ukraine              No   \n",
       "6                     Ukraine              No   \n",
       "...                       ...             ...   \n",
       "88853                   India  Yes, full-time   \n",
       "88854          United Kingdom  Yes, full-time   \n",
       "88872          Czech Republic  Yes, full-time   \n",
       "88876                   Spain              No   \n",
       "88877           United States              No   \n",
       "\n",
       "                                                 EdLevel  \\\n",
       "1      Secondary school (e.g. American high school, G...   \n",
       "2               Bachelor’s degree (BA, BS, B.Eng., etc.)   \n",
       "3               Bachelor’s degree (BA, BS, B.Eng., etc.)   \n",
       "4               Bachelor’s degree (BA, BS, B.Eng., etc.)   \n",
       "6               Bachelor’s degree (BA, BS, B.Eng., etc.)   \n",
       "...                                                  ...   \n",
       "88853           Bachelor’s degree (BA, BS, B.Eng., etc.)   \n",
       "88854           Bachelor’s degree (BA, BS, B.Eng., etc.)   \n",
       "88872        Master’s degree (MA, MS, M.Eng., MBA, etc.)   \n",
       "88876  Secondary school (e.g. American high school, G...   \n",
       "88877  Some college/university study without earning ...   \n",
       "\n",
       "                                          UndergradMajor  ...  \\\n",
       "1                                                    NaN  ...   \n",
       "2                          Web development or web design  ...   \n",
       "3      Computer science, computer engineering, or sof...  ...   \n",
       "4      Computer science, computer engineering, or sof...  ...   \n",
       "6      Another engineering discipline (ex. civil, ele...  ...   \n",
       "...                                                  ...  ...   \n",
       "88853                      Web development or web design  ...   \n",
       "88854  Computer science, computer engineering, or sof...  ...   \n",
       "88872  Computer science, computer engineering, or sof...  ...   \n",
       "88876                                                NaN  ...   \n",
       "88877  Computer science, computer engineering, or sof...  ...   \n",
       "\n",
       "                                  WelcomeChange  \\\n",
       "1       Just as welcome now as I felt last year   \n",
       "2       Just as welcome now as I felt last year   \n",
       "3       Just as welcome now as I felt last year   \n",
       "4       Just as welcome now as I felt last year   \n",
       "6         A lot more welcome now than last year   \n",
       "...                                         ...   \n",
       "88853  Somewhat more welcome now than last year   \n",
       "88854   Just as welcome now as I felt last year   \n",
       "88872   Just as welcome now as I felt last year   \n",
       "88876                                       NaN   \n",
       "88877   Just as welcome now as I felt last year   \n",
       "\n",
       "                                            SONewContent   Age Gender Trans  \\\n",
       "1      Tech articles written by other developers;Indu...  19.0    Man    No   \n",
       "2      Tech meetups or events in your area;Courses on...  28.0    Man    No   \n",
       "3      Tech articles written by other developers;Indu...  22.0    Man    No   \n",
       "4      Tech meetups or events in your area;Courses on...  30.0    Man    No   \n",
       "6                                                    NaN  42.0    Man    No   \n",
       "...                                                  ...   ...    ...   ...   \n",
       "88853                                                NaN   NaN    NaN   NaN   \n",
       "88854       Courses on technologies you're interested in  23.0  Woman   Yes   \n",
       "88872                                                NaN  25.0    NaN    No   \n",
       "88876  Tech articles written by other developers;Indu...  40.0    Man    No   \n",
       "88877                                                NaN   NaN    Man    No   \n",
       "\n",
       "                     Sexuality                                 Ethnicity  \\\n",
       "1      Straight / Heterosexual                                       NaN   \n",
       "2      Straight / Heterosexual                                       NaN   \n",
       "3      Straight / Heterosexual              White or of European descent   \n",
       "4      Straight / Heterosexual  White or of European descent;Multiracial   \n",
       "6      Straight / Heterosexual              White or of European descent   \n",
       "...                        ...                                       ...   \n",
       "88853                      NaN                                       NaN   \n",
       "88854                 Bisexual              White or of European descent   \n",
       "88872  Straight / Heterosexual              White or of European descent   \n",
       "88876  Straight / Heterosexual              White or of European descent   \n",
       "88877  Straight / Heterosexual                                       NaN   \n",
       "\n",
       "      Dependents           SurveyLength                  SurveyEase  \n",
       "1             No  Appropriate in length  Neither easy nor difficult  \n",
       "2            Yes  Appropriate in length  Neither easy nor difficult  \n",
       "3             No  Appropriate in length                        Easy  \n",
       "4             No  Appropriate in length                        Easy  \n",
       "6            Yes  Appropriate in length  Neither easy nor difficult  \n",
       "...          ...                    ...                         ...  \n",
       "88853        NaN                    NaN                         NaN  \n",
       "88854         No  Appropriate in length                        Easy  \n",
       "88872         No  Appropriate in length                        Easy  \n",
       "88876         No  Appropriate in length                        Easy  \n",
       "88877         No              Too short  Neither easy nor difficult  \n",
       "\n",
       "[72491 rows x 85 columns]"
      ]
     },
     "execution_count": 32,
     "metadata": {},
     "output_type": "execute_result"
    }
   ],
   "source": [
    "survey_sd"
   ]
  },
  {
   "cell_type": "code",
   "execution_count": 33,
   "metadata": {},
   "outputs": [
    {
     "data": {
      "text/plain": [
       "I am a developer by profession                                                   12443\n",
       "I am not primarily a developer, but I write code sometimes as part of my work     2863\n",
       "I am a student who is learning to code                                            1207\n",
       "I code primarily as a hobby                                                        379\n",
       "I used to be a developer by profession, but no longer am                           342\n",
       "Name: MainBranch, dtype: int64"
      ]
     },
     "execution_count": 33,
     "metadata": {},
     "output_type": "execute_result"
    }
   ],
   "source": [
    "survey_ds['MainBranch'].value_counts()"
   ]
  },
  {
   "cell_type": "markdown",
   "metadata": {},
   "source": [
    "# Data Modelling and Evaluation"
   ]
  },
  {
   "cell_type": "markdown",
   "metadata": {},
   "source": [
    "# ** How many professional developers are satisfied in data science career?*"
   ]
  },
  {
   "cell_type": "code",
   "execution_count": 34,
   "metadata": {},
   "outputs": [
    {
     "data": {
      "text/plain": [
       "<matplotlib.axes._subplots.AxesSubplot at 0x2020de3c708>"
      ]
     },
     "execution_count": 34,
     "metadata": {},
     "output_type": "execute_result"
    },
    {
     "data": {
      "image/png": "[encoded data removed]",
      "text/plain": [
       "<Figure size 432x288 with 1 Axes>"
      ]
     },
     "metadata": {
      "needs_background": "light"
     },
     "output_type": "display_data"
    }
   ],
   "source": [
    "data_ds = survey_ds[survey_ds['MainBranch']=='I am a developer by profession']\n",
    "plot_data=data_ds['CareerSat'].value_counts().reset_index()\n",
    "plot_data.rename(columns={'index':'Satisfaction scale','CareerSat':'Number of Developers'},inplace=True)\n",
    "sns.barplot(y='Satisfaction scale',x='Number of Developers',data=plot_data, color='aqua')"
   ]
  },
  {
   "cell_type": "markdown",
   "metadata": {},
   "source": [
    "# ** How many professional developers are satisfied in data science jobs?*"
   ]
  },
  {
   "cell_type": "code",
   "execution_count": 35,
   "metadata": {},
   "outputs": [
    {
     "data": {
      "text/plain": [
       "<matplotlib.axes._subplots.AxesSubplot at 0x20212eb9588>"
      ]
     },
     "execution_count": 35,
     "metadata": {},
     "output_type": "execute_result"
    },
    {
     "data": {
      "image/png": "[encoded data removed]",
      "text/plain": [
       "<Figure size 432x288 with 1 Axes>"
      ]
     },
     "metadata": {
      "needs_background": "light"
     },
     "output_type": "display_data"
    }
   ],
   "source": [
    "data_ds = survey_ds[survey_ds['MainBranch']=='I am a developer by profession']\n",
    "plot_data=data_ds['JobSat'].value_counts().reset_index()\n",
    "plot_data.rename(columns={'index':'Satisfaction scale','JobSat':'Number of Developers'},inplace=True)\n",
    "sns.barplot(y='Satisfaction scale',x='Number of Developers',data=plot_data, color='salmon')"
   ]
  },
  {
   "cell_type": "code",
   "execution_count": 36,
   "metadata": {},
   "outputs": [
    {
     "data": {
      "text/plain": [
       "I am a developer by profession    61987\n",
       "Name: MainBranch, dtype: int64"
      ]
     },
     "execution_count": 36,
     "metadata": {},
     "output_type": "execute_result"
    }
   ],
   "source": [
    "data_sd = survey_sd[survey_sd['MainBranch']=='I am a developer by profession']\n",
    "data_sd['MainBranch'].value_counts()"
   ]
  },
  {
   "cell_type": "code",
   "execution_count": 37,
   "metadata": {
    "scrolled": true
   },
   "outputs": [
    {
     "data": {
      "text/plain": [
       "<matplotlib.axes._subplots.AxesSubplot at 0x2021d6ca848>"
      ]
     },
     "execution_count": 37,
     "metadata": {},
     "output_type": "execute_result"
    },
    {
     "data": {
      "image/png": "[encoded data removed]",
      "text/plain": [
       "<Figure size 432x288 with 1 Axes>"
      ]
     },
     "metadata": {
      "needs_background": "light"
     },
     "output_type": "display_data"
    }
   ],
   "source": [
    "data_sd = survey_sd[survey_sd['MainBranch']=='I am a developer by profession']\n",
    "plot_data=data_sd['JobSat'].value_counts().reset_index()\n",
    "plot_data.rename(columns={'index':'Satisfaction scale','JobSat':'Number of Developers'},inplace=True)\n",
    "sns.barplot(y='Satisfaction scale',x='Number of Developers',data=plot_data, color='blue')"
   ]
  },
  {
   "cell_type": "code",
   "execution_count": 38,
   "metadata": {},
   "outputs": [
    {
     "data": {
      "text/plain": [
       "<matplotlib.axes._subplots.AxesSubplot at 0x2021d751248>"
      ]
     },
     "execution_count": 38,
     "metadata": {},
     "output_type": "execute_result"
    },
    {
     "data": {
      "image/png": "[encoded data removed]",
      "text/plain": [
       "<Figure size 432x288 with 1 Axes>"
      ]
     },
     "metadata": {
      "needs_background": "light"
     },
     "output_type": "display_data"
    }
   ],
   "source": [
    "data_sd = survey_sd[survey_sd['MainBranch']=='I am a developer by profession']\n",
    "plot_data=data_sd['CareerSat'].value_counts().reset_index()\n",
    "plot_data.rename(columns={'index':'Satisfaction scale','CareerSat':'Number of Developers'},inplace=True)\n",
    "sns.barplot(y='Satisfaction scale',x='Number of Developers',data=plot_data, color='grey')"
   ]
  },
  {
   "cell_type": "code",
   "execution_count": 39,
   "metadata": {},
   "outputs": [
    {
     "data": {
      "text/plain": [
       "(61987, 85)"
      ]
     },
     "execution_count": 39,
     "metadata": {},
     "output_type": "execute_result"
    }
   ],
   "source": [
    "data_sd = survey_sd[survey_sd['MainBranch']=='I am a developer by profession']\n",
    "data_sd.shape"
   ]
  },
  {
   "cell_type": "code",
   "execution_count": 40,
   "metadata": {
    "scrolled": false
   },
   "outputs": [
    {
     "data": {
      "text/plain": [
       "array(['Man', nan, 'Woman',\n",
       "       'Non-binary, genderqueer, or gender non-conforming',\n",
       "       'Woman;Non-binary, genderqueer, or gender non-conforming',\n",
       "       'Man;Non-binary, genderqueer, or gender non-conforming',\n",
       "       'Woman;Man',\n",
       "       'Woman;Man;Non-binary, genderqueer, or gender non-conforming'],\n",
       "      dtype=object)"
      ]
     },
     "execution_count": 40,
     "metadata": {},
     "output_type": "execute_result"
    }
   ],
   "source": [
    "survey_ds['Gender'].unique()"
   ]
  },
  {
   "cell_type": "markdown",
   "metadata": {},
   "source": [
    "##### We will create a function to handle the categorical variables such as Gender, Education Level, Undergraduate Major, Satisfaction scales, Coding Experience to make our visualizations and plotting easier. These are the top 5 important features for our analysis."
   ]
  },
  {
   "cell_type": "code",
   "execution_count": 41,
   "metadata": {},
   "outputs": [],
   "source": [
    "# Simplify Gender\n",
    "def simplify_gender(df):\n",
    "    \"\"\"Add a new field, Gender_New, to dataframe, containing simplified Gender values.\n",
    "    \n",
    "    Args:\n",
    "    df: dataframe. Dataframe containing the field Gender.\n",
    "       \n",
    "    Returns:\n",
    "    df: dataframe. Modified version of the input dataframe containing a new field, Gender_New.\n",
    "    \"\"\"\n",
    "    conditions_gender = [(df['Gender'] == 'Man'),\n",
    "                         (df['Gender'] == 'Woman'),\n",
    "                         (df['Gender'] != 'Man') & (df['Gender'] != 'Woman') \n",
    "                         & (pd.isnull(df['Gender']) == False)]\n",
    "\n",
    "    choices_gender = ['Male', 'Female', 'Other']\n",
    "\n",
    "    df['Gender_New'] = np.select(conditions_gender, choices_gender, default = np.NaN)\n",
    "    \n",
    "    return df\n",
    "                \n",
    "# Apply function to subsets\n",
    "survey_ds = simplify_gender(survey_ds)\n",
    "survey_sd = simplify_gender(survey_sd)"
   ]
  },
  {
   "cell_type": "code",
   "execution_count": 42,
   "metadata": {},
   "outputs": [],
   "source": [
    "# Simplify EdLevel\n",
    "def simplify_ed(df):\n",
    "    \"\"\"Add a new field, FormalEducation_New, to dataframe, containing simplified FormalEducation values.\n",
    "    \n",
    "    Args:\n",
    "    df: dataframe. Dataframe containing the field FormalEducation.\n",
    "       \n",
    "    Returns:\n",
    "    df: dataframe. Modified version of the input dataframe containing a new field, FormalEducation_New.\n",
    "    \"\"\"\n",
    "    conditions_ed = [(df['EdLevel'] == 'Bachelor’s degree (BA, BS, B.Eng., etc.)'),\n",
    "                     (df['EdLevel'] == 'Master’s degree (MA, MS, M.Eng., MBA, etc.)'),\n",
    "                     (df['EdLevel'] == 'Professional degree (JD, MD, etc.)'),   \n",
    "                     (df['EdLevel'] == 'Associate degree'),\n",
    "                     (df['EdLevel'] == 'Other doctoral degree (Ph.D, Ed.D., etc.)'),\n",
    "                     (df['EdLevel'] == 'Some college/university study without earning a degree') \n",
    "                     | (df['EdLevel'] == 'Secondary school (e.g. American high school, German Realschule or Gymnasium, etc.)') \n",
    "                     | (df['EdLevel'] == 'Primary/elementary school')\n",
    "                     | (df['EdLevel'] == 'I never completed any formal education')]\n",
    "\n",
    "    choices_ed = ['Bachelors', 'Masters', 'Professional', 'Associate', 'Doctorate', 'No Degree']\n",
    "\n",
    "    df['FormalEducation_New'] = np.select(conditions_ed, choices_ed, default = np.NaN)\n",
    "    \n",
    "    return df\n",
    "\n",
    "# Apply function to subsets\n",
    "survey_ds = simplify_ed(survey_ds)\n",
    "survey_sd = simplify_ed(survey_sd)"
   ]
  },
  {
   "cell_type": "code",
   "execution_count": 43,
   "metadata": {},
   "outputs": [],
   "source": [
    "# Simplify Undergraduate Major\n",
    "def simplify_major(df):\n",
    "    \"\"\"Add a new field, UndergradMajor_New, to dataframe, containing simplified UndergradMajor values.\n",
    "    \n",
    "    Args:\n",
    "    df: dataframe. Dataframe containing the field UndergradMajor.\n",
    "       \n",
    "    Returns:\n",
    "    df: dataframe. Modified version of the input dataframe containing a new field, UndergradMajor_New.\n",
    "    \"\"\"\n",
    "    conditions_major = [(df['UndergradMajor'] == 'Computer science, computer engineering, or software engineering'),\n",
    "                        (df['UndergradMajor'] == 'Another engineering discipline (ex. civil, electrical, mechanical)'),\n",
    "                        (df['UndergradMajor'] == 'Information systems, information technology, or system administration'),\n",
    "                        (df['UndergradMajor'] == 'Mathematics or statistics'),\n",
    "                        (df['UndergradMajor'] == 'A natural science (ex. biology, chemistry, physics)')\n",
    "                        |(df['UndergradMajor'] == 'A health science (ex. nursing, pharmacy, radiology)'),\n",
    "                        (df['UndergradMajor'] == 'Web development or web design'),\n",
    "                        (df['UndergradMajor'] == 'A business discipline (ex. accounting, finance, marketing)'),\n",
    "                        (df['UndergradMajor'] == 'A humanities discipline (ex. literature, history, philosophy)')\n",
    "                        | (df['UndergradMajor'] == 'A social science (ex. anthropology, psychology, political science)')\n",
    "                        | (df['UndergradMajor'] == 'Fine arts or performing arts (ex. graphic design, music, studio art)')]\n",
    "\n",
    "    choices_major = ['Computer Science', 'Engineering', 'IT/Info Systems', 'Math/Statistics', 'Other Science',\n",
    "                     'Web Design/Development', 'Business', 'Arts/Humanities/Social Science']\n",
    "\n",
    "    df['UndergradMajor_New'] = np.select(conditions_major, choices_major, default = np.NaN)\n",
    "    \n",
    "    return df\n",
    "\n",
    "# Apply function to subsets\n",
    "survey_ds = simplify_major(survey_ds)\n",
    "survey_sd = simplify_major(survey_sd)"
   ]
  },
  {
   "cell_type": "code",
   "execution_count": 44,
   "metadata": {},
   "outputs": [
    {
     "data": {
      "text/plain": [
       "1        False\n",
       "2        False\n",
       "3        False\n",
       "4        False\n",
       "5        False\n",
       "         ...  \n",
       "88871    False\n",
       "88872    False\n",
       "88875     True\n",
       "88876    False\n",
       "88877     True\n",
       "Name: Age, Length: 81335, dtype: bool"
      ]
     },
     "execution_count": 44,
     "metadata": {},
     "output_type": "execute_result"
    }
   ],
   "source": [
    "survey['Age'].isna()"
   ]
  },
  {
   "cell_type": "code",
   "execution_count": 46,
   "metadata": {},
   "outputs": [],
   "source": [
    "# Convert YearsCoding and YearsCodingProf to numeric\n",
    "def convert_coding(df, col, new_col):\n",
    "    \"\"\"Add a new field, new_col, to dataframe, containing numeric values equivalent to the midpoints of the corresponding\n",
    "    col range values.\n",
    "    \n",
    "    Args:\n",
    "    df: dataframe. Dataframe containing the field col.\n",
    "       \n",
    "    Returns:\n",
    "    df: dataframe. Modified version of the input dataframe containing a new field, new_col.\n",
    "    \"\"\"\n",
    "    conditions_coding = [\n",
    "                         (df[col] == 'Less than 1 year'),\n",
    "                         (df[col] == 'More than 50 years')]\n",
    "    \n",
    "    choices_coding = [1, 51]\n",
    "    \n",
    "    df[new_col] = np.select(conditions_coding, choices_coding, default = np.NaN)\n",
    "    \n",
    "    return df\n",
    "\n",
    "# Apply function to subsets\n",
    "survey_ds = convert_coding(survey_ds, 'YearsCode', 'YearsCode_Num')\n",
    "survey_ds = convert_coding(survey_ds, 'YearsCodePro', 'YearsCodePro_Num')\n",
    "\n",
    "survey_sd = convert_coding(survey_sd, 'YearsCode', 'YearsCode_Num')\n",
    "survey_sd = convert_coding(survey_sd, 'YearsCodePro', 'YearsCodePro_Num')"
   ]
  },
  {
   "cell_type": "code",
   "execution_count": 47,
   "metadata": {},
   "outputs": [],
   "source": [
    "# Convert satisfaction scales to numeric scales\n",
    "def convert_scale(df, col, new_col):\n",
    "    \"\"\"Add a new field, new_col, to dataframe, containing numeric equivalents to the categorical scale reflected in col\n",
    "    \n",
    "    Args:\n",
    "    df: dataframe. Dataframe containing the field col.\n",
    "       \n",
    "    Returns:\n",
    "    df: dataframe. Modified version of the input dataframe containing a new field, new_col.\n",
    "    \"\"\"\n",
    "    conditions_sat = [(df[col] == 'Very dissatisfied'),\n",
    "                     (df[col] == 'Slightly dissatisfied'),\n",
    "                     (df[col] == 'Neither satisfied nor dissatisfied'),\n",
    "                     (df[col] == 'Slightly satisfied'),\n",
    "                     (df[col] == 'Very satisfied')]\n",
    "    \n",
    "    choices_sat = [1, 2, 3, 4, 5]\n",
    "    \n",
    "    df[new_col] = np.select(conditions_sat, choices_sat, default = np.NaN)\n",
    "    \n",
    "    return df\n",
    "\n",
    "# Apply function to subsets\n",
    "survey_ds = convert_scale(survey_ds, 'JobSat', 'JobSat_Num')\n",
    "survey_ds = convert_scale(survey_ds, 'CareerSat', 'CareerSat_Num')\n",
    "\n",
    "survey_sd = convert_scale(survey_sd, 'JobSat', 'JobSat_Num')\n",
    "survey_sd = convert_scale(survey_sd, 'CareerSat', 'CareerSat_Num')"
   ]
  },
  {
   "cell_type": "code",
   "execution_count": 48,
   "metadata": {},
   "outputs": [
    {
     "data": {
      "text/plain": [
       "Slightly satisfied                    5045\n",
       "Very satisfied                        4867\n",
       "Slightly dissatisfied                 2205\n",
       "Neither satisfied nor dissatisfied    1801\n",
       "Very dissatisfied                      992\n",
       "Name: JobSat, dtype: int64"
      ]
     },
     "execution_count": 48,
     "metadata": {},
     "output_type": "execute_result"
    }
   ],
   "source": [
    "survey_ds['JobSat'].value_counts()"
   ]
  },
  {
   "cell_type": "markdown",
   "metadata": {},
   "source": [
    "Splitting Multi-Selection Fields\n",
    "\n",
    "For the fields where multiple selections were possible (i.e. EducationTypes and LanguageWorkedWith), I have split the strings containing the multiple selections into a list of selections and then concatenate these lists into a single list (dropping any missing values in the process). In the case of EducationTypes, it is good to simplify these fields to reduce the length of category labels and to group similar categories into a single category."
   ]
  },
  {
   "cell_type": "code",
   "execution_count": 49,
   "metadata": {},
   "outputs": [],
   "source": [
    "# Create dataframe containing split string values by respondent number\n",
    "def split_list(df, col):\n",
    "    \"\"\"Create a new dataframe that splits the values of multi-selection column col into individual selections and \n",
    "    places each selection value on a separate row. This new dataframe can be linked back to the original dataframe by \n",
    "    Respondent value.\n",
    "    \n",
    "    Args:\n",
    "    df: dataframe. Dataframe containing the multi-selection field col.\n",
    "       \n",
    "    Returns:\n",
    "    out_df: dataframe. New dataframe giving split values of col.\n",
    "    \"\"\"\n",
    "    in_res = list(df['Respondent'])\n",
    "    in_list = list(df[col])\n",
    "    \n",
    "    out_res = []\n",
    "    out_list = []\n",
    "    \n",
    "    for i in range(len(in_list)):\n",
    "        if pd.isnull(in_list[i]) == False:\n",
    "            vals = in_list[i].split(';')\n",
    "            res = [in_res[i]]*len(vals)\n",
    "            \n",
    "            out_list.append(vals)\n",
    "            out_res.append(res)\n",
    "    \n",
    "    out_df = pd.DataFrame({'Respondent': list(np.concatenate(out_res)), col: list(np.concatenate(out_list))})\n",
    "    \n",
    "    return out_df"
   ]
  },
  {
   "cell_type": "code",
   "execution_count": 50,
   "metadata": {},
   "outputs": [
    {
     "data": {
      "text/plain": [
       "array(['Taken an online course in programming or software development (e.g. a MOOC);Received on-the-job training in software development;Taught yourself a new language, framework, or tool without taking a formal course',\n",
       "       'Taken an online course in programming or software development (e.g. a MOOC);Participated in a full-time developer training program or bootcamp;Taken a part-time in-person course in programming or software development;Received on-the-job training in software development;Taught yourself a new language, framework, or tool without taking a formal course;Participated in online coding competitions (e.g. HackerRank, CodeChef, TopCoder);Contributed to open source software',\n",
       "       nan,\n",
       "       'Taken an online course in programming or software development (e.g. a MOOC);Taught yourself a new language, framework, or tool without taking a formal course',\n",
       "       'Taken an online course in programming or software development (e.g. a MOOC);Received on-the-job training in software development;Taught yourself a new language, framework, or tool without taking a formal course;Participated in online coding competitions (e.g. HackerRank, CodeChef, TopCoder);Participated in a hackathon;Contributed to open source software',\n",
       "       'Taken an online course in programming or software development (e.g. a MOOC);Taught yourself a new language, framework, or tool without taking a formal course;Contributed to open source software',\n",
       "       'Taken an online course in programming or software development (e.g. a MOOC);Taken a part-time in-person course in programming or software development;Taught yourself a new language, framework, or tool without taking a formal course',\n",
       "       'Taken an online course in programming or software development (e.g. a MOOC);Taken a part-time in-person course in programming or software development;Taught yourself a new language, framework, or tool without taking a formal course;Contributed to open source software',\n",
       "       'Taken an online course in programming or software development (e.g. a MOOC);Participated in a full-time developer training program or bootcamp;Taken a part-time in-person course in programming or software development;Completed an industry certification program (e.g. MCPD);Received on-the-job training in software development;Taught yourself a new language, framework, or tool without taking a formal course;Contributed to open source software',\n",
       "       'Taken a part-time in-person course in programming or software development;Received on-the-job training in software development',\n",
       "       'Taught yourself a new language, framework, or tool without taking a formal course;Contributed to open source software',\n",
       "       'Taken an online course in programming or software development (e.g. a MOOC);Taken a part-time in-person course in programming or software development;Taught yourself a new language, framework, or tool without taking a formal course;Participated in online coding competitions (e.g. HackerRank, CodeChef, TopCoder);Participated in a hackathon;Contributed to open source software',\n",
       "       'Taken an online course in programming or software development (e.g. a MOOC);Taken a part-time in-person course in programming or software development;Received on-the-job training in software development;Taught yourself a new language, framework, or tool without taking a formal course',\n",
       "       'Taken an online course in programming or software development (e.g. a MOOC);Taken a part-time in-person course in programming or software development;Received on-the-job training in software development;Taught yourself a new language, framework, or tool without taking a formal course;Contributed to open source software',\n",
       "       'Taken an online course in programming or software development (e.g. a MOOC);Participated in a full-time developer training program or bootcamp;Taken a part-time in-person course in programming or software development;Completed an industry certification program (e.g. MCPD);Received on-the-job training in software development;Taught yourself a new language, framework, or tool without taking a formal course;Participated in online coding competitions (e.g. HackerRank, CodeChef, TopCoder);Contributed to open source software',\n",
       "       'Taken an online course in programming or software development (e.g. a MOOC);Completed an industry certification program (e.g. MCPD);Received on-the-job training in software development;Taught yourself a new language, framework, or tool without taking a formal course;Participated in online coding competitions (e.g. HackerRank, CodeChef, TopCoder);Contributed to open source software',\n",
       "       'Taken an online course in programming or software development (e.g. a MOOC);Received on-the-job training in software development;Taught yourself a new language, framework, or tool without taking a formal course;Participated in a hackathon',\n",
       "       'Taught yourself a new language, framework, or tool without taking a formal course;Participated in a hackathon',\n",
       "       'Received on-the-job training in software development;Taught yourself a new language, framework, or tool without taking a formal course',\n",
       "       'Taken an online course in programming or software development (e.g. a MOOC);Completed an industry certification program (e.g. MCPD);Taught yourself a new language, framework, or tool without taking a formal course',\n",
       "       'Taken an online course in programming or software development (e.g. a MOOC);Participated in a full-time developer training program or bootcamp;Taken a part-time in-person course in programming or software development;Completed an industry certification program (e.g. MCPD);Received on-the-job training in software development;Taught yourself a new language, framework, or tool without taking a formal course',\n",
       "       'Taken an online course in programming or software development (e.g. a MOOC);Completed an industry certification program (e.g. MCPD);Received on-the-job training in software development;Taught yourself a new language, framework, or tool without taking a formal course',\n",
       "       'Taught yourself a new language, framework, or tool without taking a formal course',\n",
       "       'Completed an industry certification program (e.g. MCPD);Taught yourself a new language, framework, or tool without taking a formal course',\n",
       "       'Taken an online course in programming or software development (e.g. a MOOC);Taken a part-time in-person course in programming or software development;Taught yourself a new language, framework, or tool without taking a formal course;Participated in a hackathon;Contributed to open source software',\n",
       "       'Received on-the-job training in software development;Taught yourself a new language, framework, or tool without taking a formal course;Participated in online coding competitions (e.g. HackerRank, CodeChef, TopCoder)',\n",
       "       'Taken an online course in programming or software development (e.g. a MOOC);Taken a part-time in-person course in programming or software development;Received on-the-job training in software development;Taught yourself a new language, framework, or tool without taking a formal course;Participated in online coding competitions (e.g. HackerRank, CodeChef, TopCoder)',\n",
       "       'Taken an online course in programming or software development (e.g. a MOOC);Received on-the-job training in software development;Taught yourself a new language, framework, or tool without taking a formal course;Participated in online coding competitions (e.g. HackerRank, CodeChef, TopCoder);Contributed to open source software',\n",
       "       'Taken an online course in programming or software development (e.g. a MOOC);Taught yourself a new language, framework, or tool without taking a formal course;Participated in online coding competitions (e.g. HackerRank, CodeChef, TopCoder)',\n",
       "       'Taken an online course in programming or software development (e.g. a MOOC);Participated in a full-time developer training program or bootcamp;Received on-the-job training in software development;Taught yourself a new language, framework, or tool without taking a formal course',\n",
       "       'Taken an online course in programming or software development (e.g. a MOOC);Participated in a full-time developer training program or bootcamp;Taken a part-time in-person course in programming or software development;Completed an industry certification program (e.g. MCPD);Received on-the-job training in software development;Taught yourself a new language, framework, or tool without taking a formal course;Participated in online coding competitions (e.g. HackerRank, CodeChef, TopCoder);Participated in a hackathon;Contributed to open source software',\n",
       "       'Completed an industry certification program (e.g. MCPD);Contributed to open source software',\n",
       "       'Taken an online course in programming or software development (e.g. a MOOC);Taken a part-time in-person course in programming or software development;Completed an industry certification program (e.g. MCPD);Received on-the-job training in software development;Taught yourself a new language, framework, or tool without taking a formal course',\n",
       "       'Taken an online course in programming or software development (e.g. a MOOC);Taken a part-time in-person course in programming or software development;Completed an industry certification program (e.g. MCPD);Participated in online coding competitions (e.g. HackerRank, CodeChef, TopCoder);Participated in a hackathon;Contributed to open source software',\n",
       "       'Taken an online course in programming or software development (e.g. a MOOC);Taken a part-time in-person course in programming or software development;Taught yourself a new language, framework, or tool without taking a formal course;Participated in online coding competitions (e.g. HackerRank, CodeChef, TopCoder);Contributed to open source software',\n",
       "       'Taken an online course in programming or software development (e.g. a MOOC);Taught yourself a new language, framework, or tool without taking a formal course;Participated in online coding competitions (e.g. HackerRank, CodeChef, TopCoder);Contributed to open source software',\n",
       "       'Completed an industry certification program (e.g. MCPD);Taught yourself a new language, framework, or tool without taking a formal course;Participated in a hackathon',\n",
       "       'Taken an online course in programming or software development (e.g. a MOOC);Taken a part-time in-person course in programming or software development',\n",
       "       'Taken an online course in programming or software development (e.g. a MOOC);Received on-the-job training in software development;Taught yourself a new language, framework, or tool without taking a formal course;Participated in online coding competitions (e.g. HackerRank, CodeChef, TopCoder);Participated in a hackathon',\n",
       "       'Taken an online course in programming or software development (e.g. a MOOC);Completed an industry certification program (e.g. MCPD);Taught yourself a new language, framework, or tool without taking a formal course;Contributed to open source software',\n",
       "       'Received on-the-job training in software development;Taught yourself a new language, framework, or tool without taking a formal course;Participated in a hackathon;Contributed to open source software',\n",
       "       'Taken an online course in programming or software development (e.g. a MOOC);Taught yourself a new language, framework, or tool without taking a formal course;Participated in a hackathon;Contributed to open source software',\n",
       "       'Taught yourself a new language, framework, or tool without taking a formal course;Participated in online coding competitions (e.g. HackerRank, CodeChef, TopCoder);Contributed to open source software',\n",
       "       'Taken an online course in programming or software development (e.g. a MOOC);Received on-the-job training in software development;Participated in online coding competitions (e.g. HackerRank, CodeChef, TopCoder);Contributed to open source software',\n",
       "       'Taken an online course in programming or software development (e.g. a MOOC);Taught yourself a new language, framework, or tool without taking a formal course;Participated in online coding competitions (e.g. HackerRank, CodeChef, TopCoder);Participated in a hackathon;Contributed to open source software',\n",
       "       'Taken an online course in programming or software development (e.g. a MOOC);Participated in a full-time developer training program or bootcamp;Completed an industry certification program (e.g. MCPD);Received on-the-job training in software development;Taught yourself a new language, framework, or tool without taking a formal course;Participated in online coding competitions (e.g. HackerRank, CodeChef, TopCoder)',\n",
       "       'Completed an industry certification program (e.g. MCPD);Taught yourself a new language, framework, or tool without taking a formal course;Participated in online coding competitions (e.g. HackerRank, CodeChef, TopCoder);Contributed to open source software',\n",
       "       'Taught yourself a new language, framework, or tool without taking a formal course;Participated in a hackathon;Contributed to open source software',\n",
       "       'Received on-the-job training in software development;Taught yourself a new language, framework, or tool without taking a formal course;Contributed to open source software',\n",
       "       'Received on-the-job training in software development;Taught yourself a new language, framework, or tool without taking a formal course;Participated in a hackathon',\n",
       "       'Taken an online course in programming or software development (e.g. a MOOC);Participated in a full-time developer training program or bootcamp;Completed an industry certification program (e.g. MCPD);Received on-the-job training in software development;Taught yourself a new language, framework, or tool without taking a formal course;Contributed to open source software',\n",
       "       'Taken an online course in programming or software development (e.g. a MOOC);Taken a part-time in-person course in programming or software development;Completed an industry certification program (e.g. MCPD);Received on-the-job training in software development;Taught yourself a new language, framework, or tool without taking a formal course;Participated in online coding competitions (e.g. HackerRank, CodeChef, TopCoder);Participated in a hackathon;Contributed to open source software',\n",
       "       'Taken an online course in programming or software development (e.g. a MOOC);Participated in a hackathon',\n",
       "       'Taken a part-time in-person course in programming or software development;Taught yourself a new language, framework, or tool without taking a formal course;Participated in a hackathon;Contributed to open source software',\n",
       "       'Taken an online course in programming or software development (e.g. a MOOC);Participated in a full-time developer training program or bootcamp;Taught yourself a new language, framework, or tool without taking a formal course',\n",
       "       'Taken an online course in programming or software development (e.g. a MOOC);Received on-the-job training in software development;Contributed to open source software',\n",
       "       'Participated in a full-time developer training program or bootcamp;Taken a part-time in-person course in programming or software development;Completed an industry certification program (e.g. MCPD);Participated in online coding competitions (e.g. HackerRank, CodeChef, TopCoder);Participated in a hackathon;Contributed to open source software',\n",
       "       'Participated in a full-time developer training program or bootcamp',\n",
       "       'Taken an online course in programming or software development (e.g. a MOOC);Received on-the-job training in software development;Taught yourself a new language, framework, or tool without taking a formal course;Participated in a hackathon;Contributed to open source software',\n",
       "       'Participated in online coding competitions (e.g. HackerRank, CodeChef, TopCoder);Contributed to open source software',\n",
       "       'Taken an online course in programming or software development (e.g. a MOOC);Participated in a full-time developer training program or bootcamp;Completed an industry certification program (e.g. MCPD);Received on-the-job training in software development;Taught yourself a new language, framework, or tool without taking a formal course;Participated in online coding competitions (e.g. HackerRank, CodeChef, TopCoder);Participated in a hackathon;Contributed to open source software',\n",
       "       'Taken an online course in programming or software development (e.g. a MOOC);Participated in a full-time developer training program or bootcamp;Taken a part-time in-person course in programming or software development;Taught yourself a new language, framework, or tool without taking a formal course',\n",
       "       'Taken an online course in programming or software development (e.g. a MOOC);Participated in a full-time developer training program or bootcamp;Taken a part-time in-person course in programming or software development;Completed an industry certification program (e.g. MCPD)',\n",
       "       'Taken an online course in programming or software development (e.g. a MOOC);Received on-the-job training in software development;Taught yourself a new language, framework, or tool without taking a formal course;Contributed to open source software',\n",
       "       'Taught yourself a new language, framework, or tool without taking a formal course;Participated in online coding competitions (e.g. HackerRank, CodeChef, TopCoder);Participated in a hackathon;Contributed to open source software',\n",
       "       'Taken an online course in programming or software development (e.g. a MOOC);Participated in a full-time developer training program or bootcamp;Taken a part-time in-person course in programming or software development;Received on-the-job training in software development;Taught yourself a new language, framework, or tool without taking a formal course',\n",
       "       'Taken an online course in programming or software development (e.g. a MOOC)',\n",
       "       'Taken an online course in programming or software development (e.g. a MOOC);Completed an industry certification program (e.g. MCPD);Received on-the-job training in software development;Taught yourself a new language, framework, or tool without taking a formal course;Participated in online coding competitions (e.g. HackerRank, CodeChef, TopCoder)',\n",
       "       'Taken an online course in programming or software development (e.g. a MOOC);Taken a part-time in-person course in programming or software development;Received on-the-job training in software development;Contributed to open source software',\n",
       "       'Taken an online course in programming or software development (e.g. a MOOC);Completed an industry certification program (e.g. MCPD);Taught yourself a new language, framework, or tool without taking a formal course;Participated in online coding competitions (e.g. HackerRank, CodeChef, TopCoder);Participated in a hackathon;Contributed to open source software',\n",
       "       'Taken an online course in programming or software development (e.g. a MOOC);Completed an industry certification program (e.g. MCPD);Taught yourself a new language, framework, or tool without taking a formal course;Participated in a hackathon',\n",
       "       'Taken an online course in programming or software development (e.g. a MOOC);Taught yourself a new language, framework, or tool without taking a formal course;Participated in a hackathon',\n",
       "       'Taught yourself a new language, framework, or tool without taking a formal course;Participated in online coding competitions (e.g. HackerRank, CodeChef, TopCoder)',\n",
       "       'Taken an online course in programming or software development (e.g. a MOOC);Completed an industry certification program (e.g. MCPD);Received on-the-job training in software development;Taught yourself a new language, framework, or tool without taking a formal course;Contributed to open source software',\n",
       "       'Taken an online course in programming or software development (e.g. a MOOC);Taken a part-time in-person course in programming or software development;Received on-the-job training in software development;Taught yourself a new language, framework, or tool without taking a formal course;Participated in online coding competitions (e.g. HackerRank, CodeChef, TopCoder);Participated in a hackathon',\n",
       "       'Taken an online course in programming or software development (e.g. a MOOC);Taken a part-time in-person course in programming or software development;Received on-the-job training in software development;Taught yourself a new language, framework, or tool without taking a formal course;Participated in a hackathon;Contributed to open source software',\n",
       "       'Taken an online course in programming or software development (e.g. a MOOC);Participated in a full-time developer training program or bootcamp;Taken a part-time in-person course in programming or software development;Received on-the-job training in software development;Taught yourself a new language, framework, or tool without taking a formal course;Participated in online coding competitions (e.g. HackerRank, CodeChef, TopCoder);Participated in a hackathon;Contributed to open source software',\n",
       "       'Taken an online course in programming or software development (e.g. a MOOC);Taken a part-time in-person course in programming or software development;Received on-the-job training in software development;Taught yourself a new language, framework, or tool without taking a formal course;Participated in online coding competitions (e.g. HackerRank, CodeChef, TopCoder);Contributed to open source software',\n",
       "       'Participated in a full-time developer training program or bootcamp;Participated in online coding competitions (e.g. HackerRank, CodeChef, TopCoder)',\n",
       "       'Participated in a full-time developer training program or bootcamp;Taken a part-time in-person course in programming or software development;Completed an industry certification program (e.g. MCPD);Received on-the-job training in software development;Taught yourself a new language, framework, or tool without taking a formal course',\n",
       "       'Taken an online course in programming or software development (e.g. a MOOC);Completed an industry certification program (e.g. MCPD);Taught yourself a new language, framework, or tool without taking a formal course;Participated in online coding competitions (e.g. HackerRank, CodeChef, TopCoder);Participated in a hackathon',\n",
       "       'Received on-the-job training in software development;Participated in online coding competitions (e.g. HackerRank, CodeChef, TopCoder)',\n",
       "       'Participated in a full-time developer training program or bootcamp;Received on-the-job training in software development;Taught yourself a new language, framework, or tool without taking a formal course;Participated in online coding competitions (e.g. HackerRank, CodeChef, TopCoder);Participated in a hackathon;Contributed to open source software',\n",
       "       'Taken a part-time in-person course in programming or software development;Completed an industry certification program (e.g. MCPD);Received on-the-job training in software development;Taught yourself a new language, framework, or tool without taking a formal course',\n",
       "       'Taken an online course in programming or software development (e.g. a MOOC);Contributed to open source software',\n",
       "       'Taken a part-time in-person course in programming or software development;Taught yourself a new language, framework, or tool without taking a formal course;Contributed to open source software',\n",
       "       'Taken an online course in programming or software development (e.g. a MOOC);Participated in a full-time developer training program or bootcamp;Received on-the-job training in software development;Taught yourself a new language, framework, or tool without taking a formal course;Participated in online coding competitions (e.g. HackerRank, CodeChef, TopCoder);Participated in a hackathon;Contributed to open source software',\n",
       "       'Taken an online course in programming or software development (e.g. a MOOC);Participated in a full-time developer training program or bootcamp;Received on-the-job training in software development;Taught yourself a new language, framework, or tool without taking a formal course;Participated in a hackathon',\n",
       "       'Taken an online course in programming or software development (e.g. a MOOC);Completed an industry certification program (e.g. MCPD);Participated in online coding competitions (e.g. HackerRank, CodeChef, TopCoder);Participated in a hackathon',\n",
       "       'Taken an online course in programming or software development (e.g. a MOOC);Participated in a full-time developer training program or bootcamp;Taken a part-time in-person course in programming or software development;Taught yourself a new language, framework, or tool without taking a formal course;Contributed to open source software',\n",
       "       'Taken a part-time in-person course in programming or software development;Received on-the-job training in software development;Taught yourself a new language, framework, or tool without taking a formal course',\n",
       "       'Participated in a hackathon',\n",
       "       'Participated in a full-time developer training program or bootcamp;Completed an industry certification program (e.g. MCPD);Taught yourself a new language, framework, or tool without taking a formal course;Contributed to open source software',\n",
       "       'Taken a part-time in-person course in programming or software development;Completed an industry certification program (e.g. MCPD);Received on-the-job training in software development;Taught yourself a new language, framework, or tool without taking a formal course;Participated in a hackathon;Contributed to open source software',\n",
       "       'Received on-the-job training in software development;Taught yourself a new language, framework, or tool without taking a formal course;Participated in online coding competitions (e.g. HackerRank, CodeChef, TopCoder);Contributed to open source software',\n",
       "       'Taken an online course in programming or software development (e.g. a MOOC);Taken a part-time in-person course in programming or software development;Completed an industry certification program (e.g. MCPD);Taught yourself a new language, framework, or tool without taking a formal course;Contributed to open source software',\n",
       "       'Taken an online course in programming or software development (e.g. a MOOC);Participated in a full-time developer training program or bootcamp;Received on-the-job training in software development',\n",
       "       'Taken an online course in programming or software development (e.g. a MOOC);Participated in a full-time developer training program or bootcamp',\n",
       "       'Participated in a full-time developer training program or bootcamp;Taught yourself a new language, framework, or tool without taking a formal course;Contributed to open source software',\n",
       "       'Taken a part-time in-person course in programming or software development',\n",
       "       'Participated in a full-time developer training program or bootcamp;Taken a part-time in-person course in programming or software development;Completed an industry certification program (e.g. MCPD);Received on-the-job training in software development;Taught yourself a new language, framework, or tool without taking a formal course;Participated in online coding competitions (e.g. HackerRank, CodeChef, TopCoder);Contributed to open source software',\n",
       "       'Taken an online course in programming or software development (e.g. a MOOC);Completed an industry certification program (e.g. MCPD);Taught yourself a new language, framework, or tool without taking a formal course;Participated in a hackathon;Contributed to open source software',\n",
       "       'Taken an online course in programming or software development (e.g. a MOOC);Received on-the-job training in software development',\n",
       "       'Participated in a full-time developer training program or bootcamp;Received on-the-job training in software development;Taught yourself a new language, framework, or tool without taking a formal course;Contributed to open source software',\n",
       "       'Taken an online course in programming or software development (e.g. a MOOC);Participated in a full-time developer training program or bootcamp;Taken a part-time in-person course in programming or software development;Received on-the-job training in software development;Taught yourself a new language, framework, or tool without taking a formal course;Contributed to open source software',\n",
       "       'Participated in a full-time developer training program or bootcamp;Taught yourself a new language, framework, or tool without taking a formal course',\n",
       "       'Taken an online course in programming or software development (e.g. a MOOC);Taken a part-time in-person course in programming or software development;Completed an industry certification program (e.g. MCPD);Received on-the-job training in software development',\n",
       "       'Taken an online course in programming or software development (e.g. a MOOC);Participated in a full-time developer training program or bootcamp;Completed an industry certification program (e.g. MCPD);Taught yourself a new language, framework, or tool without taking a formal course',\n",
       "       'Taken an online course in programming or software development (e.g. a MOOC);Participated in online coding competitions (e.g. HackerRank, CodeChef, TopCoder);Contributed to open source software',\n",
       "       'Taken a part-time in-person course in programming or software development;Received on-the-job training in software development;Taught yourself a new language, framework, or tool without taking a formal course;Contributed to open source software',\n",
       "       'Taken an online course in programming or software development (e.g. a MOOC);Participated in a full-time developer training program or bootcamp;Taken a part-time in-person course in programming or software development;Completed an industry certification program (e.g. MCPD);Received on-the-job training in software development;Taught yourself a new language, framework, or tool without taking a formal course;Participated in a hackathon;Contributed to open source software',\n",
       "       'Received on-the-job training in software development;Contributed to open source software',\n",
       "       'Taken an online course in programming or software development (e.g. a MOOC);Taught yourself a new language, framework, or tool without taking a formal course;Participated in online coding competitions (e.g. HackerRank, CodeChef, TopCoder);Participated in a hackathon',\n",
       "       'Participated in a full-time developer training program or bootcamp;Completed an industry certification program (e.g. MCPD);Received on-the-job training in software development;Taught yourself a new language, framework, or tool without taking a formal course',\n",
       "       'Taken an online course in programming or software development (e.g. a MOOC);Participated in a full-time developer training program or bootcamp;Received on-the-job training in software development;Taught yourself a new language, framework, or tool without taking a formal course;Contributed to open source software',\n",
       "       'Received on-the-job training in software development;Taught yourself a new language, framework, or tool without taking a formal course;Participated in online coding competitions (e.g. HackerRank, CodeChef, TopCoder);Participated in a hackathon',\n",
       "       'Taken an online course in programming or software development (e.g. a MOOC);Taken a part-time in-person course in programming or software development;Taught yourself a new language, framework, or tool without taking a formal course;Participated in online coding competitions (e.g. HackerRank, CodeChef, TopCoder);Participated in a hackathon',\n",
       "       'Taken an online course in programming or software development (e.g. a MOOC);Taken a part-time in-person course in programming or software development;Taught yourself a new language, framework, or tool without taking a formal course;Participated in online coding competitions (e.g. HackerRank, CodeChef, TopCoder)',\n",
       "       'Completed an industry certification program (e.g. MCPD);Received on-the-job training in software development;Taught yourself a new language, framework, or tool without taking a formal course;Contributed to open source software',\n",
       "       'Taken an online course in programming or software development (e.g. a MOOC);Participated in a full-time developer training program or bootcamp;Completed an industry certification program (e.g. MCPD);Received on-the-job training in software development;Taught yourself a new language, framework, or tool without taking a formal course;Participated in online coding competitions (e.g. HackerRank, CodeChef, TopCoder);Participated in a hackathon',\n",
       "       'Participated in a full-time developer training program or bootcamp;Taken a part-time in-person course in programming or software development;Taught yourself a new language, framework, or tool without taking a formal course;Participated in a hackathon;Contributed to open source software',\n",
       "       'Taken an online course in programming or software development (e.g. a MOOC);Completed an industry certification program (e.g. MCPD)',\n",
       "       'Taken an online course in programming or software development (e.g. a MOOC);Received on-the-job training in software development;Taught yourself a new language, framework, or tool without taking a formal course;Participated in online coding competitions (e.g. HackerRank, CodeChef, TopCoder)',\n",
       "       'Taken an online course in programming or software development (e.g. a MOOC);Participated in a full-time developer training program or bootcamp;Taught yourself a new language, framework, or tool without taking a formal course;Participated in online coding competitions (e.g. HackerRank, CodeChef, TopCoder);Contributed to open source software',\n",
       "       'Taken an online course in programming or software development (e.g. a MOOC);Participated in a full-time developer training program or bootcamp;Taken a part-time in-person course in programming or software development;Received on-the-job training in software development;Taught yourself a new language, framework, or tool without taking a formal course;Participated in online coding competitions (e.g. HackerRank, CodeChef, TopCoder)',\n",
       "       'Taken an online course in programming or software development (e.g. a MOOC);Taken a part-time in-person course in programming or software development;Completed an industry certification program (e.g. MCPD);Received on-the-job training in software development;Taught yourself a new language, framework, or tool without taking a formal course;Participated in online coding competitions (e.g. HackerRank, CodeChef, TopCoder);Contributed to open source software',\n",
       "       'Completed an industry certification program (e.g. MCPD);Received on-the-job training in software development;Taught yourself a new language, framework, or tool without taking a formal course;Participated in online coding competitions (e.g. HackerRank, CodeChef, TopCoder);Participated in a hackathon;Contributed to open source software',\n",
       "       'Taken a part-time in-person course in programming or software development;Received on-the-job training in software development;Taught yourself a new language, framework, or tool without taking a formal course;Participated in online coding competitions (e.g. HackerRank, CodeChef, TopCoder);Participated in a hackathon;Contributed to open source software',\n",
       "       'Participated in online coding competitions (e.g. HackerRank, CodeChef, TopCoder)',\n",
       "       'Taken an online course in programming or software development (e.g. a MOOC);Participated in a full-time developer training program or bootcamp;Taught yourself a new language, framework, or tool without taking a formal course;Participated in online coding competitions (e.g. HackerRank, CodeChef, TopCoder)',\n",
       "       'Taken an online course in programming or software development (e.g. a MOOC);Participated in a full-time developer training program or bootcamp;Completed an industry certification program (e.g. MCPD);Participated in online coding competitions (e.g. HackerRank, CodeChef, TopCoder);Participated in a hackathon',\n",
       "       'Taken an online course in programming or software development (e.g. a MOOC);Taken a part-time in-person course in programming or software development;Participated in online coding competitions (e.g. HackerRank, CodeChef, TopCoder)',\n",
       "       'Taken an online course in programming or software development (e.g. a MOOC);Participated in online coding competitions (e.g. HackerRank, CodeChef, TopCoder)',\n",
       "       'Taken an online course in programming or software development (e.g. a MOOC);Participated in a full-time developer training program or bootcamp;Completed an industry certification program (e.g. MCPD);Taught yourself a new language, framework, or tool without taking a formal course;Participated in a hackathon',\n",
       "       'Taught yourself a new language, framework, or tool without taking a formal course;Participated in online coding competitions (e.g. HackerRank, CodeChef, TopCoder);Participated in a hackathon',\n",
       "       'Received on-the-job training in software development',\n",
       "       'Taken an online course in programming or software development (e.g. a MOOC);Completed an industry certification program (e.g. MCPD);Taught yourself a new language, framework, or tool without taking a formal course;Participated in online coding competitions (e.g. HackerRank, CodeChef, TopCoder)',\n",
       "       'Received on-the-job training in software development;Participated in online coding competitions (e.g. HackerRank, CodeChef, TopCoder);Participated in a hackathon',\n",
       "       'Taken an online course in programming or software development (e.g. a MOOC);Participated in a full-time developer training program or bootcamp;Received on-the-job training in software development;Taught yourself a new language, framework, or tool without taking a formal course;Participated in online coding competitions (e.g. HackerRank, CodeChef, TopCoder);Participated in a hackathon',\n",
       "       'Taken an online course in programming or software development (e.g. a MOOC);Participated in a full-time developer training program or bootcamp;Taken a part-time in-person course in programming or software development;Completed an industry certification program (e.g. MCPD);Taught yourself a new language, framework, or tool without taking a formal course',\n",
       "       'Participated in a full-time developer training program or bootcamp;Received on-the-job training in software development;Taught yourself a new language, framework, or tool without taking a formal course',\n",
       "       'Taken an online course in programming or software development (e.g. a MOOC);Participated in a full-time developer training program or bootcamp;Received on-the-job training in software development;Participated in a hackathon;Contributed to open source software',\n",
       "       'Completed an industry certification program (e.g. MCPD);Taught yourself a new language, framework, or tool without taking a formal course;Contributed to open source software',\n",
       "       'Taken an online course in programming or software development (e.g. a MOOC);Taken a part-time in-person course in programming or software development;Completed an industry certification program (e.g. MCPD);Received on-the-job training in software development;Taught yourself a new language, framework, or tool without taking a formal course;Contributed to open source software',\n",
       "       'Taken an online course in programming or software development (e.g. a MOOC);Taken a part-time in-person course in programming or software development;Received on-the-job training in software development;Taught yourself a new language, framework, or tool without taking a formal course;Participated in a hackathon',\n",
       "       'Taken an online course in programming or software development (e.g. a MOOC);Completed an industry certification program (e.g. MCPD);Received on-the-job training in software development;Taught yourself a new language, framework, or tool without taking a formal course;Participated in online coding competitions (e.g. HackerRank, CodeChef, TopCoder);Participated in a hackathon',\n",
       "       'Taken a part-time in-person course in programming or software development;Taught yourself a new language, framework, or tool without taking a formal course',\n",
       "       'Taken a part-time in-person course in programming or software development;Received on-the-job training in software development;Taught yourself a new language, framework, or tool without taking a formal course;Participated in a hackathon;Contributed to open source software',\n",
       "       'Participated in a full-time developer training program or bootcamp;Completed an industry certification program (e.g. MCPD);Taught yourself a new language, framework, or tool without taking a formal course',\n",
       "       'Taken an online course in programming or software development (e.g. a MOOC);Participated in a full-time developer training program or bootcamp;Taught yourself a new language, framework, or tool without taking a formal course;Participated in online coding competitions (e.g. HackerRank, CodeChef, TopCoder);Participated in a hackathon',\n",
       "       'Taken an online course in programming or software development (e.g. a MOOC);Participated in a full-time developer training program or bootcamp;Taken a part-time in-person course in programming or software development;Received on-the-job training in software development;Taught yourself a new language, framework, or tool without taking a formal course;Participated in a hackathon;Contributed to open source software',\n",
       "       'Participated in a full-time developer training program or bootcamp;Completed an industry certification program (e.g. MCPD);Received on-the-job training in software development;Taught yourself a new language, framework, or tool without taking a formal course;Contributed to open source software',\n",
       "       'Taken an online course in programming or software development (e.g. a MOOC);Completed an industry certification program (e.g. MCPD);Received on-the-job training in software development',\n",
       "       'Taken an online course in programming or software development (e.g. a MOOC);Participated in online coding competitions (e.g. HackerRank, CodeChef, TopCoder);Participated in a hackathon',\n",
       "       'Contributed to open source software',\n",
       "       'Taken an online course in programming or software development (e.g. a MOOC);Completed an industry certification program (e.g. MCPD);Contributed to open source software',\n",
       "       'Taken an online course in programming or software development (e.g. a MOOC);Taken a part-time in-person course in programming or software development;Received on-the-job training in software development;Taught yourself a new language, framework, or tool without taking a formal course;Participated in online coding competitions (e.g. HackerRank, CodeChef, TopCoder);Participated in a hackathon;Contributed to open source software',\n",
       "       'Taken an online course in programming or software development (e.g. a MOOC);Participated in a full-time developer training program or bootcamp;Taken a part-time in-person course in programming or software development;Completed an industry certification program (e.g. MCPD);Received on-the-job training in software development;Taught yourself a new language, framework, or tool without taking a formal course;Participated in online coding competitions (e.g. HackerRank, CodeChef, TopCoder)',\n",
       "       'Participated in a full-time developer training program or bootcamp;Contributed to open source software',\n",
       "       'Taken an online course in programming or software development (e.g. a MOOC);Taken a part-time in-person course in programming or software development;Taught yourself a new language, framework, or tool without taking a formal course;Participated in a hackathon',\n",
       "       'Taken an online course in programming or software development (e.g. a MOOC);Participated in a full-time developer training program or bootcamp;Completed an industry certification program (e.g. MCPD);Received on-the-job training in software development;Taught yourself a new language, framework, or tool without taking a formal course;Participated in online coding competitions (e.g. HackerRank, CodeChef, TopCoder);Contributed to open source software',\n",
       "       'Taken a part-time in-person course in programming or software development;Participated in a hackathon',\n",
       "       'Taken a part-time in-person course in programming or software development;Taught yourself a new language, framework, or tool without taking a formal course;Participated in online coding competitions (e.g. HackerRank, CodeChef, TopCoder);Participated in a hackathon;Contributed to open source software',\n",
       "       'Received on-the-job training in software development;Taught yourself a new language, framework, or tool without taking a formal course;Participated in online coding competitions (e.g. HackerRank, CodeChef, TopCoder);Participated in a hackathon;Contributed to open source software',\n",
       "       'Completed an industry certification program (e.g. MCPD);Received on-the-job training in software development;Taught yourself a new language, framework, or tool without taking a formal course;Participated in online coding competitions (e.g. HackerRank, CodeChef, TopCoder);Participated in a hackathon',\n",
       "       'Completed an industry certification program (e.g. MCPD);Taught yourself a new language, framework, or tool without taking a formal course;Participated in a hackathon;Contributed to open source software',\n",
       "       'Completed an industry certification program (e.g. MCPD);Received on-the-job training in software development;Contributed to open source software',\n",
       "       'Taken an online course in programming or software development (e.g. a MOOC);Completed an industry certification program (e.g. MCPD);Taught yourself a new language, framework, or tool without taking a formal course;Participated in online coding competitions (e.g. HackerRank, CodeChef, TopCoder);Contributed to open source software',\n",
       "       'Completed an industry certification program (e.g. MCPD);Taught yourself a new language, framework, or tool without taking a formal course;Participated in online coding competitions (e.g. HackerRank, CodeChef, TopCoder);Participated in a hackathon;Contributed to open source software',\n",
       "       'Taken an online course in programming or software development (e.g. a MOOC);Participated in a full-time developer training program or bootcamp;Completed an industry certification program (e.g. MCPD);Taught yourself a new language, framework, or tool without taking a formal course;Contributed to open source software',\n",
       "       'Completed an industry certification program (e.g. MCPD);Taught yourself a new language, framework, or tool without taking a formal course;Participated in online coding competitions (e.g. HackerRank, CodeChef, TopCoder)',\n",
       "       'Taken an online course in programming or software development (e.g. a MOOC);Taken a part-time in-person course in programming or software development;Received on-the-job training in software development;Participated in online coding competitions (e.g. HackerRank, CodeChef, TopCoder)',\n",
       "       'Participated in a full-time developer training program or bootcamp;Taken a part-time in-person course in programming or software development;Received on-the-job training in software development;Participated in a hackathon;Contributed to open source software',\n",
       "       'Taken a part-time in-person course in programming or software development;Completed an industry certification program (e.g. MCPD);Received on-the-job training in software development;Taught yourself a new language, framework, or tool without taking a formal course;Participated in online coding competitions (e.g. HackerRank, CodeChef, TopCoder);Participated in a hackathon;Contributed to open source software',\n",
       "       'Taken an online course in programming or software development (e.g. a MOOC);Completed an industry certification program (e.g. MCPD);Received on-the-job training in software development;Taught yourself a new language, framework, or tool without taking a formal course;Participated in a hackathon;Contributed to open source software',\n",
       "       'Taken an online course in programming or software development (e.g. a MOOC);Taken a part-time in-person course in programming or software development;Completed an industry certification program (e.g. MCPD);Taught yourself a new language, framework, or tool without taking a formal course',\n",
       "       'Taken an online course in programming or software development (e.g. a MOOC);Participated in a full-time developer training program or bootcamp;Taken a part-time in-person course in programming or software development;Completed an industry certification program (e.g. MCPD);Taught yourself a new language, framework, or tool without taking a formal course;Participated in online coding competitions (e.g. HackerRank, CodeChef, TopCoder);Contributed to open source software',\n",
       "       'Taken an online course in programming or software development (e.g. a MOOC);Participated in a full-time developer training program or bootcamp;Received on-the-job training in software development;Participated in a hackathon',\n",
       "       'Completed an industry certification program (e.g. MCPD)',\n",
       "       'Taken an online course in programming or software development (e.g. a MOOC);Taken a part-time in-person course in programming or software development;Completed an industry certification program (e.g. MCPD);Received on-the-job training in software development;Taught yourself a new language, framework, or tool without taking a formal course;Participated in online coding competitions (e.g. HackerRank, CodeChef, TopCoder)',\n",
       "       'Taken a part-time in-person course in programming or software development;Completed an industry certification program (e.g. MCPD);Taught yourself a new language, framework, or tool without taking a formal course',\n",
       "       'Taken an online course in programming or software development (e.g. a MOOC);Completed an industry certification program (e.g. MCPD);Participated in online coding competitions (e.g. HackerRank, CodeChef, TopCoder);Participated in a hackathon;Contributed to open source software',\n",
       "       'Taken an online course in programming or software development (e.g. a MOOC);Participated in a full-time developer training program or bootcamp;Taken a part-time in-person course in programming or software development;Received on-the-job training in software development;Taught yourself a new language, framework, or tool without taking a formal course;Participated in online coding competitions (e.g. HackerRank, CodeChef, TopCoder);Participated in a hackathon',\n",
       "       'Taken an online course in programming or software development (e.g. a MOOC);Participated in a full-time developer training program or bootcamp;Taken a part-time in-person course in programming or software development;Completed an industry certification program (e.g. MCPD);Received on-the-job training in software development;Taught yourself a new language, framework, or tool without taking a formal course;Participated in online coding competitions (e.g. HackerRank, CodeChef, TopCoder);Participated in a hackathon',\n",
       "       'Taken an online course in programming or software development (e.g. a MOOC);Participated in a full-time developer training program or bootcamp;Taken a part-time in-person course in programming or software development;Taught yourself a new language, framework, or tool without taking a formal course;Participated in online coding competitions (e.g. HackerRank, CodeChef, TopCoder);Participated in a hackathon',\n",
       "       'Completed an industry certification program (e.g. MCPD);Received on-the-job training in software development;Taught yourself a new language, framework, or tool without taking a formal course',\n",
       "       'Participated in a full-time developer training program or bootcamp;Taught yourself a new language, framework, or tool without taking a formal course;Participated in online coding competitions (e.g. HackerRank, CodeChef, TopCoder);Participated in a hackathon',\n",
       "       'Participated in online coding competitions (e.g. HackerRank, CodeChef, TopCoder);Participated in a hackathon',\n",
       "       'Taken a part-time in-person course in programming or software development;Taught yourself a new language, framework, or tool without taking a formal course;Participated in online coding competitions (e.g. HackerRank, CodeChef, TopCoder);Contributed to open source software',\n",
       "       'Participated in a full-time developer training program or bootcamp;Received on-the-job training in software development;Taught yourself a new language, framework, or tool without taking a formal course;Participated in a hackathon',\n",
       "       'Taken an online course in programming or software development (e.g. a MOOC);Taken a part-time in-person course in programming or software development;Participated in a hackathon;Contributed to open source software',\n",
       "       'Participated in a full-time developer training program or bootcamp;Completed an industry certification program (e.g. MCPD);Taught yourself a new language, framework, or tool without taking a formal course;Participated in a hackathon;Contributed to open source software',\n",
       "       'Participated in a full-time developer training program or bootcamp;Taken a part-time in-person course in programming or software development;Taught yourself a new language, framework, or tool without taking a formal course;Participated in a hackathon',\n",
       "       'Participated in a full-time developer training program or bootcamp;Received on-the-job training in software development;Taught yourself a new language, framework, or tool without taking a formal course;Participated in online coding competitions (e.g. HackerRank, CodeChef, TopCoder);Contributed to open source software',\n",
       "       'Taken an online course in programming or software development (e.g. a MOOC);Taken a part-time in-person course in programming or software development;Completed an industry certification program (e.g. MCPD);Taught yourself a new language, framework, or tool without taking a formal course;Participated in online coding competitions (e.g. HackerRank, CodeChef, TopCoder);Contributed to open source software',\n",
       "       'Taken a part-time in-person course in programming or software development;Taught yourself a new language, framework, or tool without taking a formal course;Participated in online coding competitions (e.g. HackerRank, CodeChef, TopCoder)',\n",
       "       'Participated in a full-time developer training program or bootcamp;Taught yourself a new language, framework, or tool without taking a formal course;Participated in a hackathon;Contributed to open source software',\n",
       "       'Taken an online course in programming or software development (e.g. a MOOC);Participated in a full-time developer training program or bootcamp;Taught yourself a new language, framework, or tool without taking a formal course;Participated in a hackathon',\n",
       "       'Taken an online course in programming or software development (e.g. a MOOC);Taken a part-time in-person course in programming or software development;Participated in a hackathon',\n",
       "       'Taken a part-time in-person course in programming or software development;Received on-the-job training in software development;Taught yourself a new language, framework, or tool without taking a formal course;Participated in a hackathon',\n",
       "       'Taken an online course in programming or software development (e.g. a MOOC);Participated in a full-time developer training program or bootcamp;Taught yourself a new language, framework, or tool without taking a formal course;Participated in online coding competitions (e.g. HackerRank, CodeChef, TopCoder);Participated in a hackathon;Contributed to open source software',\n",
       "       'Participated in a full-time developer training program or bootcamp;Taken a part-time in-person course in programming or software development;Taught yourself a new language, framework, or tool without taking a formal course;Contributed to open source software',\n",
       "       'Taken a part-time in-person course in programming or software development;Completed an industry certification program (e.g. MCPD);Received on-the-job training in software development;Taught yourself a new language, framework, or tool without taking a formal course;Contributed to open source software',\n",
       "       'Taken an online course in programming or software development (e.g. a MOOC);Participated in a full-time developer training program or bootcamp;Taken a part-time in-person course in programming or software development;Taught yourself a new language, framework, or tool without taking a formal course;Participated in online coding competitions (e.g. HackerRank, CodeChef, TopCoder);Participated in a hackathon;Contributed to open source software',\n",
       "       'Completed an industry certification program (e.g. MCPD);Received on-the-job training in software development;Taught yourself a new language, framework, or tool without taking a formal course;Participated in a hackathon;Contributed to open source software',\n",
       "       'Participated in a full-time developer training program or bootcamp;Taken a part-time in-person course in programming or software development;Completed an industry certification program (e.g. MCPD);Received on-the-job training in software development',\n",
       "       'Taken an online course in programming or software development (e.g. a MOOC);Participated in a full-time developer training program or bootcamp;Taught yourself a new language, framework, or tool without taking a formal course;Participated in a hackathon;Contributed to open source software',\n",
       "       'Taken an online course in programming or software development (e.g. a MOOC);Participated in a full-time developer training program or bootcamp;Taken a part-time in-person course in programming or software development;Completed an industry certification program (e.g. MCPD);Taught yourself a new language, framework, or tool without taking a formal course;Participated in a hackathon',\n",
       "       'Taken an online course in programming or software development (e.g. a MOOC);Taken a part-time in-person course in programming or software development;Received on-the-job training in software development',\n",
       "       'Taken an online course in programming or software development (e.g. a MOOC);Participated in a full-time developer training program or bootcamp;Taken a part-time in-person course in programming or software development;Received on-the-job training in software development',\n",
       "       'Taken an online course in programming or software development (e.g. a MOOC);Participated in a full-time developer training program or bootcamp;Taken a part-time in-person course in programming or software development;Completed an industry certification program (e.g. MCPD);Received on-the-job training in software development;Taught yourself a new language, framework, or tool without taking a formal course;Participated in a hackathon',\n",
       "       'Taken an online course in programming or software development (e.g. a MOOC);Participated in a full-time developer training program or bootcamp;Completed an industry certification program (e.g. MCPD)',\n",
       "       'Taken an online course in programming or software development (e.g. a MOOC);Taken a part-time in-person course in programming or software development;Completed an industry certification program (e.g. MCPD);Taught yourself a new language, framework, or tool without taking a formal course;Participated in online coding competitions (e.g. HackerRank, CodeChef, TopCoder);Participated in a hackathon;Contributed to open source software',\n",
       "       'Taken an online course in programming or software development (e.g. a MOOC);Participated in a full-time developer training program or bootcamp;Taken a part-time in-person course in programming or software development;Taught yourself a new language, framework, or tool without taking a formal course;Participated in a hackathon;Contributed to open source software',\n",
       "       'Taken an online course in programming or software development (e.g. a MOOC);Participated in a full-time developer training program or bootcamp;Taken a part-time in-person course in programming or software development;Participated in a hackathon',\n",
       "       'Taken an online course in programming or software development (e.g. a MOOC);Participated in a full-time developer training program or bootcamp;Taken a part-time in-person course in programming or software development',\n",
       "       'Taken an online course in programming or software development (e.g. a MOOC);Completed an industry certification program (e.g. MCPD);Received on-the-job training in software development;Participated in online coding competitions (e.g. HackerRank, CodeChef, TopCoder);Participated in a hackathon;Contributed to open source software',\n",
       "       'Taken an online course in programming or software development (e.g. a MOOC);Completed an industry certification program (e.g. MCPD);Received on-the-job training in software development;Taught yourself a new language, framework, or tool without taking a formal course;Participated in online coding competitions (e.g. HackerRank, CodeChef, TopCoder);Participated in a hackathon;Contributed to open source software',\n",
       "       'Participated in a full-time developer training program or bootcamp;Taken a part-time in-person course in programming or software development',\n",
       "       'Taken an online course in programming or software development (e.g. a MOOC);Participated in online coding competitions (e.g. HackerRank, CodeChef, TopCoder);Participated in a hackathon;Contributed to open source software',\n",
       "       'Received on-the-job training in software development;Participated in a hackathon;Contributed to open source software',\n",
       "       'Taken an online course in programming or software development (e.g. a MOOC);Participated in a full-time developer training program or bootcamp;Completed an industry certification program (e.g. MCPD);Received on-the-job training in software development;Taught yourself a new language, framework, or tool without taking a formal course',\n",
       "       'Participated in a full-time developer training program or bootcamp;Taken a part-time in-person course in programming or software development;Completed an industry certification program (e.g. MCPD);Taught yourself a new language, framework, or tool without taking a formal course',\n",
       "       'Taken an online course in programming or software development (e.g. a MOOC);Taken a part-time in-person course in programming or software development;Received on-the-job training in software development;Participated in a hackathon',\n",
       "       'Received on-the-job training in software development;Participated in a hackathon',\n",
       "       'Taken an online course in programming or software development (e.g. a MOOC);Participated in a full-time developer training program or bootcamp;Taken a part-time in-person course in programming or software development;Completed an industry certification program (e.g. MCPD);Taught yourself a new language, framework, or tool without taking a formal course;Contributed to open source software',\n",
       "       'Participated in a full-time developer training program or bootcamp;Taken a part-time in-person course in programming or software development;Completed an industry certification program (e.g. MCPD);Received on-the-job training in software development;Taught yourself a new language, framework, or tool without taking a formal course;Participated in online coding competitions (e.g. HackerRank, CodeChef, TopCoder);Participated in a hackathon;Contributed to open source software',\n",
       "       'Participated in a full-time developer training program or bootcamp;Taken a part-time in-person course in programming or software development;Taught yourself a new language, framework, or tool without taking a formal course;Participated in online coding competitions (e.g. HackerRank, CodeChef, TopCoder);Contributed to open source software',\n",
       "       'Taken an online course in programming or software development (e.g. a MOOC);Taken a part-time in-person course in programming or software development;Contributed to open source software',\n",
       "       'Taken an online course in programming or software development (e.g. a MOOC);Participated in a full-time developer training program or bootcamp;Taught yourself a new language, framework, or tool without taking a formal course;Contributed to open source software',\n",
       "       'Taken an online course in programming or software development (e.g. a MOOC);Participated in a full-time developer training program or bootcamp;Taken a part-time in-person course in programming or software development;Completed an industry certification program (e.g. MCPD);Participated in a hackathon;Contributed to open source software',\n",
       "       'Taken an online course in programming or software development (e.g. a MOOC);Participated in a full-time developer training program or bootcamp;Taken a part-time in-person course in programming or software development;Completed an industry certification program (e.g. MCPD);Received on-the-job training in software development;Participated in online coding competitions (e.g. HackerRank, CodeChef, TopCoder);Participated in a hackathon;Contributed to open source software',\n",
       "       'Taken an online course in programming or software development (e.g. a MOOC);Completed an industry certification program (e.g. MCPD);Received on-the-job training in software development;Participated in a hackathon',\n",
       "       'Taken an online course in programming or software development (e.g. a MOOC);Participated in a full-time developer training program or bootcamp;Received on-the-job training in software development;Taught yourself a new language, framework, or tool without taking a formal course;Participated in a hackathon;Contributed to open source software',\n",
       "       'Taken an online course in programming or software development (e.g. a MOOC);Completed an industry certification program (e.g. MCPD);Received on-the-job training in software development;Taught yourself a new language, framework, or tool without taking a formal course;Participated in a hackathon',\n",
       "       'Participated in a full-time developer training program or bootcamp;Taken a part-time in-person course in programming or software development;Taught yourself a new language, framework, or tool without taking a formal course',\n",
       "       'Taken an online course in programming or software development (e.g. a MOOC);Participated in a full-time developer training program or bootcamp;Taken a part-time in-person course in programming or software development;Taught yourself a new language, framework, or tool without taking a formal course;Participated in online coding competitions (e.g. HackerRank, CodeChef, TopCoder)',\n",
       "       'Taken an online course in programming or software development (e.g. a MOOC);Completed an industry certification program (e.g. MCPD);Received on-the-job training in software development;Contributed to open source software',\n",
       "       'Taken an online course in programming or software development (e.g. a MOOC);Participated in a full-time developer training program or bootcamp;Taken a part-time in-person course in programming or software development;Completed an industry certification program (e.g. MCPD);Taught yourself a new language, framework, or tool without taking a formal course;Participated in online coding competitions (e.g. HackerRank, CodeChef, TopCoder);Participated in a hackathon;Contributed to open source software',\n",
       "       'Participated in a full-time developer training program or bootcamp;Received on-the-job training in software development;Participated in a hackathon',\n",
       "       'Taken a part-time in-person course in programming or software development;Completed an industry certification program (e.g. MCPD);Received on-the-job training in software development;Taught yourself a new language, framework, or tool without taking a formal course;Participated in online coding competitions (e.g. HackerRank, CodeChef, TopCoder);Contributed to open source software',\n",
       "       'Taken an online course in programming or software development (e.g. a MOOC);Completed an industry certification program (e.g. MCPD);Participated in a hackathon',\n",
       "       'Taken an online course in programming or software development (e.g. a MOOC);Taken a part-time in-person course in programming or software development;Completed an industry certification program (e.g. MCPD);Taught yourself a new language, framework, or tool without taking a formal course;Participated in a hackathon;Contributed to open source software',\n",
       "       'Taken an online course in programming or software development (e.g. a MOOC);Participated in a full-time developer training program or bootcamp;Taken a part-time in-person course in programming or software development;Received on-the-job training in software development;Taught yourself a new language, framework, or tool without taking a formal course;Participated in a hackathon',\n",
       "       'Taken an online course in programming or software development (e.g. a MOOC);Participated in a full-time developer training program or bootcamp;Taken a part-time in-person course in programming or software development;Participated in a hackathon;Contributed to open source software',\n",
       "       'Participated in a full-time developer training program or bootcamp;Taken a part-time in-person course in programming or software development;Received on-the-job training in software development;Taught yourself a new language, framework, or tool without taking a formal course',\n",
       "       'Taken a part-time in-person course in programming or software development;Received on-the-job training in software development;Taught yourself a new language, framework, or tool without taking a formal course;Participated in online coding competitions (e.g. HackerRank, CodeChef, TopCoder);Participated in a hackathon',\n",
       "       'Participated in a full-time developer training program or bootcamp;Received on-the-job training in software development',\n",
       "       'Participated in a full-time developer training program or bootcamp;Taught yourself a new language, framework, or tool without taking a formal course;Participated in a hackathon',\n",
       "       'Taken a part-time in-person course in programming or software development;Participated in a hackathon;Contributed to open source software',\n",
       "       'Taken an online course in programming or software development (e.g. a MOOC);Participated in a full-time developer training program or bootcamp;Taken a part-time in-person course in programming or software development;Completed an industry certification program (e.g. MCPD);Received on-the-job training in software development',\n",
       "       'Taken an online course in programming or software development (e.g. a MOOC);Participated in a full-time developer training program or bootcamp;Received on-the-job training in software development;Taught yourself a new language, framework, or tool without taking a formal course;Participated in online coding competitions (e.g. HackerRank, CodeChef, TopCoder);Contributed to open source software',\n",
       "       'Taken an online course in programming or software development (e.g. a MOOC);Received on-the-job training in software development;Participated in a hackathon',\n",
       "       'Taken an online course in programming or software development (e.g. a MOOC);Participated in a full-time developer training program or bootcamp;Completed an industry certification program (e.g. MCPD);Received on-the-job training in software development;Taught yourself a new language, framework, or tool without taking a formal course;Participated in a hackathon;Contributed to open source software',\n",
       "       'Taken an online course in programming or software development (e.g. a MOOC);Taken a part-time in-person course in programming or software development;Completed an industry certification program (e.g. MCPD);Received on-the-job training in software development;Taught yourself a new language, framework, or tool without taking a formal course;Participated in a hackathon;Contributed to open source software',\n",
       "       'Taken an online course in programming or software development (e.g. a MOOC);Taken a part-time in-person course in programming or software development;Completed an industry certification program (e.g. MCPD);Received on-the-job training in software development;Taught yourself a new language, framework, or tool without taking a formal course;Participated in a hackathon',\n",
       "       'Taken a part-time in-person course in programming or software development;Participated in online coding competitions (e.g. HackerRank, CodeChef, TopCoder)',\n",
       "       'Taken an online course in programming or software development (e.g. a MOOC);Taken a part-time in-person course in programming or software development;Completed an industry certification program (e.g. MCPD);Received on-the-job training in software development;Participated in a hackathon',\n",
       "       'Taken an online course in programming or software development (e.g. a MOOC);Participated in a hackathon;Contributed to open source software',\n",
       "       'Taken a part-time in-person course in programming or software development;Completed an industry certification program (e.g. MCPD);Taught yourself a new language, framework, or tool without taking a formal course;Contributed to open source software',\n",
       "       'Taken an online course in programming or software development (e.g. a MOOC);Taken a part-time in-person course in programming or software development;Completed an industry certification program (e.g. MCPD)',\n",
       "       'Taken an online course in programming or software development (e.g. a MOOC);Participated in a full-time developer training program or bootcamp;Completed an industry certification program (e.g. MCPD);Received on-the-job training in software development;Taught yourself a new language, framework, or tool without taking a formal course;Participated in a hackathon',\n",
       "       'Taken an online course in programming or software development (e.g. a MOOC);Taken a part-time in-person course in programming or software development;Completed an industry certification program (e.g. MCPD);Taught yourself a new language, framework, or tool without taking a formal course;Participated in online coding competitions (e.g. HackerRank, CodeChef, TopCoder);Participated in a hackathon',\n",
       "       'Participated in a full-time developer training program or bootcamp;Completed an industry certification program (e.g. MCPD)',\n",
       "       'Taken an online course in programming or software development (e.g. a MOOC);Taken a part-time in-person course in programming or software development;Completed an industry certification program (e.g. MCPD);Participated in online coding competitions (e.g. HackerRank, CodeChef, TopCoder)',\n",
       "       'Participated in a full-time developer training program or bootcamp;Participated in online coding competitions (e.g. HackerRank, CodeChef, TopCoder);Participated in a hackathon',\n",
       "       'Taken an online course in programming or software development (e.g. a MOOC);Participated in a full-time developer training program or bootcamp;Completed an industry certification program (e.g. MCPD);Taught yourself a new language, framework, or tool without taking a formal course;Participated in online coding competitions (e.g. HackerRank, CodeChef, TopCoder);Participated in a hackathon;Contributed to open source software',\n",
       "       'Participated in a full-time developer training program or bootcamp;Taught yourself a new language, framework, or tool without taking a formal course;Participated in online coding competitions (e.g. HackerRank, CodeChef, TopCoder);Contributed to open source software',\n",
       "       'Taken a part-time in-person course in programming or software development;Received on-the-job training in software development;Taught yourself a new language, framework, or tool without taking a formal course;Participated in online coding competitions (e.g. HackerRank, CodeChef, TopCoder)',\n",
       "       'Taken an online course in programming or software development (e.g. a MOOC);Taken a part-time in-person course in programming or software development;Received on-the-job training in software development;Participated in online coding competitions (e.g. HackerRank, CodeChef, TopCoder);Participated in a hackathon;Contributed to open source software',\n",
       "       'Participated in a full-time developer training program or bootcamp;Taken a part-time in-person course in programming or software development;Received on-the-job training in software development;Taught yourself a new language, framework, or tool without taking a formal course;Participated in online coding competitions (e.g. HackerRank, CodeChef, TopCoder);Participated in a hackathon;Contributed to open source software',\n",
       "       'Taken an online course in programming or software development (e.g. a MOOC);Participated in a full-time developer training program or bootcamp;Taken a part-time in-person course in programming or software development;Received on-the-job training in software development;Contributed to open source software',\n",
       "       'Participated in a full-time developer training program or bootcamp;Taught yourself a new language, framework, or tool without taking a formal course;Participated in online coding competitions (e.g. HackerRank, CodeChef, TopCoder);Participated in a hackathon;Contributed to open source software',\n",
       "       'Taken an online course in programming or software development (e.g. a MOOC);Participated in a full-time developer training program or bootcamp;Taken a part-time in-person course in programming or software development;Taught yourself a new language, framework, or tool without taking a formal course;Participated in a hackathon',\n",
       "       'Taken an online course in programming or software development (e.g. a MOOC);Participated in a full-time developer training program or bootcamp;Taken a part-time in-person course in programming or software development;Completed an industry certification program (e.g. MCPD);Taught yourself a new language, framework, or tool without taking a formal course;Participated in online coding competitions (e.g. HackerRank, CodeChef, TopCoder);Participated in a hackathon',\n",
       "       'Taken an online course in programming or software development (e.g. a MOOC);Participated in a full-time developer training program or bootcamp;Received on-the-job training in software development;Taught yourself a new language, framework, or tool without taking a formal course;Participated in online coding competitions (e.g. HackerRank, CodeChef, TopCoder)',\n",
       "       'Participated in a full-time developer training program or bootcamp;Completed an industry certification program (e.g. MCPD);Received on-the-job training in software development;Taught yourself a new language, framework, or tool without taking a formal course;Participated in a hackathon;Contributed to open source software',\n",
       "       'Completed an industry certification program (e.g. MCPD);Participated in a hackathon',\n",
       "       'Taken an online course in programming or software development (e.g. a MOOC);Participated in a full-time developer training program or bootcamp;Participated in online coding competitions (e.g. HackerRank, CodeChef, TopCoder);Participated in a hackathon',\n",
       "       'Taken an online course in programming or software development (e.g. a MOOC);Participated in a full-time developer training program or bootcamp;Completed an industry certification program (e.g. MCPD);Taught yourself a new language, framework, or tool without taking a formal course;Participated in online coding competitions (e.g. HackerRank, CodeChef, TopCoder)',\n",
       "       'Taken an online course in programming or software development (e.g. a MOOC);Participated in a full-time developer training program or bootcamp;Taken a part-time in-person course in programming or software development;Contributed to open source software',\n",
       "       'Taken a part-time in-person course in programming or software development;Completed an industry certification program (e.g. MCPD);Received on-the-job training in software development',\n",
       "       'Taken an online course in programming or software development (e.g. a MOOC);Participated in a full-time developer training program or bootcamp;Completed an industry certification program (e.g. MCPD);Contributed to open source software',\n",
       "       'Participated in a full-time developer training program or bootcamp;Participated in a hackathon;Contributed to open source software',\n",
       "       'Participated in a full-time developer training program or bootcamp;Received on-the-job training in software development;Taught yourself a new language, framework, or tool without taking a formal course;Participated in online coding competitions (e.g. HackerRank, CodeChef, TopCoder);Participated in a hackathon',\n",
       "       'Participated in a full-time developer training program or bootcamp;Completed an industry certification program (e.g. MCPD);Received on-the-job training in software development;Contributed to open source software',\n",
       "       'Taken an online course in programming or software development (e.g. a MOOC);Participated in a full-time developer training program or bootcamp;Contributed to open source software',\n",
       "       'Taken a part-time in-person course in programming or software development;Received on-the-job training in software development;Taught yourself a new language, framework, or tool without taking a formal course;Participated in online coding competitions (e.g. HackerRank, CodeChef, TopCoder);Contributed to open source software',\n",
       "       'Taken an online course in programming or software development (e.g. a MOOC);Participated in a full-time developer training program or bootcamp;Received on-the-job training in software development;Participated in online coding competitions (e.g. HackerRank, CodeChef, TopCoder)',\n",
       "       'Participated in a hackathon;Contributed to open source software',\n",
       "       'Taken an online course in programming or software development (e.g. a MOOC);Participated in a full-time developer training program or bootcamp;Completed an industry certification program (e.g. MCPD);Taught yourself a new language, framework, or tool without taking a formal course;Participated in a hackathon;Contributed to open source software',\n",
       "       'Participated in a full-time developer training program or bootcamp;Participated in online coding competitions (e.g. HackerRank, CodeChef, TopCoder);Contributed to open source software',\n",
       "       'Participated in a full-time developer training program or bootcamp;Completed an industry certification program (e.g. MCPD);Taught yourself a new language, framework, or tool without taking a formal course;Participated in online coding competitions (e.g. HackerRank, CodeChef, TopCoder);Participated in a hackathon;Contributed to open source software',\n",
       "       'Taken an online course in programming or software development (e.g. a MOOC);Participated in a full-time developer training program or bootcamp;Completed an industry certification program (e.g. MCPD);Received on-the-job training in software development',\n",
       "       'Taken a part-time in-person course in programming or software development;Completed an industry certification program (e.g. MCPD)',\n",
       "       'Taken an online course in programming or software development (e.g. a MOOC);Completed an industry certification program (e.g. MCPD);Received on-the-job training in software development;Participated in online coding competitions (e.g. HackerRank, CodeChef, TopCoder);Participated in a hackathon',\n",
       "       'Taken an online course in programming or software development (e.g. a MOOC);Taken a part-time in-person course in programming or software development;Completed an industry certification program (e.g. MCPD);Taught yourself a new language, framework, or tool without taking a formal course;Participated in a hackathon',\n",
       "       'Taken an online course in programming or software development (e.g. a MOOC);Participated in a full-time developer training program or bootcamp;Taken a part-time in-person course in programming or software development;Taught yourself a new language, framework, or tool without taking a formal course;Participated in online coding competitions (e.g. HackerRank, CodeChef, TopCoder);Contributed to open source software',\n",
       "       'Taken a part-time in-person course in programming or software development;Participated in online coding competitions (e.g. HackerRank, CodeChef, TopCoder);Participated in a hackathon',\n",
       "       'Completed an industry certification program (e.g. MCPD);Received on-the-job training in software development;Taught yourself a new language, framework, or tool without taking a formal course;Participated in online coding competitions (e.g. HackerRank, CodeChef, TopCoder)',\n",
       "       'Participated in a full-time developer training program or bootcamp;Taken a part-time in-person course in programming or software development;Received on-the-job training in software development;Taught yourself a new language, framework, or tool without taking a formal course;Participated in online coding competitions (e.g. HackerRank, CodeChef, TopCoder);Contributed to open source software',\n",
       "       'Taken an online course in programming or software development (e.g. a MOOC);Taken a part-time in-person course in programming or software development;Completed an industry certification program (e.g. MCPD);Received on-the-job training in software development;Taught yourself a new language, framework, or tool without taking a formal course;Participated in online coding competitions (e.g. HackerRank, CodeChef, TopCoder);Participated in a hackathon',\n",
       "       'Completed an industry certification program (e.g. MCPD);Received on-the-job training in software development;Taught yourself a new language, framework, or tool without taking a formal course;Participated in a hackathon',\n",
       "       'Taken an online course in programming or software development (e.g. a MOOC);Participated in a full-time developer training program or bootcamp;Completed an industry certification program (e.g. MCPD);Taught yourself a new language, framework, or tool without taking a formal course;Participated in online coding competitions (e.g. HackerRank, CodeChef, TopCoder);Contributed to open source software',\n",
       "       'Participated in a full-time developer training program or bootcamp;Received on-the-job training in software development;Taught yourself a new language, framework, or tool without taking a formal course;Participated in online coding competitions (e.g. HackerRank, CodeChef, TopCoder)',\n",
       "       'Taken an online course in programming or software development (e.g. a MOOC);Received on-the-job training in software development;Participated in online coding competitions (e.g. HackerRank, CodeChef, TopCoder)',\n",
       "       'Participated in a full-time developer training program or bootcamp;Completed an industry certification program (e.g. MCPD);Contributed to open source software',\n",
       "       'Taken an online course in programming or software development (e.g. a MOOC);Taken a part-time in-person course in programming or software development;Completed an industry certification program (e.g. MCPD);Taught yourself a new language, framework, or tool without taking a formal course;Participated in online coding competitions (e.g. HackerRank, CodeChef, TopCoder)',\n",
       "       'Taken an online course in programming or software development (e.g. a MOOC);Participated in a full-time developer training program or bootcamp;Received on-the-job training in software development;Contributed to open source software',\n",
       "       'Taken an online course in programming or software development (e.g. a MOOC);Participated in a full-time developer training program or bootcamp;Taken a part-time in-person course in programming or software development;Completed an industry certification program (e.g. MCPD);Received on-the-job training in software development;Contributed to open source software',\n",
       "       'Participated in a full-time developer training program or bootcamp;Participated in a hackathon',\n",
       "       'Participated in a full-time developer training program or bootcamp;Taken a part-time in-person course in programming or software development;Received on-the-job training in software development;Taught yourself a new language, framework, or tool without taking a formal course;Participated in a hackathon;Contributed to open source software',\n",
       "       'Taken an online course in programming or software development (e.g. a MOOC);Participated in a full-time developer training program or bootcamp;Participated in a hackathon;Contributed to open source software',\n",
       "       'Taken a part-time in-person course in programming or software development;Completed an industry certification program (e.g. MCPD);Taught yourself a new language, framework, or tool without taking a formal course;Participated in online coding competitions (e.g. HackerRank, CodeChef, TopCoder);Participated in a hackathon;Contributed to open source software',\n",
       "       'Taken a part-time in-person course in programming or software development;Contributed to open source software',\n",
       "       'Participated in a full-time developer training program or bootcamp;Taught yourself a new language, framework, or tool without taking a formal course;Participated in online coding competitions (e.g. HackerRank, CodeChef, TopCoder)',\n",
       "       'Completed an industry certification program (e.g. MCPD);Received on-the-job training in software development',\n",
       "       'Participated in a full-time developer training program or bootcamp;Taken a part-time in-person course in programming or software development;Taught yourself a new language, framework, or tool without taking a formal course;Participated in online coding competitions (e.g. HackerRank, CodeChef, TopCoder);Participated in a hackathon;Contributed to open source software',\n",
       "       'Taken a part-time in-person course in programming or software development;Taught yourself a new language, framework, or tool without taking a formal course;Participated in online coding competitions (e.g. HackerRank, CodeChef, TopCoder);Participated in a hackathon',\n",
       "       'Taken an online course in programming or software development (e.g. a MOOC);Participated in a full-time developer training program or bootcamp;Completed an industry certification program (e.g. MCPD);Taught yourself a new language, framework, or tool without taking a formal course;Participated in online coding competitions (e.g. HackerRank, CodeChef, TopCoder);Participated in a hackathon',\n",
       "       'Taken an online course in programming or software development (e.g. a MOOC);Participated in a full-time developer training program or bootcamp;Completed an industry certification program (e.g. MCPD);Received on-the-job training in software development;Participated in online coding competitions (e.g. HackerRank, CodeChef, TopCoder);Contributed to open source software',\n",
       "       'Taken an online course in programming or software development (e.g. a MOOC);Taken a part-time in-person course in programming or software development;Participated in online coding competitions (e.g. HackerRank, CodeChef, TopCoder);Participated in a hackathon;Contributed to open source software',\n",
       "       'Taken an online course in programming or software development (e.g. a MOOC);Participated in a full-time developer training program or bootcamp;Taken a part-time in-person course in programming or software development;Received on-the-job training in software development;Participated in online coding competitions (e.g. HackerRank, CodeChef, TopCoder);Participated in a hackathon;Contributed to open source software',\n",
       "       'Completed an industry certification program (e.g. MCPD);Participated in online coding competitions (e.g. HackerRank, CodeChef, TopCoder);Participated in a hackathon',\n",
       "       'Taken an online course in programming or software development (e.g. a MOOC);Taken a part-time in-person course in programming or software development;Completed an industry certification program (e.g. MCPD);Participated in online coding competitions (e.g. HackerRank, CodeChef, TopCoder);Contributed to open source software',\n",
       "       'Taken an online course in programming or software development (e.g. a MOOC);Participated in a full-time developer training program or bootcamp;Participated in online coding competitions (e.g. HackerRank, CodeChef, TopCoder);Contributed to open source software',\n",
       "       'Taken an online course in programming or software development (e.g. a MOOC);Received on-the-job training in software development;Participated in a hackathon;Contributed to open source software',\n",
       "       'Taken a part-time in-person course in programming or software development;Received on-the-job training in software development;Participated in online coding competitions (e.g. HackerRank, CodeChef, TopCoder);Participated in a hackathon;Contributed to open source software',\n",
       "       'Participated in a full-time developer training program or bootcamp;Taken a part-time in-person course in programming or software development;Received on-the-job training in software development;Contributed to open source software',\n",
       "       'Taken an online course in programming or software development (e.g. a MOOC);Participated in a full-time developer training program or bootcamp;Completed an industry certification program (e.g. MCPD);Received on-the-job training in software development;Participated in a hackathon;Contributed to open source software',\n",
       "       'Taken a part-time in-person course in programming or software development;Completed an industry certification program (e.g. MCPD);Contributed to open source software',\n",
       "       'Participated in a full-time developer training program or bootcamp;Taken a part-time in-person course in programming or software development;Received on-the-job training in software development;Taught yourself a new language, framework, or tool without taking a formal course;Participated in online coding competitions (e.g. HackerRank, CodeChef, TopCoder)',\n",
       "       'Participated in a full-time developer training program or bootcamp;Completed an industry certification program (e.g. MCPD);Received on-the-job training in software development;Taught yourself a new language, framework, or tool without taking a formal course;Participated in online coding competitions (e.g. HackerRank, CodeChef, TopCoder);Participated in a hackathon;Contributed to open source software',\n",
       "       'Taken an online course in programming or software development (e.g. a MOOC);Participated in a full-time developer training program or bootcamp;Taken a part-time in-person course in programming or software development;Completed an industry certification program (e.g. MCPD);Participated in online coding competitions (e.g. HackerRank, CodeChef, TopCoder);Participated in a hackathon;Contributed to open source software',\n",
       "       'Taken an online course in programming or software development (e.g. a MOOC);Participated in a full-time developer training program or bootcamp;Participated in a hackathon',\n",
       "       'Taken an online course in programming or software development (e.g. a MOOC);Participated in a full-time developer training program or bootcamp;Taken a part-time in-person course in programming or software development;Completed an industry certification program (e.g. MCPD);Received on-the-job training in software development;Participated in a hackathon',\n",
       "       'Taken an online course in programming or software development (e.g. a MOOC);Participated in a full-time developer training program or bootcamp;Taken a part-time in-person course in programming or software development;Received on-the-job training in software development;Participated in online coding competitions (e.g. HackerRank, CodeChef, TopCoder);Participated in a hackathon',\n",
       "       'Taken a part-time in-person course in programming or software development;Completed an industry certification program (e.g. MCPD);Received on-the-job training in software development;Taught yourself a new language, framework, or tool without taking a formal course;Participated in online coding competitions (e.g. HackerRank, CodeChef, TopCoder)',\n",
       "       'Taken an online course in programming or software development (e.g. a MOOC);Participated in a full-time developer training program or bootcamp;Completed an industry certification program (e.g. MCPD);Received on-the-job training in software development;Participated in a hackathon',\n",
       "       'Participated in a full-time developer training program or bootcamp;Completed an industry certification program (e.g. MCPD);Taught yourself a new language, framework, or tool without taking a formal course;Participated in a hackathon',\n",
       "       'Taken a part-time in-person course in programming or software development;Received on-the-job training in software development;Participated in online coding competitions (e.g. HackerRank, CodeChef, TopCoder)',\n",
       "       'Participated in a full-time developer training program or bootcamp;Received on-the-job training in software development;Taught yourself a new language, framework, or tool without taking a formal course;Participated in a hackathon;Contributed to open source software',\n",
       "       'Participated in a full-time developer training program or bootcamp;Taken a part-time in-person course in programming or software development;Participated in online coding competitions (e.g. HackerRank, CodeChef, TopCoder)',\n",
       "       'Taken an online course in programming or software development (e.g. a MOOC);Participated in a full-time developer training program or bootcamp;Participated in online coding competitions (e.g. HackerRank, CodeChef, TopCoder)',\n",
       "       'Completed an industry certification program (e.g. MCPD);Received on-the-job training in software development;Taught yourself a new language, framework, or tool without taking a formal course;Participated in online coding competitions (e.g. HackerRank, CodeChef, TopCoder);Contributed to open source software',\n",
       "       'Taken a part-time in-person course in programming or software development;Taught yourself a new language, framework, or tool without taking a formal course;Participated in a hackathon',\n",
       "       'Taken an online course in programming or software development (e.g. a MOOC);Completed an industry certification program (e.g. MCPD);Received on-the-job training in software development;Participated in online coding competitions (e.g. HackerRank, CodeChef, TopCoder)',\n",
       "       'Participated in a full-time developer training program or bootcamp;Taken a part-time in-person course in programming or software development;Completed an industry certification program (e.g. MCPD);Received on-the-job training in software development;Participated in a hackathon',\n",
       "       'Participated in a full-time developer training program or bootcamp;Taken a part-time in-person course in programming or software development;Completed an industry certification program (e.g. MCPD);Taught yourself a new language, framework, or tool without taking a formal course;Participated in online coding competitions (e.g. HackerRank, CodeChef, TopCoder);Participated in a hackathon;Contributed to open source software',\n",
       "       'Taken an online course in programming or software development (e.g. a MOOC);Participated in a full-time developer training program or bootcamp;Taken a part-time in-person course in programming or software development;Completed an industry certification program (e.g. MCPD);Taught yourself a new language, framework, or tool without taking a formal course;Participated in a hackathon;Contributed to open source software',\n",
       "       'Taken an online course in programming or software development (e.g. a MOOC);Participated in a full-time developer training program or bootcamp;Taken a part-time in-person course in programming or software development;Participated in online coding competitions (e.g. HackerRank, CodeChef, TopCoder)',\n",
       "       'Participated in a full-time developer training program or bootcamp;Completed an industry certification program (e.g. MCPD);Received on-the-job training in software development;Taught yourself a new language, framework, or tool without taking a formal course;Participated in online coding competitions (e.g. HackerRank, CodeChef, TopCoder);Contributed to open source software',\n",
       "       'Taken an online course in programming or software development (e.g. a MOOC);Participated in a full-time developer training program or bootcamp;Completed an industry certification program (e.g. MCPD);Participated in online coding competitions (e.g. HackerRank, CodeChef, TopCoder);Participated in a hackathon;Contributed to open source software',\n",
       "       'Taken an online course in programming or software development (e.g. a MOOC);Participated in a full-time developer training program or bootcamp;Taken a part-time in-person course in programming or software development;Participated in online coding competitions (e.g. HackerRank, CodeChef, TopCoder);Participated in a hackathon',\n",
       "       'Taken an online course in programming or software development (e.g. a MOOC);Participated in a full-time developer training program or bootcamp;Taken a part-time in-person course in programming or software development;Completed an industry certification program (e.g. MCPD);Participated in a hackathon',\n",
       "       'Participated in a full-time developer training program or bootcamp;Taken a part-time in-person course in programming or software development;Received on-the-job training in software development',\n",
       "       'Taken an online course in programming or software development (e.g. a MOOC);Taken a part-time in-person course in programming or software development;Participated in online coding competitions (e.g. HackerRank, CodeChef, TopCoder);Participated in a hackathon',\n",
       "       'Participated in a full-time developer training program or bootcamp;Completed an industry certification program (e.g. MCPD);Taught yourself a new language, framework, or tool without taking a formal course;Participated in online coding competitions (e.g. HackerRank, CodeChef, TopCoder);Contributed to open source software',\n",
       "       'Participated in a full-time developer training program or bootcamp;Taken a part-time in-person course in programming or software development;Taught yourself a new language, framework, or tool without taking a formal course;Participated in online coding competitions (e.g. HackerRank, CodeChef, TopCoder)',\n",
       "       'Taken an online course in programming or software development (e.g. a MOOC);Participated in a full-time developer training program or bootcamp;Taken a part-time in-person course in programming or software development;Completed an industry certification program (e.g. MCPD);Received on-the-job training in software development;Participated in online coding competitions (e.g. HackerRank, CodeChef, TopCoder);Contributed to open source software',\n",
       "       'Taken an online course in programming or software development (e.g. a MOOC);Participated in a full-time developer training program or bootcamp;Taken a part-time in-person course in programming or software development;Participated in online coding competitions (e.g. HackerRank, CodeChef, TopCoder);Participated in a hackathon;Contributed to open source software',\n",
       "       'Participated in a full-time developer training program or bootcamp;Taken a part-time in-person course in programming or software development;Completed an industry certification program (e.g. MCPD)',\n",
       "       'Completed an industry certification program (e.g. MCPD);Taught yourself a new language, framework, or tool without taking a formal course;Participated in online coding competitions (e.g. HackerRank, CodeChef, TopCoder);Participated in a hackathon',\n",
       "       'Participated in a full-time developer training program or bootcamp;Completed an industry certification program (e.g. MCPD);Participated in a hackathon',\n",
       "       'Taken a part-time in-person course in programming or software development;Completed an industry certification program (e.g. MCPD);Taught yourself a new language, framework, or tool without taking a formal course;Participated in a hackathon;Contributed to open source software',\n",
       "       'Participated in a full-time developer training program or bootcamp;Taken a part-time in-person course in programming or software development;Taught yourself a new language, framework, or tool without taking a formal course;Participated in online coding competitions (e.g. HackerRank, CodeChef, TopCoder);Participated in a hackathon',\n",
       "       'Taken a part-time in-person course in programming or software development;Participated in online coding competitions (e.g. HackerRank, CodeChef, TopCoder);Contributed to open source software',\n",
       "       'Taken an online course in programming or software development (e.g. a MOOC);Participated in a full-time developer training program or bootcamp;Taken a part-time in-person course in programming or software development;Completed an industry certification program (e.g. MCPD);Received on-the-job training in software development;Participated in a hackathon;Contributed to open source software',\n",
       "       'Participated in a full-time developer training program or bootcamp;Taken a part-time in-person course in programming or software development;Received on-the-job training in software development;Taught yourself a new language, framework, or tool without taking a formal course;Contributed to open source software',\n",
       "       'Taken an online course in programming or software development (e.g. a MOOC);Participated in a full-time developer training program or bootcamp;Taken a part-time in-person course in programming or software development;Received on-the-job training in software development;Participated in a hackathon',\n",
       "       'Participated in a full-time developer training program or bootcamp;Taken a part-time in-person course in programming or software development;Received on-the-job training in software development;Taught yourself a new language, framework, or tool without taking a formal course;Participated in a hackathon',\n",
       "       'Taken an online course in programming or software development (e.g. a MOOC);Participated in a full-time developer training program or bootcamp;Taken a part-time in-person course in programming or software development;Completed an industry certification program (e.g. MCPD);Taught yourself a new language, framework, or tool without taking a formal course;Participated in online coding competitions (e.g. HackerRank, CodeChef, TopCoder)',\n",
       "       'Completed an industry certification program (e.g. MCPD);Participated in a hackathon;Contributed to open source software',\n",
       "       'Participated in a full-time developer training program or bootcamp;Taken a part-time in-person course in programming or software development;Completed an industry certification program (e.g. MCPD);Received on-the-job training in software development;Taught yourself a new language, framework, or tool without taking a formal course;Contributed to open source software',\n",
       "       'Participated in online coding competitions (e.g. HackerRank, CodeChef, TopCoder);Participated in a hackathon;Contributed to open source software',\n",
       "       'Participated in a full-time developer training program or bootcamp;Received on-the-job training in software development;Participated in a hackathon;Contributed to open source software',\n",
       "       'Taken an online course in programming or software development (e.g. a MOOC);Completed an industry certification program (e.g. MCPD);Participated in online coding competitions (e.g. HackerRank, CodeChef, TopCoder);Contributed to open source software',\n",
       "       'Participated in a full-time developer training program or bootcamp;Completed an industry certification program (e.g. MCPD);Received on-the-job training in software development;Participated in online coding competitions (e.g. HackerRank, CodeChef, TopCoder);Participated in a hackathon',\n",
       "       'Participated in a full-time developer training program or bootcamp;Taken a part-time in-person course in programming or software development;Completed an industry certification program (e.g. MCPD);Participated in online coding competitions (e.g. HackerRank, CodeChef, TopCoder);Participated in a hackathon',\n",
       "       'Completed an industry certification program (e.g. MCPD);Participated in online coding competitions (e.g. HackerRank, CodeChef, TopCoder);Contributed to open source software',\n",
       "       'Participated in a full-time developer training program or bootcamp;Completed an industry certification program (e.g. MCPD);Taught yourself a new language, framework, or tool without taking a formal course;Participated in online coding competitions (e.g. HackerRank, CodeChef, TopCoder);Participated in a hackathon',\n",
       "       'Taken an online course in programming or software development (e.g. a MOOC);Taken a part-time in-person course in programming or software development;Completed an industry certification program (e.g. MCPD);Received on-the-job training in software development;Participated in online coding competitions (e.g. HackerRank, CodeChef, TopCoder);Contributed to open source software',\n",
       "       'Taken an online course in programming or software development (e.g. a MOOC);Received on-the-job training in software development;Participated in online coding competitions (e.g. HackerRank, CodeChef, TopCoder);Participated in a hackathon;Contributed to open source software',\n",
       "       'Participated in a full-time developer training program or bootcamp;Taken a part-time in-person course in programming or software development;Completed an industry certification program (e.g. MCPD);Taught yourself a new language, framework, or tool without taking a formal course;Participated in a hackathon',\n",
       "       'Taken a part-time in-person course in programming or software development;Received on-the-job training in software development;Participated in a hackathon',\n",
       "       'Taken an online course in programming or software development (e.g. a MOOC);Participated in a full-time developer training program or bootcamp;Taken a part-time in-person course in programming or software development;Completed an industry certification program (e.g. MCPD);Received on-the-job training in software development;Participated in online coding competitions (e.g. HackerRank, CodeChef, TopCoder)',\n",
       "       'Participated in a full-time developer training program or bootcamp;Taken a part-time in-person course in programming or software development;Received on-the-job training in software development;Taught yourself a new language, framework, or tool without taking a formal course;Participated in online coding competitions (e.g. HackerRank, CodeChef, TopCoder);Participated in a hackathon',\n",
       "       'Taken an online course in programming or software development (e.g. a MOOC);Completed an industry certification program (e.g. MCPD);Received on-the-job training in software development;Participated in online coding competitions (e.g. HackerRank, CodeChef, TopCoder);Contributed to open source software',\n",
       "       'Taken an online course in programming or software development (e.g. a MOOC);Participated in a full-time developer training program or bootcamp;Taken a part-time in-person course in programming or software development;Completed an industry certification program (e.g. MCPD);Participated in online coding competitions (e.g. HackerRank, CodeChef, TopCoder);Participated in a hackathon',\n",
       "       'Taken an online course in programming or software development (e.g. a MOOC);Taken a part-time in-person course in programming or software development;Participated in online coding competitions (e.g. HackerRank, CodeChef, TopCoder);Contributed to open source software',\n",
       "       'Taken a part-time in-person course in programming or software development;Participated in online coding competitions (e.g. HackerRank, CodeChef, TopCoder);Participated in a hackathon;Contributed to open source software',\n",
       "       'Participated in a full-time developer training program or bootcamp;Received on-the-job training in software development;Participated in online coding competitions (e.g. HackerRank, CodeChef, TopCoder)',\n",
       "       'Participated in a full-time developer training program or bootcamp;Taken a part-time in-person course in programming or software development;Received on-the-job training in software development;Participated in a hackathon',\n",
       "       'Taken an online course in programming or software development (e.g. a MOOC);Participated in a full-time developer training program or bootcamp;Taken a part-time in-person course in programming or software development;Received on-the-job training in software development;Participated in online coding competitions (e.g. HackerRank, CodeChef, TopCoder)',\n",
       "       'Taken an online course in programming or software development (e.g. a MOOC);Participated in a full-time developer training program or bootcamp;Completed an industry certification program (e.g. MCPD);Received on-the-job training in software development;Participated in online coding competitions (e.g. HackerRank, CodeChef, TopCoder)',\n",
       "       'Participated in a full-time developer training program or bootcamp;Completed an industry certification program (e.g. MCPD);Received on-the-job training in software development;Taught yourself a new language, framework, or tool without taking a formal course;Participated in a hackathon',\n",
       "       'Participated in a full-time developer training program or bootcamp;Completed an industry certification program (e.g. MCPD);Taught yourself a new language, framework, or tool without taking a formal course;Participated in online coding competitions (e.g. HackerRank, CodeChef, TopCoder)',\n",
       "       'Taken an online course in programming or software development (e.g. a MOOC);Participated in a full-time developer training program or bootcamp;Received on-the-job training in software development;Participated in online coding competitions (e.g. HackerRank, CodeChef, TopCoder);Participated in a hackathon;Contributed to open source software',\n",
       "       'Taken an online course in programming or software development (e.g. a MOOC);Participated in a full-time developer training program or bootcamp;Completed an industry certification program (e.g. MCPD);Participated in online coding competitions (e.g. HackerRank, CodeChef, TopCoder)',\n",
       "       'Taken an online course in programming or software development (e.g. a MOOC);Received on-the-job training in software development;Participated in online coding competitions (e.g. HackerRank, CodeChef, TopCoder);Participated in a hackathon',\n",
       "       'Received on-the-job training in software development;Participated in online coding competitions (e.g. HackerRank, CodeChef, TopCoder);Participated in a hackathon;Contributed to open source software',\n",
       "       'Participated in a full-time developer training program or bootcamp;Taken a part-time in-person course in programming or software development;Participated in online coding competitions (e.g. HackerRank, CodeChef, TopCoder);Participated in a hackathon;Contributed to open source software',\n",
       "       'Taken a part-time in-person course in programming or software development;Received on-the-job training in software development;Contributed to open source software',\n",
       "       'Taken an online course in programming or software development (e.g. a MOOC);Participated in a full-time developer training program or bootcamp;Taken a part-time in-person course in programming or software development;Participated in online coding competitions (e.g. HackerRank, CodeChef, TopCoder);Contributed to open source software',\n",
       "       'Taken a part-time in-person course in programming or software development;Completed an industry certification program (e.g. MCPD);Received on-the-job training in software development;Taught yourself a new language, framework, or tool without taking a formal course;Participated in a hackathon',\n",
       "       'Participated in a full-time developer training program or bootcamp;Taken a part-time in-person course in programming or software development;Completed an industry certification program (e.g. MCPD);Taught yourself a new language, framework, or tool without taking a formal course;Participated in a hackathon;Contributed to open source software',\n",
       "       'Taken a part-time in-person course in programming or software development;Completed an industry certification program (e.g. MCPD);Taught yourself a new language, framework, or tool without taking a formal course;Participated in online coding competitions (e.g. HackerRank, CodeChef, TopCoder)',\n",
       "       'Taken a part-time in-person course in programming or software development;Completed an industry certification program (e.g. MCPD);Received on-the-job training in software development;Participated in online coding competitions (e.g. HackerRank, CodeChef, TopCoder);Participated in a hackathon;Contributed to open source software',\n",
       "       'Taken an online course in programming or software development (e.g. a MOOC);Taken a part-time in-person course in programming or software development;Received on-the-job training in software development;Participated in a hackathon;Contributed to open source software',\n",
       "       'Participated in a full-time developer training program or bootcamp;Taken a part-time in-person course in programming or software development;Completed an industry certification program (e.g. MCPD);Received on-the-job training in software development;Taught yourself a new language, framework, or tool without taking a formal course;Participated in a hackathon;Contributed to open source software',\n",
       "       'Taken an online course in programming or software development (e.g. a MOOC);Participated in a full-time developer training program or bootcamp;Completed an industry certification program (e.g. MCPD);Participated in a hackathon',\n",
       "       'Taken an online course in programming or software development (e.g. a MOOC);Taken a part-time in-person course in programming or software development;Received on-the-job training in software development;Participated in online coding competitions (e.g. HackerRank, CodeChef, TopCoder);Participated in a hackathon',\n",
       "       'Taken an online course in programming or software development (e.g. a MOOC);Taken a part-time in-person course in programming or software development;Completed an industry certification program (e.g. MCPD);Received on-the-job training in software development;Participated in online coding competitions (e.g. HackerRank, CodeChef, TopCoder)',\n",
       "       'Participated in a full-time developer training program or bootcamp;Taken a part-time in-person course in programming or software development;Received on-the-job training in software development;Participated in online coding competitions (e.g. HackerRank, CodeChef, TopCoder);Contributed to open source software',\n",
       "       'Taken an online course in programming or software development (e.g. a MOOC);Taken a part-time in-person course in programming or software development;Completed an industry certification program (e.g. MCPD);Participated in a hackathon;Contributed to open source software',\n",
       "       'Participated in a full-time developer training program or bootcamp;Participated in online coding competitions (e.g. HackerRank, CodeChef, TopCoder);Participated in a hackathon;Contributed to open source software',\n",
       "       'Participated in a full-time developer training program or bootcamp;Received on-the-job training in software development;Participated in online coding competitions (e.g. HackerRank, CodeChef, TopCoder);Participated in a hackathon',\n",
       "       'Taken an online course in programming or software development (e.g. a MOOC);Participated in a full-time developer training program or bootcamp;Completed an industry certification program (e.g. MCPD);Received on-the-job training in software development;Participated in online coding competitions (e.g. HackerRank, CodeChef, TopCoder);Participated in a hackathon;Contributed to open source software',\n",
       "       'Received on-the-job training in software development;Participated in online coding competitions (e.g. HackerRank, CodeChef, TopCoder);Contributed to open source software',\n",
       "       'Participated in a full-time developer training program or bootcamp;Completed an industry certification program (e.g. MCPD);Participated in a hackathon;Contributed to open source software',\n",
       "       'Taken an online course in programming or software development (e.g. a MOOC);Taken a part-time in-person course in programming or software development;Completed an industry certification program (e.g. MCPD);Contributed to open source software',\n",
       "       'Taken an online course in programming or software development (e.g. a MOOC);Participated in a full-time developer training program or bootcamp;Received on-the-job training in software development;Participated in online coding competitions (e.g. HackerRank, CodeChef, TopCoder);Participated in a hackathon',\n",
       "       'Participated in a full-time developer training program or bootcamp;Taken a part-time in-person course in programming or software development;Participated in a hackathon',\n",
       "       'Participated in a full-time developer training program or bootcamp;Taken a part-time in-person course in programming or software development;Completed an industry certification program (e.g. MCPD);Received on-the-job training in software development;Contributed to open source software',\n",
       "       'Taken an online course in programming or software development (e.g. a MOOC);Completed an industry certification program (e.g. MCPD);Participated in online coding competitions (e.g. HackerRank, CodeChef, TopCoder)',\n",
       "       'Participated in a full-time developer training program or bootcamp;Received on-the-job training in software development;Contributed to open source software',\n",
       "       'Participated in a full-time developer training program or bootcamp;Taken a part-time in-person course in programming or software development;Completed an industry certification program (e.g. MCPD);Received on-the-job training in software development;Taught yourself a new language, framework, or tool without taking a formal course;Participated in online coding competitions (e.g. HackerRank, CodeChef, TopCoder)',\n",
       "       'Participated in a full-time developer training program or bootcamp;Taken a part-time in-person course in programming or software development;Completed an industry certification program (e.g. MCPD);Taught yourself a new language, framework, or tool without taking a formal course;Participated in online coding competitions (e.g. HackerRank, CodeChef, TopCoder);Participated in a hackathon',\n",
       "       'Taken an online course in programming or software development (e.g. a MOOC);Participated in a full-time developer training program or bootcamp;Taken a part-time in-person course in programming or software development;Received on-the-job training in software development;Participated in a hackathon;Contributed to open source software'],\n",
       "      dtype=object)"
      ]
     },
     "execution_count": 50,
     "metadata": {},
     "output_type": "execute_result"
    }
   ],
   "source": [
    "survey_ds['EduOther'].unique()"
   ]
  },
  {
   "cell_type": "code",
   "execution_count": 51,
   "metadata": {},
   "outputs": [],
   "source": [
    "# Split EducationOther\n",
    "ed_other_ds = split_list(survey_ds, 'EduOther')\n",
    "ed_other_sd = split_list(survey_sd, 'EduOther')\n",
    "    \n",
    "# Simplify category labels\n",
    "def convert_ed_type(df):\n",
    "    \"\"\"Add a new field, EducationTypes_New, to dataframe, containing simplified EducationTypes values.\n",
    "    \n",
    "    Args:\n",
    "    df: dataframe. Dataframe containing the field EducationTypes.\n",
    "       \n",
    "    Returns:\n",
    "    df: dataframe. Modified version of the input dataframe containing a new field, EducationTypes_New.\n",
    "    \"\"\"\n",
    "    conditions_edtype = [(df['EduOther'] == 'Taken a part-time in-person course in programming or software development'),\n",
    "                         (df['EduOther'] == 'Taken an online course in programming or software development (e.g. a MOOC)'),\n",
    "                         (df['EduOther'] == 'Completed an industry certification program (e.g. MCPD)'),\n",
    "                         (df['EduOther'] == 'Participated in online coding competitions (e.g. HackerRank, CodeChef, TopCoder)'),\n",
    "                         (df['EduOther'] == 'Contributed to open source software'), \n",
    "                         (df['EduOther'] == 'Taught yourself a new language, framework, or tool without taking a formal course'),\n",
    "                         (df['EduOther'] == 'Participated in a hackathon'),\n",
    "                         (df['EduOther'] == 'Received on-the-job training in software development'),\n",
    "                         (df['EduOther'] == 'Participated in a full-time developer training program or bootcamp')]  \n",
    "    \n",
    "    choices_edtype = ['Part Time In-Person Course', 'Online Course', 'Industry Certification', \n",
    "                      'Online Coding Competition', 'Open Source', 'Self Taught',\n",
    "                      'Hackathon', 'On-the-Job Training', 'Full Time Course/Bootcamp']\n",
    "\n",
    "    df['EducationTypes_New'] = np.select(conditions_edtype, choices_edtype, default = np.NaN)\n",
    "    \n",
    "    return df\n",
    "\n",
    "ed_other_ds = convert_ed_type(ed_other_ds)\n",
    "ed_other_sd = convert_ed_type(ed_other_sd)"
   ]
  },
  {
   "cell_type": "code",
   "execution_count": 52,
   "metadata": {},
   "outputs": [],
   "source": [
    "# Split LanguageWorkedWith\n",
    "languages_ds = split_list(survey_ds, 'LanguageWorkedWith')\n",
    "languages_sd = split_list(survey_sd, 'LanguageWorkedWith')"
   ]
  },
  {
   "cell_type": "code",
   "execution_count": 53,
   "metadata": {
    "scrolled": true
   },
   "outputs": [
    {
     "data": {
      "text/plain": [
       "array(['C++;HTML/CSS;Python', 'HTML/CSS', 'C;C++;C#;Python;SQL', ...,\n",
       "       'Assembly;Bash/Shell/PowerShell;C;C++;C#;HTML/CSS;Java;JavaScript;Objective-C;PHP;Python;R;SQL;Swift;Other(s):',\n",
       "       'Bash/Shell/PowerShell;Elixir;Go;HTML/CSS;JavaScript;Python;Rust;SQL;TypeScript',\n",
       "       'Go;HTML/CSS;Java;JavaScript;Kotlin;Python;Swift;TypeScript'],\n",
       "      dtype=object)"
      ]
     },
     "execution_count": 53,
     "metadata": {},
     "output_type": "execute_result"
    }
   ],
   "source": [
    "survey_sd['LanguageWorkedWith'].unique()"
   ]
  },
  {
   "cell_type": "code",
   "execution_count": 54,
   "metadata": {},
   "outputs": [],
   "source": [
    "# Compare the distribution of the two subsets for specified column\n",
    "# Get proportion of dataset by category\n",
    "def get_proportions(df, col, index_order = None, drop = True, multi = False):\n",
    "    \"\"\"Calculate the proportion of all observations in a given dataframe for each value of the selected \n",
    "    field (excl. missing values)\n",
    "    \n",
    "    Args:\n",
    "    df: dataframe. Dataframe to be summarized.\n",
    "    col: string. Column in df to be summarized.\n",
    "    drop: boolean. Drop 'nan' values.\n",
    "    multi: boolean. If True then multiple observations are possible for single respondent.\n",
    "       \n",
    "    Returns:\n",
    "    props: dataframe. Summary dataframe giving the proportion of all observations by col value (excluding missing values).\n",
    "    \"\"\"\n",
    "    # Summarize by column value\n",
    "    summary = df[['Respondent', col]].groupby([col]).count()\n",
    "    \n",
    "    # Drop NaN values\n",
    "    if drop:\n",
    "        summary = summary.drop('nan')\n",
    "\n",
    "    # Convert sums to proportions\n",
    "    if multi:\n",
    "        props = summary/df['Respondent'].nunique()\n",
    "    \n",
    "    else:\n",
    "        props = summary/summary['Respondent'].sum()\n",
    "        \n",
    "    \n",
    "    # Sort rows in order specified\n",
    "    if index_order != None:\n",
    "        props = props.reindex(index_order)\n",
    "        \n",
    "    # Convert index into column\n",
    "    # Code reference: https://stackoverflow.com/questions/20461165/how-to-convert-pandas-index-in-a-dataframe-to-a-column\n",
    "    props.reset_index(level=0, inplace=True)\n",
    "    \n",
    "    return props\n",
    "\n",
    "# Create summary dataset for comparing the two subsets\n",
    "def create_summary(df_ds, df_non_ds, col, index_order = None, drop = True, multi = False):\n",
    "    \"\"\"Create summary dataframe giving the proportion of all observations for each value of the selected field (excl. \n",
    "    missing values), for data scientists and non-data scientists.\n",
    "    \n",
    "    Args:\n",
    "    df_ds: dataframe. Data scientist dataframe to be summarized.\n",
    "    df_non_ds: dataframe. Non-data scientist dataframe to be summarized.\n",
    "    col: string. Column to be summarized.\n",
    "    index_order: list. List giving order in which categories should be sorted.\n",
    "    drop: boolean. Drop 'nan' values .\n",
    "    multi: boolean. If true then multiple observations are possible for single respondent.\n",
    "       \n",
    "    Returns:\n",
    "    out_df: dataframe. Summary dataframe giving the proportion of data scientist and non-data scientist \n",
    "            observations by col value.\n",
    "    \"\"\"    \n",
    "    # Get proportions for each subset\n",
    "    props_ds = get_proportions(df_ds, col, index_order, drop, multi)\n",
    "    props_sd = get_proportions(df_sd, col, index_order, drop, multi)\n",
    "    \n",
    "    # Rename respondent column\n",
    "    props_ds = props_ds.rename(columns = {'Respondent':'Data Scientists'})\n",
    "    props_sd = props_sd.rename(columns = {'Respondent':'Software Developers'})\n",
    "    \n",
    "    # Merge dataframes\n",
    "    props_all = pd.merge(props_sd, props_ds, how = 'outer', on = col)\n",
    "    \n",
    "    # Replace any missing values with zeros\n",
    "    props_all = props_all.fillna(0)\n",
    "\n",
    "    return props_all"
   ]
  },
  {
   "cell_type": "markdown",
   "metadata": {},
   "source": [
    "### Function to create a bar plot to explore answers to our questions~"
   ]
  },
  {
   "cell_type": "code",
   "execution_count": 55,
   "metadata": {},
   "outputs": [],
   "source": [
    "# Create comparison plot\n",
    "def create_bar_plot(df, col, x_lab, title, rot = 0):\n",
    "    \"\"\"Plot summary dataframe\n",
    "    \n",
    "    Args:\n",
    "    df: dataframe. Summary dataframe for plotting.\n",
    "    col: string. Column containing class labels.\n",
    "    x_lab: string. X-axis label.\n",
    "    title: string. Plot title.\n",
    "    rot: int or float. X-axis label rotation angle.\n",
    "       \n",
    "    Returns:\n",
    "    None\n",
    "    \"\"\"    \n",
    "    # Change df to long form\n",
    "    long = pd.melt(df, id_vars=col, var_name='DevType', value_name='Proportion')\n",
    "    \n",
    "    # Create plot\n",
    "    sns.factorplot(x=col, y='Proportion', hue='DevType', data=long, kind='bar', legend = True, color='maroon');\n",
    "    \n",
    "    # Set plot labels\n",
    "    plt.xlabel(x_lab)\n",
    "    plt.title(title)\n",
    "    \n",
    "    \n",
    "    plt.xticks(rotation=rot)"
   ]
  },
  {
   "cell_type": "markdown",
   "metadata": {},
   "source": [
    "# ** Demographic Profile: Data Scientists vs Software Developers*"
   ]
  },
  {
   "cell_type": "code",
   "execution_count": 56,
   "metadata": {},
   "outputs": [
    {
     "name": "stdout",
     "output_type": "stream",
     "text": [
      "  Gender_New  Software Developers  Data Scientists\n",
      "0     Female             0.069423          0.06263\n",
      "1       Male             0.918443          0.92210\n",
      "2      Other             0.012135          0.01527\n"
     ]
    }
   ],
   "source": [
    "# Create summary dataframe\n",
    "gender_props = create_summary(survey_ds, survey_sd, 'Gender_New')\n",
    "\n",
    "print(gender_props)"
   ]
  },
  {
   "cell_type": "code",
   "execution_count": 57,
   "metadata": {},
   "outputs": [
    {
     "data": {
      "image/png": "[encoded data removed]",
      "text/plain": [
       "<Figure size 499.875x360 with 1 Axes>"
      ]
     },
     "metadata": {
      "needs_background": "light"
     },
     "output_type": "display_data"
    }
   ],
   "source": [
    "# Create comparison plot\n",
    "create_bar_plot(gender_props, 'Gender_New', 'Gender', 'Gender Distribution')"
   ]
  },
  {
   "cell_type": "code",
   "execution_count": 58,
   "metadata": {},
   "outputs": [
    {
     "name": "stdout",
     "output_type": "stream",
     "text": [
      "  FormalEducation_New  Software Developers  Data Scientists\n",
      "0           No Degree             0.212562         0.215520\n",
      "1           Associate             0.035420         0.036028\n",
      "2           Bachelors             0.488606         0.414057\n",
      "3             Masters             0.229498         0.260923\n",
      "4           Doctorate             0.019820         0.056253\n",
      "5        Professional             0.014095         0.017218\n"
     ]
    }
   ],
   "source": [
    "# Create summary dataframe\n",
    "ed_props = create_summary(survey_ds, survey_sd, 'FormalEducation_New', index_order = ['No Degree',\n",
    "            'Associate', 'Bachelors', 'Masters', 'Doctorate', 'Professional'])\n",
    "\n",
    "print(ed_props)"
   ]
  },
  {
   "cell_type": "code",
   "execution_count": 59,
   "metadata": {},
   "outputs": [
    {
     "data": {
      "image/png": "[encoded data removed]",
      "text/plain": [
       "<Figure size 499.875x360 with 1 Axes>"
      ]
     },
     "metadata": {
      "needs_background": "light"
     },
     "output_type": "display_data"
    }
   ],
   "source": [
    "# Create comparison plot\n",
    "create_bar_plot(ed_props, 'FormalEducation_New', 'Highest Degree Level', 'Higher Education', \n",
    "                rot = 45)"
   ]
  },
  {
   "cell_type": "code",
   "execution_count": 60,
   "metadata": {},
   "outputs": [
    {
     "name": "stdout",
     "output_type": "stream",
     "text": [
      "               UndergradMajor_New  Software Developers  Data Scientists\n",
      "0  Arts/Humanities/Social Science             0.051739         0.056464\n",
      "1                        Business             0.021685         0.037466\n",
      "2                Computer Science             0.659779         0.562388\n",
      "3                     Engineering             0.078213         0.081221\n",
      "4                 IT/Info Systems             0.069498         0.081684\n",
      "5                 Math/Statistics             0.031609         0.071556\n",
      "6                   Other Science             0.037623         0.073343\n",
      "7          Web Design/Development             0.049855         0.035877\n"
     ]
    }
   ],
   "source": [
    "# Create summary dataframe\n",
    "major_props = create_summary(survey_ds, survey_sd, 'UndergradMajor_New')\n",
    "\n",
    "print(major_props)"
   ]
  },
  {
   "cell_type": "code",
   "execution_count": 61,
   "metadata": {},
   "outputs": [
    {
     "data": {
      "image/png": "[encoded data removed]",
      "text/plain": [
       "<Figure size 499.875x360 with 1 Axes>"
      ]
     },
     "metadata": {
      "needs_background": "light"
     },
     "output_type": "display_data"
    }
   ],
   "source": [
    "# Create comparison plot\n",
    "create_bar_plot(major_props, 'UndergradMajor_New', 'Undergraduate Major', 'Undergraduate Major Distribution', \n",
    "                rot = 70)"
   ]
  },
  {
   "cell_type": "code",
   "execution_count": 95,
   "metadata": {},
   "outputs": [],
   "source": [
    "ds_source=ed_other_ds.rename(columns={'EducationTypes_New':'Source of Education'})\n",
    "sd_source=ed_other_sd.rename(columns={'EducationTypes_New':'Source of Education'})"
   ]
  },
  {
   "cell_type": "code",
   "execution_count": 96,
   "metadata": {},
   "outputs": [
    {
     "data": {
      "text/html": [
       "<style  type=\"text/css\" >\n",
       "    #T_749f463e_b322_11ea_9d2e_30d16be382e8row0_col3 {\n",
       "            width:  10em;\n",
       "             height:  80%;\n",
       "            background:  linear-gradient(90deg, transparent 19.3%, #5fba7d 19.3%, #5fba7d 31.7%, transparent 31.7%);\n",
       "        }    #T_749f463e_b322_11ea_9d2e_30d16be382e8row1_col3 {\n",
       "            width:  10em;\n",
       "             height:  80%;\n",
       "            background:  linear-gradient(90deg, transparent 4.3%, #d65f5f 4.3%, #d65f5f 19.3%, transparent 19.3%);\n",
       "        }    #T_749f463e_b322_11ea_9d2e_30d16be382e8row2_col3 {\n",
       "            width:  10em;\n",
       "             height:  80%;\n",
       "            background:  linear-gradient(90deg, transparent 19.3%, #5fba7d 19.3%, #5fba7d 64.5%, transparent 64.5%);\n",
       "        }    #T_749f463e_b322_11ea_9d2e_30d16be382e8row3_col3 {\n",
       "            width:  10em;\n",
       "             height:  80%;\n",
       "            background:  linear-gradient(90deg,#d65f5f 19.3%, transparent 19.3%);\n",
       "        }    #T_749f463e_b322_11ea_9d2e_30d16be382e8row4_col3 {\n",
       "            width:  10em;\n",
       "             height:  80%;\n",
       "            background:  linear-gradient(90deg, transparent 17.0%, #d65f5f 17.0%, #d65f5f 19.3%, transparent 19.3%);\n",
       "        }    #T_749f463e_b322_11ea_9d2e_30d16be382e8row5_col3 {\n",
       "            width:  10em;\n",
       "             height:  80%;\n",
       "            background:  linear-gradient(90deg, transparent 19.3%, #5fba7d 19.3%, #5fba7d 100.0%, transparent 100.0%);\n",
       "        }    #T_749f463e_b322_11ea_9d2e_30d16be382e8row6_col3 {\n",
       "            width:  10em;\n",
       "             height:  80%;\n",
       "            background:  linear-gradient(90deg, transparent 19.3%, #5fba7d 19.3%, #5fba7d 60.0%, transparent 60.0%);\n",
       "        }    #T_749f463e_b322_11ea_9d2e_30d16be382e8row7_col3 {\n",
       "            width:  10em;\n",
       "             height:  80%;\n",
       "            background:  linear-gradient(90deg, transparent 19.3%, #5fba7d 19.3%, #5fba7d 84.4%, transparent 84.4%);\n",
       "        }    #T_749f463e_b322_11ea_9d2e_30d16be382e8row8_col3 {\n",
       "            width:  10em;\n",
       "             height:  80%;\n",
       "            background:  linear-gradient(90deg, transparent 19.3%, #5fba7d 19.3%, #5fba7d 48.3%, transparent 48.3%);\n",
       "        }</style><table id=\"T_749f463e_b322_11ea_9d2e_30d16be382e8\" ><thead>    <tr>        <th class=\"blank level0\" ></th>        <th class=\"col_heading level0 col0\" >Source of Education</th>        <th class=\"col_heading level0 col1\" >Software Developers</th>        <th class=\"col_heading level0 col2\" >Data Scientists</th>        <th class=\"col_heading level0 col3\" >Difference</th>    </tr></thead><tbody>\n",
       "                <tr>\n",
       "                        <th id=\"T_749f463e_b322_11ea_9d2e_30d16be382e8level0_row0\" class=\"row_heading level0 row0\" >0</th>\n",
       "                        <td id=\"T_749f463e_b322_11ea_9d2e_30d16be382e8row0_col0\" class=\"data row0 col0\" >Full Time Course/Bootcamp</td>\n",
       "                        <td id=\"T_749f463e_b322_11ea_9d2e_30d16be382e8row0_col1\" class=\"data row0 col1\" >0.164458</td>\n",
       "                        <td id=\"T_749f463e_b322_11ea_9d2e_30d16be382e8row0_col2\" class=\"data row0 col2\" >0.171565</td>\n",
       "                        <td id=\"T_749f463e_b322_11ea_9d2e_30d16be382e8row0_col3\" class=\"data row0 col3\" >0.007107</td>\n",
       "            </tr>\n",
       "            <tr>\n",
       "                        <th id=\"T_749f463e_b322_11ea_9d2e_30d16be382e8level0_row1\" class=\"row_heading level0 row1\" >1</th>\n",
       "                        <td id=\"T_749f463e_b322_11ea_9d2e_30d16be382e8row1_col0\" class=\"data row1 col0\" >Hackathon</td>\n",
       "                        <td id=\"T_749f463e_b322_11ea_9d2e_30d16be382e8row1_col1\" class=\"data row1 col1\" >0.270694</td>\n",
       "                        <td id=\"T_749f463e_b322_11ea_9d2e_30d16be382e8row1_col2\" class=\"data row1 col2\" >0.262116</td>\n",
       "                        <td id=\"T_749f463e_b322_11ea_9d2e_30d16be382e8row1_col3\" class=\"data row1 col3\" >-0.008578</td>\n",
       "            </tr>\n",
       "            <tr>\n",
       "                        <th id=\"T_749f463e_b322_11ea_9d2e_30d16be382e8level0_row2\" class=\"row_heading level0 row2\" >2</th>\n",
       "                        <td id=\"T_749f463e_b322_11ea_9d2e_30d16be382e8row2_col0\" class=\"data row2 col0\" >Industry Certification</td>\n",
       "                        <td id=\"T_749f463e_b322_11ea_9d2e_30d16be382e8row2_col1\" class=\"data row2 col1\" >0.159901</td>\n",
       "                        <td id=\"T_749f463e_b322_11ea_9d2e_30d16be382e8row2_col2\" class=\"data row2 col2\" >0.185812</td>\n",
       "                        <td id=\"T_749f463e_b322_11ea_9d2e_30d16be382e8row2_col3\" class=\"data row2 col3\" >0.025912</td>\n",
       "            </tr>\n",
       "            <tr>\n",
       "                        <th id=\"T_749f463e_b322_11ea_9d2e_30d16be382e8level0_row3\" class=\"row_heading level0 row3\" >3</th>\n",
       "                        <td id=\"T_749f463e_b322_11ea_9d2e_30d16be382e8row3_col0\" class=\"data row3 col0\" >On-the-Job Training</td>\n",
       "                        <td id=\"T_749f463e_b322_11ea_9d2e_30d16be382e8row3_col1\" class=\"data row3 col1\" >0.424226</td>\n",
       "                        <td id=\"T_749f463e_b322_11ea_9d2e_30d16be382e8row3_col2\" class=\"data row3 col2\" >0.413174</td>\n",
       "                        <td id=\"T_749f463e_b322_11ea_9d2e_30d16be382e8row3_col3\" class=\"data row3 col3\" >-0.011052</td>\n",
       "            </tr>\n",
       "            <tr>\n",
       "                        <th id=\"T_749f463e_b322_11ea_9d2e_30d16be382e8level0_row4\" class=\"row_heading level0 row4\" >4</th>\n",
       "                        <td id=\"T_749f463e_b322_11ea_9d2e_30d16be382e8row4_col0\" class=\"data row4 col0\" >Online Coding Competition</td>\n",
       "                        <td id=\"T_749f463e_b322_11ea_9d2e_30d16be382e8row4_col1\" class=\"data row4 col1\" >0.261536</td>\n",
       "                        <td id=\"T_749f463e_b322_11ea_9d2e_30d16be382e8row4_col2\" class=\"data row4 col2\" >0.260209</td>\n",
       "                        <td id=\"T_749f463e_b322_11ea_9d2e_30d16be382e8row4_col3\" class=\"data row4 col3\" >-0.001328</td>\n",
       "            </tr>\n",
       "            <tr>\n",
       "                        <th id=\"T_749f463e_b322_11ea_9d2e_30d16be382e8level0_row5\" class=\"row_heading level0 row5\" >5</th>\n",
       "                        <td id=\"T_749f463e_b322_11ea_9d2e_30d16be382e8row5_col0\" class=\"data row5 col0\" >Online Course</td>\n",
       "                        <td id=\"T_749f463e_b322_11ea_9d2e_30d16be382e8row5_col1\" class=\"data row5 col1\" >0.600572</td>\n",
       "                        <td id=\"T_749f463e_b322_11ea_9d2e_30d16be382e8row5_col2\" class=\"data row5 col2\" >0.646855</td>\n",
       "                        <td id=\"T_749f463e_b322_11ea_9d2e_30d16be382e8row5_col3\" class=\"data row5 col3\" >0.046283</td>\n",
       "            </tr>\n",
       "            <tr>\n",
       "                        <th id=\"T_749f463e_b322_11ea_9d2e_30d16be382e8level0_row6\" class=\"row_heading level0 row6\" >6</th>\n",
       "                        <td id=\"T_749f463e_b322_11ea_9d2e_30d16be382e8row6_col0\" class=\"data row6 col0\" >Open Source</td>\n",
       "                        <td id=\"T_749f463e_b322_11ea_9d2e_30d16be382e8row6_col1\" class=\"data row6 col1\" >0.422544</td>\n",
       "                        <td id=\"T_749f463e_b322_11ea_9d2e_30d16be382e8row6_col2\" class=\"data row6 col2\" >0.445902</td>\n",
       "                        <td id=\"T_749f463e_b322_11ea_9d2e_30d16be382e8row6_col3\" class=\"data row6 col3\" >0.023358</td>\n",
       "            </tr>\n",
       "            <tr>\n",
       "                        <th id=\"T_749f463e_b322_11ea_9d2e_30d16be382e8level0_row7\" class=\"row_heading level0 row7\" >7</th>\n",
       "                        <td id=\"T_749f463e_b322_11ea_9d2e_30d16be382e8row7_col0\" class=\"data row7 col0\" >Part Time In-Person Course</td>\n",
       "                        <td id=\"T_749f463e_b322_11ea_9d2e_30d16be382e8row7_col1\" class=\"data row7 col1\" >0.190434</td>\n",
       "                        <td id=\"T_749f463e_b322_11ea_9d2e_30d16be382e8row7_col2\" class=\"data row7 col2\" >0.227779</td>\n",
       "                        <td id=\"T_749f463e_b322_11ea_9d2e_30d16be382e8row7_col3\" class=\"data row7 col3\" >0.037345</td>\n",
       "            </tr>\n",
       "            <tr>\n",
       "                        <th id=\"T_749f463e_b322_11ea_9d2e_30d16be382e8level0_row8\" class=\"row_heading level0 row8\" >8</th>\n",
       "                        <td id=\"T_749f463e_b322_11ea_9d2e_30d16be382e8row8_col0\" class=\"data row8 col0\" >Self Taught</td>\n",
       "                        <td id=\"T_749f463e_b322_11ea_9d2e_30d16be382e8row8_col1\" class=\"data row8 col1\" >0.860628</td>\n",
       "                        <td id=\"T_749f463e_b322_11ea_9d2e_30d16be382e8row8_col2\" class=\"data row8 col2\" >0.877258</td>\n",
       "                        <td id=\"T_749f463e_b322_11ea_9d2e_30d16be382e8row8_col3\" class=\"data row8 col3\" >0.016630</td>\n",
       "            </tr>\n",
       "    </tbody></table>"
      ],
      "text/plain": [
       "<pandas.io.formats.style.Styler at 0x20229aca508>"
      ]
     },
     "execution_count": 96,
     "metadata": {},
     "output_type": "execute_result"
    }
   ],
   "source": [
    "# Create summary dataframe\n",
    "ed_types_props = create_summary(ds_source, sd_source, 'Source of Education', drop = False, multi = True)\n",
    "\n",
    "# Create difference plot\n",
    "ed_types_props['Difference'] = ed_types_props['Data Scientists'] - ed_types_props['Software Developers']\n",
    "ed_types_props.style.bar(subset = ['Difference'], align = 'mid', color = ['#d65f5f', '#5fba7d'])"
   ]
  },
  {
   "cell_type": "markdown",
   "metadata": {},
   "source": [
    "The most popular education method among both data scientists and software developers is self teaching, followed by taking an online course and participating in an open source project. However, we can see from the comparison table that data scientists are more oriented towards external sources of knowledge. Industry certification, online courses and part time courses have  gained traction. This demonstrates the trend people all over the world are following when diving into the field of data science."
   ]
  },
  {
   "cell_type": "markdown",
   "metadata": {},
   "source": [
    "# ** Which programming languages do data scientists favour and is there any overlap with software developers?*"
   ]
  },
  {
   "cell_type": "code",
   "execution_count": 63,
   "metadata": {},
   "outputs": [
    {
     "data": {
      "text/html": [
       "<style  type=\"text/css\" >\n",
       "    #T_9b397ad8_b321_11ea_8468_30d16be382e8row0_col3 {\n",
       "            width:  10em;\n",
       "             height:  80%;\n",
       "            background:  linear-gradient(90deg, transparent 26.3%, #5fba7d 26.3%, #5fba7d 31.8%, transparent 31.8%);\n",
       "        }    #T_9b397ad8_b321_11ea_8468_30d16be382e8row1_col3 {\n",
       "            width:  10em;\n",
       "             height:  80%;\n",
       "            background:  linear-gradient(90deg, transparent 26.3%, #5fba7d 26.3%, #5fba7d 56.3%, transparent 56.3%);\n",
       "        }    #T_9b397ad8_b321_11ea_8468_30d16be382e8row2_col3 {\n",
       "            width:  10em;\n",
       "             height:  80%;\n",
       "            background:  linear-gradient(90deg, transparent 26.3%, #5fba7d 26.3%, #5fba7d 34.6%, transparent 34.6%);\n",
       "        }    #T_9b397ad8_b321_11ea_8468_30d16be382e8row3_col3 {\n",
       "            width:  10em;\n",
       "             height:  80%;\n",
       "            background:  linear-gradient(90deg, transparent 24.4%, #d65f5f 24.4%, #d65f5f 26.3%, transparent 26.3%);\n",
       "        }    #T_9b397ad8_b321_11ea_8468_30d16be382e8row4_col3 {\n",
       "            width:  10em;\n",
       "             height:  80%;\n",
       "            background:  linear-gradient(90deg, transparent 26.3%, #5fba7d 26.3%, #5fba7d 36.9%, transparent 36.9%);\n",
       "        }    #T_9b397ad8_b321_11ea_8468_30d16be382e8row5_col3 {\n",
       "            width:  10em;\n",
       "             height:  80%;\n",
       "            background:  linear-gradient(90deg, transparent 26.3%, #5fba7d 26.3%, #5fba7d 26.5%, transparent 26.5%);\n",
       "        }    #T_9b397ad8_b321_11ea_8468_30d16be382e8row6_col3 {\n",
       "            width:  10em;\n",
       "             height:  80%;\n",
       "            background:  linear-gradient(90deg, transparent 25.5%, #d65f5f 25.5%, #d65f5f 26.3%, transparent 26.3%);\n",
       "        }    #T_9b397ad8_b321_11ea_8468_30d16be382e8row7_col3 {\n",
       "            width:  10em;\n",
       "             height:  80%;\n",
       "            background:  linear-gradient(90deg, transparent 26.3%, #5fba7d 26.3%, #5fba7d 26.4%, transparent 26.4%);\n",
       "        }    #T_9b397ad8_b321_11ea_8468_30d16be382e8row8_col3 {\n",
       "            width:  10em;\n",
       "             height:  80%;\n",
       "            background:  linear-gradient(90deg, transparent 26.3%, #5fba7d 26.3%, #5fba7d 27.5%, transparent 27.5%);\n",
       "        }    #T_9b397ad8_b321_11ea_8468_30d16be382e8row9_col3 {\n",
       "            width:  10em;\n",
       "             height:  80%;\n",
       "            background:  linear-gradient(90deg, transparent 26.3%, #5fba7d 26.3%, #5fba7d 27.0%, transparent 27.0%);\n",
       "        }    #T_9b397ad8_b321_11ea_8468_30d16be382e8row10_col3 {\n",
       "            width:  10em;\n",
       "             height:  80%;\n",
       "            background:  linear-gradient(90deg, transparent 26.3%, #5fba7d 26.3%, #5fba7d 26.8%, transparent 26.8%);\n",
       "        }    #T_9b397ad8_b321_11ea_8468_30d16be382e8row11_col3 {\n",
       "            width:  10em;\n",
       "             height:  80%;\n",
       "            background:  linear-gradient(90deg, transparent 21.7%, #d65f5f 21.7%, #d65f5f 26.3%, transparent 26.3%);\n",
       "        }    #T_9b397ad8_b321_11ea_8468_30d16be382e8row12_col3 {\n",
       "            width:  10em;\n",
       "             height:  80%;\n",
       "            background:  linear-gradient(90deg, transparent 7.0%, #d65f5f 7.0%, #d65f5f 26.3%, transparent 26.3%);\n",
       "        }    #T_9b397ad8_b321_11ea_8468_30d16be382e8row13_col3 {\n",
       "            width:  10em;\n",
       "             height:  80%;\n",
       "            background:  linear-gradient(90deg, transparent 0.1%, #d65f5f 0.1%, #d65f5f 26.3%, transparent 26.3%);\n",
       "        }    #T_9b397ad8_b321_11ea_8468_30d16be382e8row14_col3 {\n",
       "            width:  10em;\n",
       "             height:  80%;\n",
       "            background:  linear-gradient(90deg, transparent 15.8%, #d65f5f 15.8%, #d65f5f 26.3%, transparent 26.3%);\n",
       "        }    #T_9b397ad8_b321_11ea_8468_30d16be382e8row15_col3 {\n",
       "            width:  10em;\n",
       "             height:  80%;\n",
       "            background:  linear-gradient(90deg, transparent 20.8%, #d65f5f 20.8%, #d65f5f 26.3%, transparent 26.3%);\n",
       "        }    #T_9b397ad8_b321_11ea_8468_30d16be382e8row16_col3 {\n",
       "            width:  10em;\n",
       "             height:  80%;\n",
       "            background:  linear-gradient(90deg, transparent 26.3%, #5fba7d 26.3%, #5fba7d 39.0%, transparent 39.0%);\n",
       "        }    #T_9b397ad8_b321_11ea_8468_30d16be382e8row17_col3 {\n",
       "            width:  10em;\n",
       "             height:  80%;\n",
       "            background:  linear-gradient(90deg, transparent 26.3%, #5fba7d 26.3%, #5fba7d 44.0%, transparent 44.0%);\n",
       "        }    #T_9b397ad8_b321_11ea_8468_30d16be382e8row18_col3 {\n",
       "            width:  10em;\n",
       "             height:  80%;\n",
       "            background:  linear-gradient(90deg, transparent 26.3%, #5fba7d 26.3%, #5fba7d 100.0%, transparent 100.0%);\n",
       "        }    #T_9b397ad8_b321_11ea_8468_30d16be382e8row19_col3 {\n",
       "            width:  10em;\n",
       "             height:  80%;\n",
       "            background:  linear-gradient(90deg, transparent 26.3%, #5fba7d 26.3%, #5fba7d 77.7%, transparent 77.7%);\n",
       "        }    #T_9b397ad8_b321_11ea_8468_30d16be382e8row20_col3 {\n",
       "            width:  10em;\n",
       "             height:  80%;\n",
       "            background:  linear-gradient(90deg, transparent 19.7%, #d65f5f 19.7%, #d65f5f 26.3%, transparent 26.3%);\n",
       "        }    #T_9b397ad8_b321_11ea_8468_30d16be382e8row21_col3 {\n",
       "            width:  10em;\n",
       "             height:  80%;\n",
       "            background:  linear-gradient(90deg, transparent 25.9%, #d65f5f 25.9%, #d65f5f 26.3%, transparent 26.3%);\n",
       "        }    #T_9b397ad8_b321_11ea_8468_30d16be382e8row22_col3 {\n",
       "            width:  10em;\n",
       "             height:  80%;\n",
       "            background:  linear-gradient(90deg, transparent 26.3%, #5fba7d 26.3%, #5fba7d 90.8%, transparent 90.8%);\n",
       "        }    #T_9b397ad8_b321_11ea_8468_30d16be382e8row23_col3 {\n",
       "            width:  10em;\n",
       "             height:  80%;\n",
       "            background:  linear-gradient(90deg, transparent 26.3%, #5fba7d 26.3%, #5fba7d 32.3%, transparent 32.3%);\n",
       "        }    #T_9b397ad8_b321_11ea_8468_30d16be382e8row24_col3 {\n",
       "            width:  10em;\n",
       "             height:  80%;\n",
       "            background:  linear-gradient(90deg, transparent 17.7%, #d65f5f 17.7%, #d65f5f 26.3%, transparent 26.3%);\n",
       "        }    #T_9b397ad8_b321_11ea_8468_30d16be382e8row25_col3 {\n",
       "            width:  10em;\n",
       "             height:  80%;\n",
       "            background:  linear-gradient(90deg,#d65f5f 26.3%, transparent 26.3%);\n",
       "        }    #T_9b397ad8_b321_11ea_8468_30d16be382e8row26_col3 {\n",
       "            width:  10em;\n",
       "             height:  80%;\n",
       "            background:  linear-gradient(90deg, transparent 26.3%, #5fba7d 26.3%, #5fba7d 52.1%, transparent 52.1%);\n",
       "        }    #T_9b397ad8_b321_11ea_8468_30d16be382e8row27_col3 {\n",
       "            width:  10em;\n",
       "             height:  80%;\n",
       "            background:  linear-gradient(90deg, transparent 26.3%, #5fba7d 26.3%, #5fba7d 28.1%, transparent 28.1%);\n",
       "        }</style><table id=\"T_9b397ad8_b321_11ea_8468_30d16be382e8\" ><thead>    <tr>        <th class=\"blank level0\" ></th>        <th class=\"col_heading level0 col0\" >LanguageWorkedWith</th>        <th class=\"col_heading level0 col1\" >Software Developers</th>        <th class=\"col_heading level0 col2\" >Data Scientists</th>        <th class=\"col_heading level0 col3\" >Diff</th>    </tr></thead><tbody>\n",
       "                <tr>\n",
       "                        <th id=\"T_9b397ad8_b321_11ea_8468_30d16be382e8level0_row0\" class=\"row_heading level0 row0\" >0</th>\n",
       "                        <td id=\"T_9b397ad8_b321_11ea_8468_30d16be382e8row0_col0\" class=\"data row0 col0\" >Assembly</td>\n",
       "                        <td id=\"T_9b397ad8_b321_11ea_8468_30d16be382e8row0_col1\" class=\"data row0 col1\" >0.057081</td>\n",
       "                        <td id=\"T_9b397ad8_b321_11ea_8468_30d16be382e8row0_col2\" class=\"data row0 col2\" >0.069900</td>\n",
       "                        <td id=\"T_9b397ad8_b321_11ea_8468_30d16be382e8row0_col3\" class=\"data row0 col3\" >0.012819</td>\n",
       "            </tr>\n",
       "            <tr>\n",
       "                        <th id=\"T_9b397ad8_b321_11ea_8468_30d16be382e8level0_row1\" class=\"row_heading level0 row1\" >1</th>\n",
       "                        <td id=\"T_9b397ad8_b321_11ea_8468_30d16be382e8row1_col0\" class=\"data row1 col0\" >Bash/Shell/PowerShell</td>\n",
       "                        <td id=\"T_9b397ad8_b321_11ea_8468_30d16be382e8row1_col1\" class=\"data row1 col1\" >0.363854</td>\n",
       "                        <td id=\"T_9b397ad8_b321_11ea_8468_30d16be382e8row1_col2\" class=\"data row1 col2\" >0.433860</td>\n",
       "                        <td id=\"T_9b397ad8_b321_11ea_8468_30d16be382e8row1_col3\" class=\"data row1 col3\" >0.070006</td>\n",
       "            </tr>\n",
       "            <tr>\n",
       "                        <th id=\"T_9b397ad8_b321_11ea_8468_30d16be382e8level0_row2\" class=\"row_heading level0 row2\" >2</th>\n",
       "                        <td id=\"T_9b397ad8_b321_11ea_8468_30d16be382e8row2_col0\" class=\"data row2 col0\" >C</td>\n",
       "                        <td id=\"T_9b397ad8_b321_11ea_8468_30d16be382e8row2_col1\" class=\"data row2 col1\" >0.188095</td>\n",
       "                        <td id=\"T_9b397ad8_b321_11ea_8468_30d16be382e8row2_col2\" class=\"data row2 col2\" >0.207544</td>\n",
       "                        <td id=\"T_9b397ad8_b321_11ea_8468_30d16be382e8row2_col3\" class=\"data row2 col3\" >0.019449</td>\n",
       "            </tr>\n",
       "            <tr>\n",
       "                        <th id=\"T_9b397ad8_b321_11ea_8468_30d16be382e8level0_row3\" class=\"row_heading level0 row3\" >3</th>\n",
       "                        <td id=\"T_9b397ad8_b321_11ea_8468_30d16be382e8row3_col0\" class=\"data row3 col0\" >C#</td>\n",
       "                        <td id=\"T_9b397ad8_b321_11ea_8468_30d16be382e8row3_col1\" class=\"data row3 col1\" >0.332194</td>\n",
       "                        <td id=\"T_9b397ad8_b321_11ea_8468_30d16be382e8row3_col2\" class=\"data row3 col2\" >0.327873</td>\n",
       "                        <td id=\"T_9b397ad8_b321_11ea_8468_30d16be382e8row3_col3\" class=\"data row3 col3\" >-0.004322</td>\n",
       "            </tr>\n",
       "            <tr>\n",
       "                        <th id=\"T_9b397ad8_b321_11ea_8468_30d16be382e8level0_row4\" class=\"row_heading level0 row4\" >4</th>\n",
       "                        <td id=\"T_9b397ad8_b321_11ea_8468_30d16be382e8row4_col0\" class=\"data row4 col0\" >C++</td>\n",
       "                        <td id=\"T_9b397ad8_b321_11ea_8468_30d16be382e8row4_col1\" class=\"data row4 col1\" >0.218045</td>\n",
       "                        <td id=\"T_9b397ad8_b321_11ea_8468_30d16be382e8row4_col2\" class=\"data row4 col2\" >0.242815</td>\n",
       "                        <td id=\"T_9b397ad8_b321_11ea_8468_30d16be382e8row4_col3\" class=\"data row4 col3\" >0.024769</td>\n",
       "            </tr>\n",
       "            <tr>\n",
       "                        <th id=\"T_9b397ad8_b321_11ea_8468_30d16be382e8level0_row5\" class=\"row_heading level0 row5\" >5</th>\n",
       "                        <td id=\"T_9b397ad8_b321_11ea_8468_30d16be382e8row5_col0\" class=\"data row5 col0\" >Clojure</td>\n",
       "                        <td id=\"T_9b397ad8_b321_11ea_8468_30d16be382e8row5_col1\" class=\"data row5 col1\" >0.014781</td>\n",
       "                        <td id=\"T_9b397ad8_b321_11ea_8468_30d16be382e8row5_col2\" class=\"data row5 col2\" >0.015391</td>\n",
       "                        <td id=\"T_9b397ad8_b321_11ea_8468_30d16be382e8row5_col3\" class=\"data row5 col3\" >0.000610</td>\n",
       "            </tr>\n",
       "            <tr>\n",
       "                        <th id=\"T_9b397ad8_b321_11ea_8468_30d16be382e8level0_row6\" class=\"row_heading level0 row6\" >6</th>\n",
       "                        <td id=\"T_9b397ad8_b321_11ea_8468_30d16be382e8row6_col0\" class=\"data row6 col0\" >Dart</td>\n",
       "                        <td id=\"T_9b397ad8_b321_11ea_8468_30d16be382e8row6_col1\" class=\"data row6 col1\" >0.020199</td>\n",
       "                        <td id=\"T_9b397ad8_b321_11ea_8468_30d16be382e8row6_col2\" class=\"data row6 col2\" >0.018422</td>\n",
       "                        <td id=\"T_9b397ad8_b321_11ea_8468_30d16be382e8row6_col3\" class=\"data row6 col3\" >-0.001776</td>\n",
       "            </tr>\n",
       "            <tr>\n",
       "                        <th id=\"T_9b397ad8_b321_11ea_8468_30d16be382e8level0_row7\" class=\"row_heading level0 row7\" >7</th>\n",
       "                        <td id=\"T_9b397ad8_b321_11ea_8468_30d16be382e8row7_col0\" class=\"data row7 col0\" >Elixir</td>\n",
       "                        <td id=\"T_9b397ad8_b321_11ea_8468_30d16be382e8row7_col1\" class=\"data row7 col1\" >0.015656</td>\n",
       "                        <td id=\"T_9b397ad8_b321_11ea_8468_30d16be382e8row7_col2\" class=\"data row7 col2\" >0.015857</td>\n",
       "                        <td id=\"T_9b397ad8_b321_11ea_8468_30d16be382e8row7_col3\" class=\"data row7 col3\" >0.000201</td>\n",
       "            </tr>\n",
       "            <tr>\n",
       "                        <th id=\"T_9b397ad8_b321_11ea_8468_30d16be382e8level0_row8\" class=\"row_heading level0 row8\" >8</th>\n",
       "                        <td id=\"T_9b397ad8_b321_11ea_8468_30d16be382e8row8_col0\" class=\"data row8 col0\" >Erlang</td>\n",
       "                        <td id=\"T_9b397ad8_b321_11ea_8468_30d16be382e8row8_col1\" class=\"data row8 col1\" >0.009141</td>\n",
       "                        <td id=\"T_9b397ad8_b321_11ea_8468_30d16be382e8row8_col2\" class=\"data row8 col2\" >0.012068</td>\n",
       "                        <td id=\"T_9b397ad8_b321_11ea_8468_30d16be382e8row8_col3\" class=\"data row8 col3\" >0.002927</td>\n",
       "            </tr>\n",
       "            <tr>\n",
       "                        <th id=\"T_9b397ad8_b321_11ea_8468_30d16be382e8level0_row9\" class=\"row_heading level0 row9\" >9</th>\n",
       "                        <td id=\"T_9b397ad8_b321_11ea_8468_30d16be382e8row9_col0\" class=\"data row9 col0\" >F#</td>\n",
       "                        <td id=\"T_9b397ad8_b321_11ea_8468_30d16be382e8row9_col1\" class=\"data row9 col1\" >0.011683</td>\n",
       "                        <td id=\"T_9b397ad8_b321_11ea_8468_30d16be382e8row9_col2\" class=\"data row9 col2\" >0.013234</td>\n",
       "                        <td id=\"T_9b397ad8_b321_11ea_8468_30d16be382e8row9_col3\" class=\"data row9 col3\" >0.001551</td>\n",
       "            </tr>\n",
       "            <tr>\n",
       "                        <th id=\"T_9b397ad8_b321_11ea_8468_30d16be382e8level0_row10\" class=\"row_heading level0 row10\" >10</th>\n",
       "                        <td id=\"T_9b397ad8_b321_11ea_8468_30d16be382e8row10_col0\" class=\"data row10 col0\" >Go</td>\n",
       "                        <td id=\"T_9b397ad8_b321_11ea_8468_30d16be382e8row10_col1\" class=\"data row10 col1\" >0.085476</td>\n",
       "                        <td id=\"T_9b397ad8_b321_11ea_8468_30d16be382e8row10_col2\" class=\"data row10 col2\" >0.086632</td>\n",
       "                        <td id=\"T_9b397ad8_b321_11ea_8468_30d16be382e8row10_col3\" class=\"data row10 col3\" >0.001156</td>\n",
       "            </tr>\n",
       "            <tr>\n",
       "                        <th id=\"T_9b397ad8_b321_11ea_8468_30d16be382e8level0_row11\" class=\"row_heading level0 row11\" >11</th>\n",
       "                        <td id=\"T_9b397ad8_b321_11ea_8468_30d16be382e8row11_col0\" class=\"data row11 col0\" >HTML/CSS</td>\n",
       "                        <td id=\"T_9b397ad8_b321_11ea_8468_30d16be382e8row11_col1\" class=\"data row11 col1\" >0.661652</td>\n",
       "                        <td id=\"T_9b397ad8_b321_11ea_8468_30d16be382e8row11_col2\" class=\"data row11 col2\" >0.650907</td>\n",
       "                        <td id=\"T_9b397ad8_b321_11ea_8468_30d16be382e8row11_col3\" class=\"data row11 col3\" >-0.010745</td>\n",
       "            </tr>\n",
       "            <tr>\n",
       "                        <th id=\"T_9b397ad8_b321_11ea_8468_30d16be382e8level0_row12\" class=\"row_heading level0 row12\" >12</th>\n",
       "                        <td id=\"T_9b397ad8_b321_11ea_8468_30d16be382e8row12_col0\" class=\"data row12 col0\" >Java</td>\n",
       "                        <td id=\"T_9b397ad8_b321_11ea_8468_30d16be382e8row12_col1\" class=\"data row12 col1\" >0.416892</td>\n",
       "                        <td id=\"T_9b397ad8_b321_11ea_8468_30d16be382e8row12_col2\" class=\"data row12 col2\" >0.371888</td>\n",
       "                        <td id=\"T_9b397ad8_b321_11ea_8468_30d16be382e8row12_col3\" class=\"data row12 col3\" >-0.045004</td>\n",
       "            </tr>\n",
       "            <tr>\n",
       "                        <th id=\"T_9b397ad8_b321_11ea_8468_30d16be382e8level0_row13\" class=\"row_heading level0 row13\" >13</th>\n",
       "                        <td id=\"T_9b397ad8_b321_11ea_8468_30d16be382e8row13_col0\" class=\"data row13 col0\" >JavaScript</td>\n",
       "                        <td id=\"T_9b397ad8_b321_11ea_8468_30d16be382e8row13_col1\" class=\"data row13 col1\" >0.724401</td>\n",
       "                        <td id=\"T_9b397ad8_b321_11ea_8468_30d16be382e8row13_col2\" class=\"data row13 col2\" >0.663266</td>\n",
       "                        <td id=\"T_9b397ad8_b321_11ea_8468_30d16be382e8row13_col3\" class=\"data row13 col3\" >-0.061135</td>\n",
       "            </tr>\n",
       "            <tr>\n",
       "                        <th id=\"T_9b397ad8_b321_11ea_8468_30d16be382e8level0_row14\" class=\"row_heading level0 row14\" >14</th>\n",
       "                        <td id=\"T_9b397ad8_b321_11ea_8468_30d16be382e8row14_col0\" class=\"data row14 col0\" >Kotlin</td>\n",
       "                        <td id=\"T_9b397ad8_b321_11ea_8468_30d16be382e8row14_col1\" class=\"data row14 col1\" >0.070070</td>\n",
       "                        <td id=\"T_9b397ad8_b321_11ea_8468_30d16be382e8row14_col2\" class=\"data row14 col2\" >0.045648</td>\n",
       "                        <td id=\"T_9b397ad8_b321_11ea_8468_30d16be382e8row14_col3\" class=\"data row14 col3\" >-0.024422</td>\n",
       "            </tr>\n",
       "            <tr>\n",
       "                        <th id=\"T_9b397ad8_b321_11ea_8468_30d16be382e8level0_row15\" class=\"row_heading level0 row15\" >15</th>\n",
       "                        <td id=\"T_9b397ad8_b321_11ea_8468_30d16be382e8row15_col0\" class=\"data row15 col0\" >Objective-C</td>\n",
       "                        <td id=\"T_9b397ad8_b321_11ea_8468_30d16be382e8row15_col1\" class=\"data row15 col1\" >0.053025</td>\n",
       "                        <td id=\"T_9b397ad8_b321_11ea_8468_30d16be382e8row15_col2\" class=\"data row15 col2\" >0.040284</td>\n",
       "                        <td id=\"T_9b397ad8_b321_11ea_8468_30d16be382e8row15_col3\" class=\"data row15 col3\" >-0.012740</td>\n",
       "            </tr>\n",
       "            <tr>\n",
       "                        <th id=\"T_9b397ad8_b321_11ea_8468_30d16be382e8level0_row16\" class=\"row_heading level0 row16\" >16</th>\n",
       "                        <td id=\"T_9b397ad8_b321_11ea_8468_30d16be382e8row16_col0\" class=\"data row16 col0\" >Other(s):</td>\n",
       "                        <td id=\"T_9b397ad8_b321_11ea_8468_30d16be382e8row16_col1\" class=\"data row16 col1\" >0.084934</td>\n",
       "                        <td id=\"T_9b397ad8_b321_11ea_8468_30d16be382e8row16_col2\" class=\"data row16 col2\" >0.114499</td>\n",
       "                        <td id=\"T_9b397ad8_b321_11ea_8468_30d16be382e8row16_col3\" class=\"data row16 col3\" >0.029565</td>\n",
       "            </tr>\n",
       "            <tr>\n",
       "                        <th id=\"T_9b397ad8_b321_11ea_8468_30d16be382e8level0_row17\" class=\"row_heading level0 row17\" >17</th>\n",
       "                        <td id=\"T_9b397ad8_b321_11ea_8468_30d16be382e8row17_col0\" class=\"data row17 col0\" >PHP</td>\n",
       "                        <td id=\"T_9b397ad8_b321_11ea_8468_30d16be382e8row17_col1\" class=\"data row17 col1\" >0.277822</td>\n",
       "                        <td id=\"T_9b397ad8_b321_11ea_8468_30d16be382e8row17_col2\" class=\"data row17 col2\" >0.319128</td>\n",
       "                        <td id=\"T_9b397ad8_b321_11ea_8468_30d16be382e8row17_col3\" class=\"data row17 col3\" >0.041306</td>\n",
       "            </tr>\n",
       "            <tr>\n",
       "                        <th id=\"T_9b397ad8_b321_11ea_8468_30d16be382e8level0_row18\" class=\"row_heading level0 row18\" >18</th>\n",
       "                        <td id=\"T_9b397ad8_b321_11ea_8468_30d16be382e8row18_col0\" class=\"data row18 col0\" >Python</td>\n",
       "                        <td id=\"T_9b397ad8_b321_11ea_8468_30d16be382e8row18_col1\" class=\"data row18 col1\" >0.375801</td>\n",
       "                        <td id=\"T_9b397ad8_b321_11ea_8468_30d16be382e8row18_col2\" class=\"data row18 col2\" >0.547776</td>\n",
       "                        <td id=\"T_9b397ad8_b321_11ea_8468_30d16be382e8row18_col3\" class=\"data row18 col3\" >0.171975</td>\n",
       "            </tr>\n",
       "            <tr>\n",
       "                        <th id=\"T_9b397ad8_b321_11ea_8468_30d16be382e8level0_row19\" class=\"row_heading level0 row19\" >19</th>\n",
       "                        <td id=\"T_9b397ad8_b321_11ea_8468_30d16be382e8row19_col0\" class=\"data row19 col0\" >R</td>\n",
       "                        <td id=\"T_9b397ad8_b321_11ea_8468_30d16be382e8row19_col1\" class=\"data row19 col1\" >0.037688</td>\n",
       "                        <td id=\"T_9b397ad8_b321_11ea_8468_30d16be382e8row19_col2\" class=\"data row19 col2\" >0.157582</td>\n",
       "                        <td id=\"T_9b397ad8_b321_11ea_8468_30d16be382e8row19_col3\" class=\"data row19 col3\" >0.119893</td>\n",
       "            </tr>\n",
       "            <tr>\n",
       "                        <th id=\"T_9b397ad8_b321_11ea_8468_30d16be382e8level0_row20\" class=\"row_heading level0 row20\" >20</th>\n",
       "                        <td id=\"T_9b397ad8_b321_11ea_8468_30d16be382e8row20_col0\" class=\"data row20 col0\" >Ruby</td>\n",
       "                        <td id=\"T_9b397ad8_b321_11ea_8468_30d16be382e8row20_col1\" class=\"data row20 col1\" >0.088435</td>\n",
       "                        <td id=\"T_9b397ad8_b321_11ea_8468_30d16be382e8row20_col2\" class=\"data row20 col2\" >0.073107</td>\n",
       "                        <td id=\"T_9b397ad8_b321_11ea_8468_30d16be382e8row20_col3\" class=\"data row20 col3\" >-0.015328</td>\n",
       "            </tr>\n",
       "            <tr>\n",
       "                        <th id=\"T_9b397ad8_b321_11ea_8468_30d16be382e8level0_row21\" class=\"row_heading level0 row21\" >21</th>\n",
       "                        <td id=\"T_9b397ad8_b321_11ea_8468_30d16be382e8row21_col0\" class=\"data row21 col0\" >Rust</td>\n",
       "                        <td id=\"T_9b397ad8_b321_11ea_8468_30d16be382e8row21_col1\" class=\"data row21 col1\" >0.030506</td>\n",
       "                        <td id=\"T_9b397ad8_b321_11ea_8468_30d16be382e8row21_col2\" class=\"data row21 col2\" >0.029616</td>\n",
       "                        <td id=\"T_9b397ad8_b321_11ea_8468_30d16be382e8row21_col3\" class=\"data row21 col3\" >-0.000891</td>\n",
       "            </tr>\n",
       "            <tr>\n",
       "                        <th id=\"T_9b397ad8_b321_11ea_8468_30d16be382e8level0_row22\" class=\"row_heading level0 row22\" >22</th>\n",
       "                        <td id=\"T_9b397ad8_b321_11ea_8468_30d16be382e8row22_col0\" class=\"data row22 col0\" >SQL</td>\n",
       "                        <td id=\"T_9b397ad8_b321_11ea_8468_30d16be382e8row22_col1\" class=\"data row22 col1\" >0.568702</td>\n",
       "                        <td id=\"T_9b397ad8_b321_11ea_8468_30d16be382e8row22_col2\" class=\"data row22 col2\" >0.719291</td>\n",
       "                        <td id=\"T_9b397ad8_b321_11ea_8468_30d16be382e8row22_col3\" class=\"data row22 col3\" >0.150589</td>\n",
       "            </tr>\n",
       "            <tr>\n",
       "                        <th id=\"T_9b397ad8_b321_11ea_8468_30d16be382e8level0_row23\" class=\"row_heading level0 row23\" >23</th>\n",
       "                        <td id=\"T_9b397ad8_b321_11ea_8468_30d16be382e8row23_col0\" class=\"data row23 col0\" >Scala</td>\n",
       "                        <td id=\"T_9b397ad8_b321_11ea_8468_30d16be382e8row23_col1\" class=\"data row23 col1\" >0.038564</td>\n",
       "                        <td id=\"T_9b397ad8_b321_11ea_8468_30d16be382e8row23_col2\" class=\"data row23 col2\" >0.052586</td>\n",
       "                        <td id=\"T_9b397ad8_b321_11ea_8468_30d16be382e8row23_col3\" class=\"data row23 col3\" >0.014022</td>\n",
       "            </tr>\n",
       "            <tr>\n",
       "                        <th id=\"T_9b397ad8_b321_11ea_8468_30d16be382e8level0_row24\" class=\"row_heading level0 row24\" >24</th>\n",
       "                        <td id=\"T_9b397ad8_b321_11ea_8468_30d16be382e8row24_col0\" class=\"data row24 col0\" >Swift</td>\n",
       "                        <td id=\"T_9b397ad8_b321_11ea_8468_30d16be382e8row24_col1\" class=\"data row24 col1\" >0.070390</td>\n",
       "                        <td id=\"T_9b397ad8_b321_11ea_8468_30d16be382e8row24_col2\" class=\"data row24 col2\" >0.050254</td>\n",
       "                        <td id=\"T_9b397ad8_b321_11ea_8468_30d16be382e8row24_col3\" class=\"data row24 col3\" >-0.020136</td>\n",
       "            </tr>\n",
       "            <tr>\n",
       "                        <th id=\"T_9b397ad8_b321_11ea_8468_30d16be382e8level0_row25\" class=\"row_heading level0 row25\" >25</th>\n",
       "                        <td id=\"T_9b397ad8_b321_11ea_8468_30d16be382e8row25_col0\" class=\"data row25 col0\" >TypeScript</td>\n",
       "                        <td id=\"T_9b397ad8_b321_11ea_8468_30d16be382e8row25_col1\" class=\"data row25 col1\" >0.241939</td>\n",
       "                        <td id=\"T_9b397ad8_b321_11ea_8468_30d16be382e8row25_col2\" class=\"data row25 col2\" >0.180610</td>\n",
       "                        <td id=\"T_9b397ad8_b321_11ea_8468_30d16be382e8row25_col3\" class=\"data row25 col3\" >-0.061329</td>\n",
       "            </tr>\n",
       "            <tr>\n",
       "                        <th id=\"T_9b397ad8_b321_11ea_8468_30d16be382e8level0_row26\" class=\"row_heading level0 row26\" >26</th>\n",
       "                        <td id=\"T_9b397ad8_b321_11ea_8468_30d16be382e8row26_col0\" class=\"data row26 col0\" >VBA</td>\n",
       "                        <td id=\"T_9b397ad8_b321_11ea_8468_30d16be382e8row26_col1\" class=\"data row26 col1\" >0.049927</td>\n",
       "                        <td id=\"T_9b397ad8_b321_11ea_8468_30d16be382e8row26_col2\" class=\"data row26 col2\" >0.110068</td>\n",
       "                        <td id=\"T_9b397ad8_b321_11ea_8468_30d16be382e8row26_col3\" class=\"data row26 col3\" >0.060141</td>\n",
       "            </tr>\n",
       "            <tr>\n",
       "                        <th id=\"T_9b397ad8_b321_11ea_8468_30d16be382e8level0_row27\" class=\"row_heading level0 row27\" >27</th>\n",
       "                        <td id=\"T_9b397ad8_b321_11ea_8468_30d16be382e8row27_col0\" class=\"data row27 col0\" >WebAssembly</td>\n",
       "                        <td id=\"T_9b397ad8_b321_11ea_8468_30d16be382e8row27_col1\" class=\"data row27 col1\" >0.011447</td>\n",
       "                        <td id=\"T_9b397ad8_b321_11ea_8468_30d16be382e8row27_col2\" class=\"data row27 col2\" >0.015566</td>\n",
       "                        <td id=\"T_9b397ad8_b321_11ea_8468_30d16be382e8row27_col3\" class=\"data row27 col3\" >0.004119</td>\n",
       "            </tr>\n",
       "    </tbody></table>"
      ],
      "text/plain": [
       "<pandas.io.formats.style.Styler at 0x20229a8f788>"
      ]
     },
     "execution_count": 63,
     "metadata": {},
     "output_type": "execute_result"
    }
   ],
   "source": [
    "# Create summary dataframe\n",
    "language_props = create_summary(languages_ds, languages_sd, 'LanguageWorkedWith', drop = False, multi = True)\n",
    "\n",
    "# Create difference plot\n",
    "language_props['Diff'] = language_props['Data Scientists'] - language_props['Software Developers']\n",
    "language_props.style.bar(subset = ['Diff'], align = 'mid', color = ['#d65f5f', '#5fba7d'])"
   ]
  },
  {
   "cell_type": "code",
   "execution_count": 64,
   "metadata": {},
   "outputs": [
    {
     "name": "stdout",
     "output_type": "stream",
     "text": [
      "[('SQL', 12338), ('JavaScript', 11377), ('HTML/CSS', 11165), ('Python', 9396), ('Bash/Shell/PowerShell', 7442), ('Java', 6379), ('C#', 5624), ('PHP', 5474), ('C++', 4165), ('C', 3560)]\n"
     ]
    }
   ],
   "source": [
    "# Get top 10 languages used by data scientists\n",
    "ctr_ds = Counter(languages_ds['LanguageWorkedWith']).most_common(10)\n",
    "print(ctr_ds)\n",
    "\n",
    "top10_ds = list(list(zip(*ctr_ds))[0])"
   ]
  },
  {
   "cell_type": "code",
   "execution_count": 65,
   "metadata": {},
   "outputs": [
    {
     "name": "stdout",
     "output_type": "stream",
     "text": [
      "[('JavaScript', 52146), ('HTML/CSS', 47629), ('SQL', 40938), ('Java', 30010), ('Python', 27052), ('Bash/Shell/PowerShell', 26192), ('C#', 23913), ('PHP', 19999), ('TypeScript', 17416), ('C++', 15696)]\n"
     ]
    }
   ],
   "source": [
    "# Get top 10 languages used by non-data scientists\n",
    "ctr_non_ds = Counter(languages_sd['LanguageWorkedWith']).most_common(10)\n",
    "print(ctr_non_ds)\n",
    "\n",
    "top10_non_ds = list(list(zip(*ctr_non_ds))[0])"
   ]
  },
  {
   "cell_type": "code",
   "execution_count": 66,
   "metadata": {},
   "outputs": [
    {
     "data": {
      "image/png": "[encoded data removed]",
      "text/plain": [
       "<Figure size 499.875x360 with 1 Axes>"
      ]
     },
     "metadata": {
      "needs_background": "light"
     },
     "output_type": "display_data"
    }
   ],
   "source": [
    "# Create top 10 languages comparison plot for data scientists\n",
    "top10_props_ds = language_props[language_props['LanguageWorkedWith'].isin(top10_ds)].sort_values('Data Scientists', ascending = False)\n",
    "top10_props_ds.drop('Diff', axis = 1, inplace = True)\n",
    "\n",
    "create_bar_plot(top10_props_ds, 'LanguageWorkedWith', 'Programming Language', \n",
    "                'Top 10 Programming Languages For Data Scientists', rot = 90)"
   ]
  },
  {
   "cell_type": "code",
   "execution_count": 67,
   "metadata": {},
   "outputs": [
    {
     "data": {
      "image/png": "[encoded data removed]",
      "text/plain": [
       "<Figure size 499.875x360 with 1 Axes>"
      ]
     },
     "metadata": {
      "needs_background": "light"
     },
     "output_type": "display_data"
    }
   ],
   "source": [
    "# Create top 10 languages comparison plot for non-data scientists\n",
    "top10_props_non_ds = language_props[language_props['LanguageWorkedWith'].isin(top10_non_ds)].sort_values('Software Developers', ascending = False)\n",
    "top10_props_non_ds.drop('Diff', axis = 1, inplace = True)\n",
    "\n",
    "create_bar_plot(top10_props_non_ds, 'LanguageWorkedWith', 'Programming Language', \n",
    "                'Top 10 Programming Languages For Software Developers', rot = 90)"
   ]
  },
  {
   "cell_type": "markdown",
   "metadata": {},
   "source": [
    "There are lots of overlaps between the top 10 programming languages used by data scientists and software developers. Data scientists are much more likely use Python, SQL, shell scripting, bash. While software developers are more likely to program in HTML, CSS, JavaScript and Java. Nonetheless, data scientists are also competing with the developers in front-end development. This could be because data storytelling is associated with how you present your findings. In this context, no wonder HTML/CSS and JavaScript are becoming common among data professionals."
   ]
  },
  {
   "cell_type": "markdown",
   "metadata": {},
   "source": [
    "# ** How much professional coding experience do data scientists have compared to software developers?*"
   ]
  },
  {
   "cell_type": "code",
   "execution_count": 68,
   "metadata": {},
   "outputs": [
    {
     "name": "stdout",
     "output_type": "stream",
     "text": [
      "             YearsCode  Software Developers  Data Scientists\n",
      "0     Less than 1 year             0.008391         0.009171\n",
      "1                    1             0.014732         0.013292\n",
      "2                    2             0.035279         0.033142\n",
      "3                    3             0.049831         0.048465\n",
      "4                    4             0.059329         0.057635\n",
      "5                    5             0.076664         0.072610\n",
      "6                    6             0.070807         0.063672\n",
      "7                    7             0.062943         0.052644\n",
      "8                    8             0.063940         0.057403\n",
      "9                    9             0.041191         0.034593\n",
      "10                  10             0.081012         0.078646\n",
      "11                  15             0.048696         0.048987\n",
      "12                  20             0.044279         0.049161\n",
      "13                  25             0.019813         0.026409\n",
      "14                  30             0.017584         0.023855\n",
      "15                  35             0.009817         0.015903\n",
      "16                  40             0.005289         0.007603\n",
      "17                  45             0.000997         0.001393\n",
      "18                  50             0.000360         0.000522\n",
      "19  More than 50 years             0.000526         0.001335\n"
     ]
    }
   ],
   "source": [
    "# Create summary dataframe\n",
    "coding_props = create_summary(survey_ds, survey_sd, 'YearsCode',  index_order = ['Less than 1 year','1','2','3','4','5','6','7','8','9','10','15','20','25','30','35','40','45','50','More than 50 years'], drop = False)\n",
    "\n",
    "print(coding_props)"
   ]
  },
  {
   "cell_type": "code",
   "execution_count": 69,
   "metadata": {},
   "outputs": [
    {
     "data": {
      "image/png": "[encoded data removed]",
      "text/plain": [
       "<Figure size 499.875x360 with 1 Axes>"
      ]
     },
     "metadata": {
      "needs_background": "light"
     },
     "output_type": "display_data"
    }
   ],
   "source": [
    "# Create comparison plot\n",
    "create_bar_plot(coding_props, 'YearsCode', 'Years Experience', 'Coding Experience in Years', rot = 90)"
   ]
  },
  {
   "cell_type": "code",
   "execution_count": 70,
   "metadata": {},
   "outputs": [
    {
     "name": "stdout",
     "output_type": "stream",
     "text": [
      "          YearsCodePro  Software Developers  Data Scientists\n",
      "0     Less than 1 year             0.049723         0.042377\n",
      "1                    1             0.058263         0.054430\n",
      "2                    2             0.106323         0.101808\n",
      "3                    3             0.105175         0.101423\n",
      "4                    4             0.086374         0.079754\n",
      "5                    5             0.087462         0.082767\n",
      "6                    6             0.062585         0.055840\n",
      "7                    7             0.050479         0.045262\n",
      "8                    8             0.047744         0.044557\n",
      "9                    9             0.027446         0.028145\n",
      "10                  10             0.058550         0.061995\n",
      "11                  15             0.028277         0.031350\n",
      "12                  20             0.026509         0.034812\n",
      "13                  25             0.009612         0.014297\n",
      "14                  30             0.006635         0.010065\n",
      "15                  35             0.002736         0.003911\n",
      "16                  40             0.001239         0.002693\n",
      "17                  45             0.000196         0.000641\n",
      "18                  50             0.000076         0.000064\n",
      "19  More than 50 years             0.000332         0.000962\n"
     ]
    }
   ],
   "source": [
    "# Create summary dataframe\n",
    "coding_prof_props = create_summary(survey_ds, survey_sd, 'YearsCodePro',  index_order = ['Less than 1 year','1','2','3','4','5','6','7','8','9','10','15','20','25','30','35','40','45','50','More than 50 years'], drop = False)\n",
    "\n",
    "print(coding_prof_props)"
   ]
  },
  {
   "cell_type": "code",
   "execution_count": 71,
   "metadata": {},
   "outputs": [
    {
     "data": {
      "image/png": "[encoded data removed]",
      "text/plain": [
       "<Figure size 499.875x360 with 1 Axes>"
      ]
     },
     "metadata": {
      "needs_background": "light"
     },
     "output_type": "display_data"
    }
   ],
   "source": [
    "# Create comparison plot\n",
    "create_bar_plot(coding_prof_props, 'YearsCodePro', 'Professional Coding Experience', \n",
    "                'Professional Coding Experience in Years', rot = 90)"
   ]
  },
  {
   "cell_type": "markdown",
   "metadata": {},
   "source": [
    "Most data scientists have professional coding experience of 2-4 years which is less as expected when compared to software developers. This makes sense because data scientists must demonstrate some coding experience to excel in their field."
   ]
  },
  {
   "cell_type": "code",
   "execution_count": 72,
   "metadata": {},
   "outputs": [
    {
     "name": "stdout",
     "output_type": "stream",
     "text": [
      "<class 'pandas.core.frame.DataFrame'>\n",
      "Int64Index: 81335 entries, 1 to 88877\n",
      "Data columns (total 85 columns):\n",
      " #   Column                  Non-Null Count  Dtype  \n",
      "---  ------                  --------------  -----  \n",
      " 0   Respondent              81335 non-null  int64  \n",
      " 1   MainBranch              81071 non-null  object \n",
      " 2   Hobbyist                81335 non-null  object \n",
      " 3   OpenSourcer             81335 non-null  object \n",
      " 4   OpenSource              79748 non-null  object \n",
      " 5   Employment              81335 non-null  object \n",
      " 6   Country                 81335 non-null  object \n",
      " 7   Student                 80262 non-null  object \n",
      " 8   EdLevel                 79760 non-null  object \n",
      " 9   UndergradMajor          71834 non-null  object \n",
      " 10  EduOther                77904 non-null  object \n",
      " 11  OrgSize                 70677 non-null  object \n",
      " 12  DevType                 81335 non-null  object \n",
      " 13  YearsCode               80974 non-null  object \n",
      " 14  Age1stCode              80722 non-null  object \n",
      " 15  YearsCodePro            72338 non-null  object \n",
      " 16  CareerSat               71363 non-null  object \n",
      " 17  JobSat                  69706 non-null  object \n",
      " 18  MgrIdiot                60104 non-null  object \n",
      " 19  MgrMoney                60098 non-null  object \n",
      " 20  MgrWant                 60176 non-null  object \n",
      " 21  JobSeek                 78167 non-null  object \n",
      " 22  LastHireDate            77770 non-null  object \n",
      " 23  LastInt                 66071 non-null  object \n",
      " 24  FizzBuzz                70149 non-null  object \n",
      " 25  JobFactors              77364 non-null  object \n",
      " 26  ResumeUpdate            76079 non-null  object \n",
      " 27  CurrencySymbol          69934 non-null  object \n",
      " 28  CurrencyDesc            69934 non-null  object \n",
      " 29  CompTotal               55197 non-null  float64\n",
      " 30  CompFreq                62330 non-null  object \n",
      " 31  ConvertedComp           55081 non-null  float64\n",
      " 32  WorkWeekHrs             63575 non-null  float64\n",
      " 33  WorkPlan                67827 non-null  object \n",
      " 34  WorkChallenge           67048 non-null  object \n",
      " 35  WorkRemote              69127 non-null  object \n",
      " 36  WorkLoc                 68886 non-null  object \n",
      " 37  ImpSyn                  70586 non-null  object \n",
      " 38  CodeRev                 69216 non-null  object \n",
      " 39  CodeRevHrs              49229 non-null  float64\n",
      " 40  UnitTests               61640 non-null  object \n",
      " 41  PurchaseHow             60162 non-null  object \n",
      " 42  PurchaseWhat            61031 non-null  object \n",
      " 43  LanguageWorkedWith      80532 non-null  object \n",
      " 44  LanguageDesireNextYear  77391 non-null  object \n",
      " 45  DatabaseWorkedWith      71290 non-null  object \n",
      " 46  DatabaseDesireNextYear  64804 non-null  object \n",
      " 47  PlatformWorkedWith      74643 non-null  object \n",
      " 48  PlatformDesireNextYear  71570 non-null  object \n",
      " 49  WebFrameWorkedWith      61434 non-null  object \n",
      " 50  WebFrameDesireNextYear  59232 non-null  object \n",
      " 51  MiscTechWorkedWith      55617 non-null  object \n",
      " 52  MiscTechDesireNextYear  60136 non-null  object \n",
      " 53  DevEnviron              80359 non-null  object \n",
      " 54  OpSys                   80699 non-null  object \n",
      " 55  Containers              78780 non-null  object \n",
      " 56  BlockchainOrg           47427 non-null  object \n",
      " 57  BlockchainIs            55574 non-null  object \n",
      " 58  BetterLife              79354 non-null  object \n",
      " 59  ITperson                80095 non-null  object \n",
      " 60  OffOn                   79693 non-null  object \n",
      " 61  SocialMedia             77752 non-null  object \n",
      " 62  Extraversion            80274 non-null  object \n",
      " 63  ScreenName              74250 non-null  object \n",
      " 64  SOVisit1st              77170 non-null  object \n",
      " 65  SOVisitFreq             81028 non-null  object \n",
      " 66  SOVisitTo               80909 non-null  object \n",
      " 67  SOFindAnswer            80721 non-null  object \n",
      " 68  SOTimeSaved             79471 non-null  object \n",
      " 69  SOHowMuchTime           63063 non-null  object \n",
      " 70  SOAccount               80736 non-null  object \n",
      " 71  SOPartFreq              69187 non-null  object \n",
      " 72  SOJobs                  80903 non-null  object \n",
      " 73  EntTeams                80741 non-null  object \n",
      " 74  SOComm                  80956 non-null  object \n",
      " 75  WelcomeChange           79029 non-null  object \n",
      " 76  SONewContent            63966 non-null  object \n",
      " 77  Age                     73565 non-null  float64\n",
      " 78  Gender                  78788 non-null  object \n",
      " 79  Trans                   77201 non-null  object \n",
      " 80  Sexuality               70620 non-null  object \n",
      " 81  Ethnicity               70945 non-null  object \n",
      " 82  Dependents              76833 non-null  object \n",
      " 83  SurveyLength            80044 non-null  object \n",
      " 84  SurveyEase              80153 non-null  object \n",
      "dtypes: float64(5), int64(1), object(79)\n",
      "memory usage: 53.4+ MB\n"
     ]
    }
   ],
   "source": [
    "survey.info()"
   ]
  },
  {
   "cell_type": "markdown",
   "metadata": {},
   "source": [
    "# ** Work Location Preference among Data Scientists vs Software developers* "
   ]
  },
  {
   "cell_type": "code",
   "execution_count": 73,
   "metadata": {},
   "outputs": [
    {
     "data": {
      "text/plain": [
       "Office                                            39964\n",
       "Home                                              22860\n",
       "Other place, such as a coworking space or cafe     6062\n",
       "Name: WorkLoc, dtype: int64"
      ]
     },
     "execution_count": 73,
     "metadata": {},
     "output_type": "execute_result"
    }
   ],
   "source": [
    "survey['WorkLoc'].value_counts()"
   ]
  },
  {
   "cell_type": "code",
   "execution_count": 74,
   "metadata": {},
   "outputs": [],
   "source": [
    "# Convert Age to numeric\n",
    "def convert_workloc(df):\n",
    "    \"\"\"Add a new field, Age_Num, to dataframe, containing numeric values equivalent to the midpoints of the corresponding\n",
    "    Age range values.\n",
    "    \n",
    "    Args:\n",
    "    df: dataframe. Dataframe containing the field Age.\n",
    "       \n",
    "    Returns:\n",
    "    df: dataframe. Modified version of the input dataframe containing a new field, Age_Num.\n",
    "    \"\"\"\n",
    "    conditions_work = [(df['WorkLoc'] == 'Home'),\n",
    "                      (df['WorkLoc'] == 'Office'),\n",
    "                       (df['WorkLoc']== 'Other place, such as a coworking space or cafe')]\n",
    "\n",
    "    choices_work = ['Work from Home','Office','Other place, such as a coworking space or cafe']\n",
    "\n",
    "    df['Better_Life'] = np.select(conditions_work, choices_work, default = np.NaN)\n",
    "    \n",
    "    return df\n",
    "\n",
    "# Apply function to subsets\n",
    "survey_ds = convert_workloc(survey_ds)\n",
    "survey_sd = convert_workloc(survey_sd)"
   ]
  },
  {
   "cell_type": "code",
   "execution_count": 75,
   "metadata": {},
   "outputs": [
    {
     "name": "stdout",
     "output_type": "stream",
     "text": [
      "                                          WorkLoc  Software Developers  \\\n",
      "0                                  Work from Home             0.000000   \n",
      "1                                          Office             0.577878   \n",
      "2  Other place, such as a coworking space or cafe             0.086850   \n",
      "\n",
      "   Data Scientists  \n",
      "0         0.000000  \n",
      "1         0.540403  \n",
      "2         0.099396  \n"
     ]
    }
   ],
   "source": [
    "# Create summary dataframe\n",
    "work_loc = create_summary(survey_ds, survey_sd, 'WorkLoc',  index_order = ['Work from Home','Office','Other place, such as a coworking space or cafe'], drop = False)\n",
    "\n",
    "print(work_loc)"
   ]
  },
  {
   "cell_type": "code",
   "execution_count": 76,
   "metadata": {},
   "outputs": [
    {
     "data": {
      "image/png": "[encoded data removed]",
      "text/plain": [
       "<Figure size 499.875x360 with 1 Axes>"
      ]
     },
     "metadata": {
      "needs_background": "light"
     },
     "output_type": "display_data"
    }
   ],
   "source": [
    "# Create comparison plot\n",
    "create_bar_plot(work_loc, 'WorkLoc', 'Work Location', \n",
    "                'Preferred Work Location', rot = 45)"
   ]
  },
  {
   "cell_type": "markdown",
   "metadata": {},
   "source": [
    "**This is not strange because the survey responses of our dataset is for the year 2019, when coronavirus was not a thing. I am looking forward to do analysis for the year 2020 because I am definitely sure the results for the work preference would be contrary to this one? Which one do you think would be the most dominant answer? This should be an easy guess.*"
   ]
  },
  {
   "cell_type": "markdown",
   "metadata": {},
   "source": [
    "# ** Who spends a better life: Software Developers or Data Scientists?*"
   ]
  },
  {
   "cell_type": "code",
   "execution_count": 77,
   "metadata": {},
   "outputs": [
    {
     "data": {
      "text/plain": [
       "array(['Yes', 'No', nan], dtype=object)"
      ]
     },
     "execution_count": 77,
     "metadata": {},
     "output_type": "execute_result"
    }
   ],
   "source": [
    "survey['BetterLife'].unique()"
   ]
  },
  {
   "cell_type": "code",
   "execution_count": 78,
   "metadata": {},
   "outputs": [],
   "source": [
    "# Convert Age to numeric\n",
    "def convert_betterlife(df):\n",
    "    \"\"\"Add a new field, Age_Num, to dataframe, containing numeric values equivalent to the midpoints of the corresponding\n",
    "    Age range values.\n",
    "    \n",
    "    Args:\n",
    "    df: dataframe. Dataframe containing the field Age.\n",
    "       \n",
    "    Returns:\n",
    "    df: dataframe. Modified version of the input dataframe containing a new field, Age_Num.\n",
    "    \"\"\"\n",
    "    conditions_life = [(df['BetterLife'] == 'Yes'),\n",
    "                      (df['BetterLife'] == 'No')]\n",
    "\n",
    "    choices_life = ['Yes','No']\n",
    "\n",
    "    df['Better_Life'] = np.select(conditions_life, choices_life, default = np.NaN)\n",
    "    \n",
    "    return df\n",
    "\n",
    "# Apply function to subsets\n",
    "survey_ds = convert_betterlife(survey_ds)\n",
    "survey_sd = convert_betterlife(survey_sd)"
   ]
  },
  {
   "cell_type": "code",
   "execution_count": 79,
   "metadata": {},
   "outputs": [
    {
     "name": "stdout",
     "output_type": "stream",
     "text": [
      "  BetterLife  Software Developers  Data Scientists\n",
      "0        Yes             0.635297         0.627664\n",
      "1         No             0.364703         0.372336\n"
     ]
    }
   ],
   "source": [
    "# Create summary dataframe\n",
    "better_life = create_summary(survey_ds, survey_sd, 'BetterLife',  index_order = ['Yes','No'], drop = False)\n",
    "\n",
    "print(better_life)"
   ]
  },
  {
   "cell_type": "code",
   "execution_count": 80,
   "metadata": {
    "scrolled": true
   },
   "outputs": [
    {
     "data": {
      "image/png": "[encoded data removed]",
      "text/plain": [
       "<Figure size 499.875x360 with 1 Axes>"
      ]
     },
     "metadata": {
      "needs_background": "light"
     },
     "output_type": "display_data"
    }
   ],
   "source": [
    "# Create comparison plot\n",
    "create_bar_plot(better_life, 'BetterLife', 'Better Life', \n",
    "                'Work Life Balance', rot = 45)"
   ]
  },
  {
   "cell_type": "markdown",
   "metadata": {},
   "source": [
    "We see that software developers and data scientists are quite similar in their work life balance. Almost equal proportions of the two groups either enjoy their profession on a same scale or they simply don't enjoy both. "
   ]
  },
  {
   "cell_type": "markdown",
   "metadata": {},
   "source": [
    "# ** Deployment*"
   ]
  },
  {
   "cell_type": "markdown",
   "metadata": {},
   "source": [
    "### **Please visit the blog post to retain a broader picture of this analysis!*"
   ]
  }
 ],
 "metadata": {
  "kernelspec": {
   "display_name": "Python 3",
   "language": "python",
   "name": "python3"
  },
  "language_info": {
   "codemirror_mode": {
    "name": "ipython",
    "version": 3
   },
   "file_extension": ".py",
   "mimetype": "text/x-python",
   "name": "python",
   "nbconvert_exporter": "python",
   "pygments_lexer": "ipython3",
   "version": "3.7.4"
  }
 },
 "nbformat": 4,
 "nbformat_minor": 4
}
